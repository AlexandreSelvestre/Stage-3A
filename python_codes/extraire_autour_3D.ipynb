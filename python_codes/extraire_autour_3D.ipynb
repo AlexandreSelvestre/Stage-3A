{
 "cells": [
  {
   "cell_type": "code",
   "execution_count": 23,
   "metadata": {},
   "outputs": [],
   "source": [
    "from __future__ import print_function\n",
    "import sys\n",
    "import os\n",
    "import logging\n",
    "import six\n",
    "from radiomics import featureextractor, getFeatureClasses\n",
    "import radiomics\n",
    "%config Completer.use_jedi = False\n",
    "import SimpleITK as sitk\n",
    "import nibabel as nib\n",
    "import glob\n",
    "import pandas as pd\n",
    "import matplotlib.pyplot as plt\n",
    "import tqdm\n",
    "import numpy as np\n",
    "import logging\n",
    "from utils_mask_sain import *\n",
    "from utils import *\n",
    "from utils_recaler import *\n",
    "from utils_autour_3D import *"
   ]
  },
  {
   "cell_type": "markdown",
   "metadata": {},
   "source": [
    "# Faire une extraction et dilatation"
   ]
  },
  {
   "cell_type": "code",
   "execution_count": 24,
   "metadata": {},
   "outputs": [],
   "source": [
    "path_data_brut = \"../data/radio_brut\"\n",
    "current_dir = os.getcwd()\n",
    "if current_dir == \"/gpfs/users/selvestra/python_codes\":\n",
    "    path_data_brut = \"/gpfs/workdir/selvestra/data/radio_brut\"\n",
    "path_radios = './*_NAT*/*.nii'\n",
    "path_brut = os.path.join(path_data_brut, path_radios)\n",
    "path_data = os.path.dirname(path_data_brut)\n",
    "path_save = os.path.join(\n",
    "    path_data, \"multislice_excel_with_shape_2D_entre_deux.xlsx\")\n",
    "ls_image = sorted(glob.glob(path_brut))"
   ]
  },
  {
   "cell_type": "markdown",
   "metadata": {},
   "source": [
    "# Extraire seulement une partie avec variance locale et luminosité minimale"
   ]
  },
  {
   "cell_type": "markdown",
   "metadata": {},
   "source": [
    "# Critère de connexité"
   ]
  },
  {
   "cell_type": "markdown",
   "metadata": {},
   "source": [
    "# Pipeline"
   ]
  },
  {
   "cell_type": "code",
   "execution_count": 25,
   "metadata": {},
   "outputs": [],
   "source": [
    "# num_im = 140\n",
    "# image = sitk.ReadImage(ls_image[num_im])\n",
    "# mask = sitk.ReadImage(ls_image[num_im].replace('_NAT', '').replace('.nii', '_masked.nii'))\n",
    "# #mask_superpose_simple(image[:,:,slice],mask[:,:,slice],other_mask =  mask_cercle[:,:,slice])\n",
    "# slice= get_good_slice(ls_image[num_im])\n",
    "# mask_cercle = extrac_circle(image, mask)\n",
    "# variance = local_variance(image, sigma = 1.5)\n",
    "# zone_high = extrac_circle(image, mask)\n",
    "# new_im , mask_lum = kill_to_high(variance, zone_high,image, quantile = 0.3)\n",
    "# plt.figure(figsize=(15,5))\n",
    "# plt.subplot(1,4,1)\n",
    "# plt.imshow(sitk.GetArrayFromImage(variance)[slice,:,:])\n",
    "# plt.subplot(1,4,2)\n",
    "# plt.imshow(sitk.GetArrayFromImage(mask_lum)[slice,:,:])\n",
    "# mask_superpose_simple(image[:,:,slice],mask[:,:,slice],other_mask =  mask_lum[:,:,slice], max_num = 4, num = 3)\n",
    "\n",
    "# #mask_tot = get_connected_mask(mask_lum)\n",
    "# mask_tot = pipeline_3D(image, mask)\n",
    "# mask_superpose_simple(image[:,:,slice],mask[:,:,slice],other_mask =  mask_tot[:,:,slice], max_num = 4, num = 4)\n",
    "# plt.show()\n"
   ]
  },
  {
   "cell_type": "markdown",
   "metadata": {},
   "source": [
    "Afficher sur plusieurs temps"
   ]
  },
  {
   "cell_type": "code",
   "execution_count": 26,
   "metadata": {},
   "outputs": [],
   "source": [
    "time_inj = [\"_ART\", \"_PORT\", \"_VEIN\",\"_TARD\"]\n",
    "# ls_image_prime = ls_image[(82 + 242):]\n",
    "ls_image_prime = ls_image\n",
    "ls_image_no_time = natsorted(list(set([eliminate_temps(x) for x in ls_image_prime])))\n",
    "ls_image_full_times_surconfiance = [[name +time + \".nii\" for time in time_inj] for name in ls_image_no_time]\n",
    "ls_image_full_time = []\n",
    "dict_image_full_time = {}\n",
    "for li_names in ls_image_full_times_surconfiance:\n",
    "    li_true_names = []\n",
    "    for i,name in enumerate(li_names):\n",
    "        if name in ls_image_prime:\n",
    "            li_true_names.append(name)\n",
    "    ls_image_full_time.append(li_true_names)\n",
    "    classe_name = li_names[0].split('/')[-2].split('_')[1]\n",
    "    patient_num = li_names[0].split('/')[-1].split('_')[0]\n",
    "    dict_image_full_time[(patient_num, classe_name)] = li_true_names"
   ]
  },
  {
   "cell_type": "code",
   "execution_count": 27,
   "metadata": {},
   "outputs": [
    {
     "name": "stdout",
     "output_type": "stream",
     "text": [
      "['./Dataset_CCK_NAT/1_ART.nii', './Dataset_CCK_NAT/1_PORT.nii', './Dataset_CCK_NAT/1_VEIN.nii', './Dataset_CCK_NAT/1_TARD.nii']\n"
     ]
    },
    {
     "ename": "KeyboardInterrupt",
     "evalue": "",
     "output_type": "error",
     "traceback": [
      "\u001b[0;31m---------------------------------------------------------------------------\u001b[0m",
      "\u001b[0;31mKeyboardInterrupt\u001b[0m                         Traceback (most recent call last)",
      "\u001b[0;32m/tmp/ipykernel_5315/317395358.py\u001b[0m in \u001b[0;36m<module>\u001b[0;34m\u001b[0m\n\u001b[1;32m     11\u001b[0m     \u001b[0mfenetre_y\u001b[0m \u001b[0;34m=\u001b[0m \u001b[0mrange\u001b[0m\u001b[0;34m(\u001b[0m\u001b[0;34m-\u001b[0m\u001b[0;36m4\u001b[0m\u001b[0;34m,\u001b[0m \u001b[0;36m5\u001b[0m\u001b[0;34m)\u001b[0m\u001b[0;34m\u001b[0m\u001b[0;34m\u001b[0m\u001b[0m\n\u001b[1;32m     12\u001b[0m     \u001b[0mplt\u001b[0m\u001b[0;34m.\u001b[0m\u001b[0mfigure\u001b[0m\u001b[0;34m(\u001b[0m\u001b[0mfigsize\u001b[0m\u001b[0;34m=\u001b[0m\u001b[0;34m(\u001b[0m\u001b[0;36m15\u001b[0m\u001b[0;34m,\u001b[0m\u001b[0;36m5\u001b[0m\u001b[0;34m)\u001b[0m\u001b[0;34m)\u001b[0m\u001b[0;34m\u001b[0m\u001b[0;34m\u001b[0m\u001b[0m\n\u001b[0;32m---> 13\u001b[0;31m     \u001b[0mli_slices_masks\u001b[0m\u001b[0;34m,\u001b[0m \u001b[0mli_slices_images\u001b[0m\u001b[0;34m,\u001b[0m \u001b[0mli_images\u001b[0m\u001b[0;34m,\u001b[0m \u001b[0mli_masks\u001b[0m \u001b[0;34m=\u001b[0m \u001b[0mequalize_slices\u001b[0m\u001b[0;34m(\u001b[0m\u001b[0mls_image_full_time\u001b[0m\u001b[0;34m,\u001b[0m \u001b[0mdict_image_full_time\u001b[0m\u001b[0;34m,\u001b[0m\u001b[0mforce_spacing\u001b[0m\u001b[0;34m=\u001b[0m\u001b[0mnp\u001b[0m\u001b[0;34m.\u001b[0m\u001b[0marray\u001b[0m\u001b[0;34m(\u001b[0m\u001b[0;34m[\u001b[0m\u001b[0;36m0.59375\u001b[0m\u001b[0;34m,\u001b[0m \u001b[0;36m0.59375\u001b[0m\u001b[0;34m,\u001b[0m \u001b[0;36m1.5\u001b[0m\u001b[0;34m]\u001b[0m\u001b[0;34m)\u001b[0m\u001b[0;34m,\u001b[0m \u001b[0mnum\u001b[0m\u001b[0;34m=\u001b[0m\u001b[0mnum_ls_full\u001b[0m\u001b[0;34m,\u001b[0m \u001b[0mkey\u001b[0m\u001b[0;34m=\u001b[0m\u001b[0;32mNone\u001b[0m\u001b[0;34m,\u001b[0m \u001b[0mshow\u001b[0m\u001b[0;34m=\u001b[0m\u001b[0;32mFalse\u001b[0m\u001b[0;34m,\u001b[0m \u001b[0mdo_nothing\u001b[0m\u001b[0;34m=\u001b[0m\u001b[0;32mFalse\u001b[0m\u001b[0;34m)\u001b[0m\u001b[0;34m\u001b[0m\u001b[0;34m\u001b[0m\u001b[0m\n\u001b[0m\u001b[1;32m     14\u001b[0m     \u001b[0;31m# li_decal = np.array(find_best_decal_all_times_short(li_slices_masks, fenetre_z, fenetre_x=None, fenetre_y=None, mode=\"area\"))\u001b[0m\u001b[0;34m\u001b[0m\u001b[0;34m\u001b[0m\u001b[0;34m\u001b[0m\u001b[0m\n\u001b[1;32m     15\u001b[0m     \u001b[0mli_enum\u001b[0m \u001b[0;34m=\u001b[0m \u001b[0mlist\u001b[0m\u001b[0;34m(\u001b[0m\u001b[0mrange\u001b[0m\u001b[0;34m(\u001b[0m\u001b[0mlen\u001b[0m\u001b[0;34m(\u001b[0m\u001b[0mli_slices_images\u001b[0m\u001b[0;34m)\u001b[0m\u001b[0;34m)\u001b[0m\u001b[0;34m)\u001b[0m\u001b[0;34m\u001b[0m\u001b[0;34m\u001b[0m\u001b[0m\n",
      "\u001b[0;32m~/Documents/Stage-3A/data/radio_brut/utils_recaler.py\u001b[0m in \u001b[0;36mequalize_slices\u001b[0;34m(ls_image_full_time, dict_image_full_time, force_spacing, num, key, show, do_nothing)\u001b[0m\n\u001b[1;32m     50\u001b[0m     \u001b[0mli_slices_masks\u001b[0m \u001b[0;34m=\u001b[0m \u001b[0;34m[\u001b[0m\u001b[0;34m[\u001b[0m\u001b[0msitk\u001b[0m\u001b[0;34m.\u001b[0m\u001b[0mCast\u001b[0m\u001b[0;34m(\u001b[0m\u001b[0mmask\u001b[0m\u001b[0;34m[\u001b[0m\u001b[0;34m:\u001b[0m\u001b[0;34m,\u001b[0m \u001b[0;34m:\u001b[0m\u001b[0;34m,\u001b[0m \u001b[0mz\u001b[0m\u001b[0;34m]\u001b[0m\u001b[0;34m,\u001b[0m \u001b[0msitk\u001b[0m\u001b[0;34m.\u001b[0m\u001b[0msitkUInt8\u001b[0m\u001b[0;34m)\u001b[0m \u001b[0;32mfor\u001b[0m \u001b[0mz\u001b[0m \u001b[0;32min\u001b[0m \u001b[0mrange\u001b[0m\u001b[0;34m(\u001b[0m\u001b[0mli_num_slice_tot\u001b[0m\u001b[0;34m[\u001b[0m\u001b[0mi\u001b[0m\u001b[0;34m]\u001b[0m\u001b[0;34m)\u001b[0m\u001b[0;34m]\u001b[0m \u001b[0;32mfor\u001b[0m \u001b[0mi\u001b[0m\u001b[0;34m,\u001b[0m \u001b[0mmask\u001b[0m \u001b[0;32min\u001b[0m \u001b[0menumerate\u001b[0m\u001b[0;34m(\u001b[0m\u001b[0mli_masks\u001b[0m\u001b[0;34m)\u001b[0m\u001b[0;34m]\u001b[0m\u001b[0;34m\u001b[0m\u001b[0;34m\u001b[0m\u001b[0m\n\u001b[1;32m     51\u001b[0m     li_slices_images = [[image[:, :, z] for z in range(\n\u001b[0;32m---> 52\u001b[0;31m         li_num_slice_tot[i])] for i, image in enumerate(li_images)]\n\u001b[0m\u001b[1;32m     53\u001b[0m     \u001b[0mreference\u001b[0m \u001b[0;34m=\u001b[0m \u001b[0mmax\u001b[0m\u001b[0;34m(\u001b[0m\u001b[0mli_num_slice_tot\u001b[0m\u001b[0;34m)\u001b[0m\u001b[0;34m\u001b[0m\u001b[0;34m\u001b[0m\u001b[0m\n\u001b[1;32m     54\u001b[0m     \u001b[0mdifferences\u001b[0m \u001b[0;34m=\u001b[0m \u001b[0mreference\u001b[0m \u001b[0;34m-\u001b[0m \u001b[0mli_num_slice_tot\u001b[0m\u001b[0;34m\u001b[0m\u001b[0;34m\u001b[0m\u001b[0m\n",
      "\u001b[0;32m~/Documents/Stage-3A/data/radio_brut/utils_recaler.py\u001b[0m in \u001b[0;36m<listcomp>\u001b[0;34m(.0)\u001b[0m\n\u001b[1;32m     50\u001b[0m     \u001b[0mli_slices_masks\u001b[0m \u001b[0;34m=\u001b[0m \u001b[0;34m[\u001b[0m\u001b[0;34m[\u001b[0m\u001b[0msitk\u001b[0m\u001b[0;34m.\u001b[0m\u001b[0mCast\u001b[0m\u001b[0;34m(\u001b[0m\u001b[0mmask\u001b[0m\u001b[0;34m[\u001b[0m\u001b[0;34m:\u001b[0m\u001b[0;34m,\u001b[0m \u001b[0;34m:\u001b[0m\u001b[0;34m,\u001b[0m \u001b[0mz\u001b[0m\u001b[0;34m]\u001b[0m\u001b[0;34m,\u001b[0m \u001b[0msitk\u001b[0m\u001b[0;34m.\u001b[0m\u001b[0msitkUInt8\u001b[0m\u001b[0;34m)\u001b[0m \u001b[0;32mfor\u001b[0m \u001b[0mz\u001b[0m \u001b[0;32min\u001b[0m \u001b[0mrange\u001b[0m\u001b[0;34m(\u001b[0m\u001b[0mli_num_slice_tot\u001b[0m\u001b[0;34m[\u001b[0m\u001b[0mi\u001b[0m\u001b[0;34m]\u001b[0m\u001b[0;34m)\u001b[0m\u001b[0;34m]\u001b[0m \u001b[0;32mfor\u001b[0m \u001b[0mi\u001b[0m\u001b[0;34m,\u001b[0m \u001b[0mmask\u001b[0m \u001b[0;32min\u001b[0m \u001b[0menumerate\u001b[0m\u001b[0;34m(\u001b[0m\u001b[0mli_masks\u001b[0m\u001b[0;34m)\u001b[0m\u001b[0;34m]\u001b[0m\u001b[0;34m\u001b[0m\u001b[0;34m\u001b[0m\u001b[0m\n\u001b[1;32m     51\u001b[0m     li_slices_images = [[image[:, :, z] for z in range(\n\u001b[0;32m---> 52\u001b[0;31m         li_num_slice_tot[i])] for i, image in enumerate(li_images)]\n\u001b[0m\u001b[1;32m     53\u001b[0m     \u001b[0mreference\u001b[0m \u001b[0;34m=\u001b[0m \u001b[0mmax\u001b[0m\u001b[0;34m(\u001b[0m\u001b[0mli_num_slice_tot\u001b[0m\u001b[0;34m)\u001b[0m\u001b[0;34m\u001b[0m\u001b[0;34m\u001b[0m\u001b[0m\n\u001b[1;32m     54\u001b[0m     \u001b[0mdifferences\u001b[0m \u001b[0;34m=\u001b[0m \u001b[0mreference\u001b[0m \u001b[0;34m-\u001b[0m \u001b[0mli_num_slice_tot\u001b[0m\u001b[0;34m\u001b[0m\u001b[0;34m\u001b[0m\u001b[0m\n",
      "\u001b[0;32m~/Documents/Stage-3A/data/radio_brut/utils_recaler.py\u001b[0m in \u001b[0;36m<listcomp>\u001b[0;34m(.0)\u001b[0m\n\u001b[1;32m     49\u001b[0m     \u001b[0mli_num_slice_tot\u001b[0m \u001b[0;34m=\u001b[0m \u001b[0mnp\u001b[0m\u001b[0;34m.\u001b[0m\u001b[0marray\u001b[0m\u001b[0;34m(\u001b[0m\u001b[0;34m[\u001b[0m\u001b[0mmask\u001b[0m\u001b[0;34m.\u001b[0m\u001b[0mGetSize\u001b[0m\u001b[0;34m(\u001b[0m\u001b[0;34m)\u001b[0m\u001b[0;34m[\u001b[0m\u001b[0;36m2\u001b[0m\u001b[0;34m]\u001b[0m \u001b[0;32mfor\u001b[0m \u001b[0mmask\u001b[0m \u001b[0;32min\u001b[0m \u001b[0mli_masks\u001b[0m\u001b[0;34m]\u001b[0m\u001b[0;34m)\u001b[0m\u001b[0;34m\u001b[0m\u001b[0;34m\u001b[0m\u001b[0m\n\u001b[1;32m     50\u001b[0m     \u001b[0mli_slices_masks\u001b[0m \u001b[0;34m=\u001b[0m \u001b[0;34m[\u001b[0m\u001b[0;34m[\u001b[0m\u001b[0msitk\u001b[0m\u001b[0;34m.\u001b[0m\u001b[0mCast\u001b[0m\u001b[0;34m(\u001b[0m\u001b[0mmask\u001b[0m\u001b[0;34m[\u001b[0m\u001b[0;34m:\u001b[0m\u001b[0;34m,\u001b[0m \u001b[0;34m:\u001b[0m\u001b[0;34m,\u001b[0m \u001b[0mz\u001b[0m\u001b[0;34m]\u001b[0m\u001b[0;34m,\u001b[0m \u001b[0msitk\u001b[0m\u001b[0;34m.\u001b[0m\u001b[0msitkUInt8\u001b[0m\u001b[0;34m)\u001b[0m \u001b[0;32mfor\u001b[0m \u001b[0mz\u001b[0m \u001b[0;32min\u001b[0m \u001b[0mrange\u001b[0m\u001b[0;34m(\u001b[0m\u001b[0mli_num_slice_tot\u001b[0m\u001b[0;34m[\u001b[0m\u001b[0mi\u001b[0m\u001b[0;34m]\u001b[0m\u001b[0;34m)\u001b[0m\u001b[0;34m]\u001b[0m \u001b[0;32mfor\u001b[0m \u001b[0mi\u001b[0m\u001b[0;34m,\u001b[0m \u001b[0mmask\u001b[0m \u001b[0;32min\u001b[0m \u001b[0menumerate\u001b[0m\u001b[0;34m(\u001b[0m\u001b[0mli_masks\u001b[0m\u001b[0;34m)\u001b[0m\u001b[0;34m]\u001b[0m\u001b[0;34m\u001b[0m\u001b[0;34m\u001b[0m\u001b[0m\n\u001b[0;32m---> 51\u001b[0;31m     li_slices_images = [[image[:, :, z] for z in range(\n\u001b[0m\u001b[1;32m     52\u001b[0m         li_num_slice_tot[i])] for i, image in enumerate(li_images)]\n\u001b[1;32m     53\u001b[0m     \u001b[0mreference\u001b[0m \u001b[0;34m=\u001b[0m \u001b[0mmax\u001b[0m\u001b[0;34m(\u001b[0m\u001b[0mli_num_slice_tot\u001b[0m\u001b[0;34m)\u001b[0m\u001b[0;34m\u001b[0m\u001b[0;34m\u001b[0m\u001b[0m\n",
      "\u001b[0;31mKeyboardInterrupt\u001b[0m: "
     ]
    },
    {
     "data": {
      "text/plain": [
       "<Figure size 1500x500 with 0 Axes>"
      ]
     },
     "metadata": {},
     "output_type": "display_data"
    }
   ],
   "source": [
    "start = 0\n",
    "time_ref = 3\n",
    "#ouille 83\n",
    "#Tardif super!!\n",
    "## Continuer avec ref_num\n",
    "for num_ls_full in range(start, len(ls_image_full_time)):\n",
    "    names = ls_image_full_time[num_ls_full]\n",
    "    print(names)\n",
    "    fenetre_z = range(-10, 11)\n",
    "    fenetre_x = range(-4, 5)\n",
    "    fenetre_y = range(-4, 5)\n",
    "    plt.figure(figsize=(15,5))\n",
    "    li_slices_masks, li_slices_images, li_images, li_masks = equalize_slices(ls_image_full_time, dict_image_full_time,force_spacing=np.array([0.59375, 0.59375, 1.5]), num=num_ls_full, key=None, show=False, do_nothing=False)\n",
    "    # li_decal = np.array(find_best_decal_all_times_short(li_slices_masks, fenetre_z, fenetre_x=None, fenetre_y=None, mode=\"area\"))\n",
    "    li_enum = list(range(len(li_slices_images)))\n",
    "    if len(li_enum) == len(time_inj):\n",
    "        li_enum[time_ref] = 0\n",
    "        li_enum[0] = time_ref\n",
    "        local_time_ref = time_ref\n",
    "    else: \n",
    "        local_time_ref = 0\n",
    "    li_best_shift_x, li_best_shift_y, li_decal = find_best_all_area(li_masks, fenetre_z, fenetre_x, fenetre_y, local_time_ref)\n",
    "    li_best_shift_z = [li_masks[0].GetSpacing()[2]*decal for decal in li_decal]\n",
    "    #print(li_best_shift_x)\n",
    "    #good_slices = get_good_slices_from_li(li_slices_images[local_time_ref], li_slices_masks[local_time_ref])\n",
    "    for i_enum in range(len(li_slices_images)):\n",
    "        i = li_enum[i_enum]\n",
    "        name = names[i]\n",
    "        image = li_images[i]\n",
    "        mask = li_masks[i]\n",
    "        if i == local_time_ref:\n",
    "            echec = True\n",
    "            erosion = 5\n",
    "            while echec:\n",
    "                mask_tot_ref = pipeline_3D(image, mask, sigma = 1, quantile = 0.4, interieur = 8, exterieur = 45, erosion = erosion, show = False, slice = 110)\n",
    "                mask_tot = sitk.Image(mask_tot_ref)\n",
    "                good_slices = get_good_slices_from_li(li_slices_images[local_time_ref], [mask_tot_ref[:,:,z] for z in range(mask_tot_ref.GetSize()[2])])\n",
    "                good_slices_tumor = get_good_slices_from_li(li_slices_images[local_time_ref], [mask[:,:,z] for z in range(mask.GetSize()[2])])\n",
    "                if len(good_slices) > 0:\n",
    "                    echec = False\n",
    "                else:\n",
    "                    erosion -= 1\n",
    "                    print(f\"Nouvelle erosion = {erosion}\")\n",
    "            slice_vue_tumor_ref = good_slices_tumor[len(good_slices_tumor)//2]\n",
    "            slice_ref = good_slices[len(good_slices)//2]\n",
    "            #print(slice_ref)\n",
    "        else:\n",
    "            mask_tot = translate_mask(mask_tot_ref, li_best_shift_x[i], li_best_shift_y[i], li_best_shift_z[i])\n",
    "        slice_num = int(slice_ref + li_decal[i])\n",
    "        slice_num_tumor = int(slice_vue_tumor_ref + li_decal[i])\n",
    "        mask_superpose_simple(image[:,:,slice_num],mask[:,:,slice_num],other_mask =  mask_tot[:,:,slice_num], max_num = len(names), num = i+ 1, legend = f\"name = {name[10:]},\\n slice = {slice_num}, num_loc = {num_ls_full} \\n decals = {( li_best_shift_x[i],  li_best_shift_y[i], li_best_shift_z[i])}\", line = 2)\n",
    "        mask_superpose_simple(image[:,:,slice_num_tumor],mask[:,:,slice_num_tumor],other_mask =  mask_tot[:,:,slice_num_tumor], max_num = len(names), num = len(names) + i+ 1, legend = f\"name = {name[10:]},\\n slice = {slice_num_tumor}, num_loc = {num_ls_full} \\n decals = {( li_best_shift_x[i],  li_best_shift_y[i], li_best_shift_z[i])}\", line = 2)\n",
    "    plt.subplots_adjust(hspace=0.7) \n",
    "    plt.show()\n",
    "    "
   ]
  },
  {
   "cell_type": "markdown",
   "metadata": {},
   "source": [
    "t = 0\n",
    "[0.0, 0.0, -1.78125, 1.1875]                \n",
    "[0.0, 0.0, 0.0, 0.0]\n",
    "[0.0, 0.0, 0.0, 0.0]\n",
    "[0.0, -1.1875, -1.1875, 0.0]\n",
    "[0.0, 0.0, 0.0, 0.0]\n",
    "[0.0, 0.0, 0.0, 0.0]\n",
    "[0.0, 1.1875, 2.375, 1.1875]\n",
    "[0.0, -1.78125, -1.78125, -1.78125]\n",
    "[0.0, 0.0, 0.0, 2.375]\n",
    "[0.0, 0.0, 0.0, 0.0]\n",
    "[0.0, 2.375, 2.375, 1.1875]\n",
    "[0.0, -2.375, -1.78125, -1.78125]\n",
    "[0.0, 0.0, 0.0, 0.0]\n",
    "[0.0, -2.375, -2.375, -2.375]\n",
    "[0.0, -1.1875, 0.0]\n",
    "[0.0, -2.375]\n",
    "[0.0, 0.0, 0.0, 0.0]\n",
    "\n",
    "t = 3\n",
    "[-1.1875, -0.59375, -2.375, 0.0]    \n",
    "[0.0, 0.0, 0.0, 0.0]\n",
    "[0.0, 0.0, 0.0, 0.0]\n",
    "[0.0, -1.1875, 0.0, 0.0]\n",
    "[0.0, 0.0, 0.0, 0.0]\n",
    "[0.0, 0.0, 0.0, 0.0]\n",
    "[-1.1875, 0.0, 1.1875, 0.0]\n",
    "[1.78125, 0.0, 0.0, 0.0]\n",
    "[-2.375, -2.375, -2.375, 0.0]\n",
    "[0.0, 0.0, 0.0, 0.0]\n",
    "[-1.1875, 2.375, 2.375, 0.0]\n",
    "[1.78125, -1.78125, 0.0, 0.0]\n",
    "[0.0, 0.0, 0.0, 0.0]\n",
    "[2.375, 0.0, 0.0, 0.0]\n",
    "[0.0, -1.1875, 0.0]\n",
    "[0.0, -2.375]\n",
    "[0.0, 0.0, 0.0, 0.0]\n",
    "[-1.1875, 0.0, 0.0, 0.0]\n",
    "[-2.375, -2.375, 0.0, 0.0]\n",
    "[-1.1875, 1.1875, 1.1875, 0.0]\n",
    "\n",
    " t = 1\n",
    "\n",
    " [0.0, 0.0, -1.78125, 0.59375]\n",
    "[0.0, 0.0, 0.0, 0.0]\n",
    "[0.0, 0.0, 0.0, 0.0]\n",
    "[1.1875, 0.0, 1.1875, 1.1875]\n",
    "[0.0, 0.0, 0.0, 0.0]\n",
    "[0.0, 0.0, 0.0, 0.0]\n",
    "[-1.1875, 0.0, 1.1875, 0.0]\n",
    "[1.78125, 0.0, 0.0, 0.0]\n",
    "[0.0, 0.0, 0.0, 2.375]\n",
    "[0.0, 0.0, 0.0, 0.0]\n",
    "[-2.375, 0.0, 0.0, -2.375]\n",
    "[2.375, 0.0, 1.78125, 1.78125]\n",
    "[0.0, 0.0, 0.0, 0.0]\n",
    "[2.375, 0.0, 0.0, 0.0]\n",
    "[0.0, -1.1875, 0.0]\n",
    "[0.0, -2.375]\n",
    "[0.0, 0.0, 0.0, 0.0]\n",
    "[-1.1875, 0.0, 0.0, 0.0]\n",
    "[0.0, 0.0, 2.375, 2.375]\n",
    "[-1.1875, 0.0, 0.0, -1.1875]\n",
    "\n"
   ]
  }
 ],
 "metadata": {
  "kernelspec": {
   "display_name": "radio",
   "language": "python",
   "name": "python3"
  },
  "language_info": {
   "codemirror_mode": {
    "name": "ipython",
    "version": 3
   },
   "file_extension": ".py",
   "mimetype": "text/x-python",
   "name": "python",
   "nbconvert_exporter": "python",
   "pygments_lexer": "ipython3",
   "version": "3.7.12"
  }
 },
 "nbformat": 4,
 "nbformat_minor": 2
}
