{
 "cells": [
  {
   "cell_type": "code",
   "execution_count": 1,
   "metadata": {},
   "outputs": [],
   "source": [
    "from __future__ import print_function\n",
    "import sys\n",
    "import os\n",
    "import logging\n",
    "import six\n",
    "from radiomics import featureextractor, getFeatureClasses\n",
    "import radiomics\n",
    "%config Completer.use_jedi = False\n",
    "import SimpleITK as sitk\n",
    "import nibabel as nib\n",
    "import glob\n",
    "import pandas as pd\n",
    "import matplotlib.pyplot as plt\n",
    "import tqdm\n",
    "import numpy as np\n",
    "import logging\n",
    "from utils_mask_sain import *\n",
    "from utils import *\n",
    "from utils_recaler import *\n",
    "from utils_autour_3D import *\n",
    "from area_calculus import *"
   ]
  },
  {
   "cell_type": "code",
   "execution_count": 2,
   "metadata": {},
   "outputs": [],
   "source": [
    "path_data_brut = \"../data/radio_brut\"\n",
    "current_dir = os.getcwd()\n",
    "if current_dir == \"/gpfs/users/selvestra/python_codes\":\n",
    "    path_data_brut = \"/gpfs/workdir/selvestra/data/radio_brut\"\n",
    "path_radios = './*_NAT*/*.nii'\n",
    "path_brut = os.path.join(path_data_brut, path_radios)\n",
    "path_data = os.path.dirname(path_data_brut)\n",
    "ls_image = sorted(glob.glob(path_brut))\n",
    "\n",
    "\n",
    "time_inj = [\"_ART\", \"_PORT\", \"_TARD\"]\n",
    "ls_image_prime = ls_image\n",
    "ls_image_no_time = natsorted(\n",
    "    list(set([eliminate_temps(x) for x in ls_image_prime])))\n",
    "ls_image_full_times_surconfiance = [\n",
    "    [name + time + \".nii\" for time in time_inj] for name in ls_image_no_time]\n",
    "ls_image_full_time = []\n",
    "dict_image_full_time = {}\n",
    "for li_names in ls_image_full_times_surconfiance:\n",
    "    li_true_names = []\n",
    "    for i, name in enumerate(li_names):\n",
    "        if name in ls_image_prime:\n",
    "            li_true_names.append(name)\n",
    "    ls_image_full_time.append(li_true_names)\n",
    "    classe_name = li_names[0].split('/')[-2].split('_')[1]\n",
    "    patient_num = li_names[0].split('/')[-1].split('_')[0]\n",
    "    dict_image_full_time[(patient_num, classe_name)] = li_true_names\n",
    "\n",
    "ls_image_full_time = ls_image_full_time\n",
    "    \n",
    "median_spacing = [0.59375, 0.59375, 1.5]"
   ]
  },
  {
   "cell_type": "markdown",
   "metadata": {},
   "source": [
    "# Visualiser à une depth donnée"
   ]
  },
  {
   "cell_type": "code",
   "execution_count": 3,
   "metadata": {},
   "outputs": [],
   "source": [
    "def visualize_depth(li_images, li_masks, li_depths, resolution = 0.3):\n",
    "    for depth in li_depths:\n",
    "        plt.figure(figsize = (15,5))\n",
    "        for i, image in enumerate(li_images):\n",
    "            mask = li_masks[i]\n",
    "            good_spacing = median_spacing[:2]\n",
    "            good_spacing.append(resolution)\n",
    "            new_image = resample_image_to_reference(image, image, force_spacing= good_spacing,  force_size = None, interpolator = \"bspline\")\n",
    "            new_mask = resample_image_to_reference(mask, mask, force_spacing = good_spacing, interpolator = \"nearest\")\n",
    "            origin = new_image.GetOrigin()\n",
    "            slice_num = new_image.TransformPhysicalPointToContinuousIndex([origin[0],origin[1],depth])[2]\n",
    "            slice_image  = new_image[:,:,int(slice_num)]\n",
    "            slice_mask = new_mask[:,:,int(slice_num)]\n",
    "            mask_superpose_simple(slice_image, slice_mask, other_mask = None,num = i + 1, max_num = len(li_images), legend = f\"Image  at time {i + 1} at depth {depth} mm\")\n",
    "        plt.show()"
   ]
  },
  {
   "cell_type": "code",
   "execution_count": 4,
   "metadata": {},
   "outputs": [],
   "source": [
    "# num = 30\n",
    "# li_images = [sitk.ReadImage(image_name) for image_name in ls_image_full_time[num]]\n",
    "# li_masks = [sitk.ReadImage(image_name.replace('_NAT','').replace('.nii','_masked.nii')) != 0 for image_name in ls_image_full_time[num]]\n",
    "# visualize_depth(li_images, li_masks, [69.5, 69.5 + 1.6/2 - 0.3, 69.5+1.6/2 +0.3 ])"
   ]
  },
  {
   "cell_type": "markdown",
   "metadata": {},
   "source": [
    "# Par slice"
   ]
  },
  {
   "cell_type": "code",
   "execution_count": 5,
   "metadata": {},
   "outputs": [],
   "source": [
    "def visualize_slice(li_images, li_masks,deep_li_slices,li_scales = None):\n",
    "    if li_scales is None:\n",
    "        new_li_images = [image for image in li_images]\n",
    "        new_li_masks = [mask for mask in li_masks]\n",
    "    else:\n",
    "        new_li_masks = []\n",
    "        new_li_images = []\n",
    "        for i, image in enumerate(li_images):\n",
    "            mask = li_masks[i]\n",
    "            print(image.GetSpacing(), image.GetSize())\n",
    "            new_image  = resample_image_to_reference(image, image, force_spacing= li_scales[i],  force_size = None, interpolator = \"bspline\")\n",
    "            new_mask = resample_image_to_reference(mask, mask, force_spacing = li_scales[i], interpolator = \"nearest\")\n",
    "            new_li_images.append(new_image)\n",
    "            new_li_masks.append(new_mask)\n",
    "    if deep_li_slices is None:\n",
    "        #indispensable d'avoir la même échelle aux trois images dans ce cas\n",
    "        deep_li_slices = [list(range(new_li_images[0].GetSize()[2])) for image in new_li_images]\n",
    "    for slice_ref in range(len(deep_li_slices[0])):\n",
    "        plt.figure(figsize = (15,5))\n",
    "        for image_num, image in enumerate(new_li_images):\n",
    "            mask = new_li_masks[image_num]\n",
    "            num_slice = deep_li_slices[image_num][slice_ref]\n",
    "            slice_image = image[:,:,num_slice]\n",
    "            slice_mask = mask[:,:,num_slice]\n",
    "            mask_superpose_simple(slice_image, slice_mask, other_mask = None,num = image_num + 1, max_num = len(li_images), legend = f\"Image  at time {image_num + 1} at slice {num_slice} \\n depth = {image.TransformIndexToPhysicalPoint([0,0,num_slice])[2]} mm,\\n spacing = {image.GetSpacing()[2]} mm\")\n",
    "        plt.show()\n",
    "        \n",
    "    "
   ]
  },
  {
   "cell_type": "code",
   "execution_count": 6,
   "metadata": {},
   "outputs": [],
   "source": [
    "# num = 5\n",
    "# print(ls_image_full_time[num])\n",
    "# li_images = [sitk.ReadImage(image_name) for image_name in ls_image_full_time[num]]\n",
    "# li_masks = [sitk.ReadImage(image_name.replace('_NAT','').replace('.nii','_masked.nii')) != 0 for image_name in ls_image_full_time[num]]\n",
    "# deep_li_slices = [[2303, 2318, 2335, 2351, 2366, 2382, 2398, 2411, 2421, 2432], [2308, 2323, 2340, 2355, 2370, 2386, 2401, 2415, 2425, 2435], [1247, 1261, 1271, 1281, 1291, 1302, 1315, 1327, 1338, 1351]]\n",
    "# #li_scales = [np.copy(median_spacing), np.copy(median_spacing), np.copy(median_spacing)]\n",
    "# li_scales = [np.copy(li_images[i].GetSpacing()) for i in range(len(li_images))]\n",
    "# # li_scales[0][2] = 0.04057762983078987\n",
    "# # li_scales[1][2] = 0.040568852630042326\n",
    "# # li_scales[2][2] = 0.07403103169022245\n",
    "# visualize_slice(li_images, li_masks,deep_li_slices = None,li_scales = None)\n",
    "\n"
   ]
  }
 ],
 "metadata": {
  "kernelspec": {
   "display_name": "radio",
   "language": "python",
   "name": "python3"
  },
  "language_info": {
   "codemirror_mode": {
    "name": "ipython",
    "version": 3
   },
   "file_extension": ".py",
   "mimetype": "text/x-python",
   "name": "python",
   "nbconvert_exporter": "python",
   "pygments_lexer": "ipython3",
   "version": "3.7.12"
  }
 },
 "nbformat": 4,
 "nbformat_minor": 2
}
