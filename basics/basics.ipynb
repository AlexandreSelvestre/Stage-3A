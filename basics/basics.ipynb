{
 "cells": [
  {
   "cell_type": "markdown",
   "metadata": {},
   "source": [
    "# Comprendre avec R"
   ]
  },
  {
   "cell_type": "markdown",
   "metadata": {},
   "source": [
    "## l'arborescence"
   ]
  },
  {
   "cell_type": "code",
   "execution_count": 1,
   "metadata": {
    "vscode": {
     "languageId": "r"
    }
   },
   "outputs": [],
   "source": [
    "value <-  1\n",
    "truc <- 'machin'\n"
   ]
  },
  {
   "cell_type": "markdown",
   "metadata": {},
   "source": [
    "Pour afficher tous les objets"
   ]
  },
  {
   "cell_type": "code",
   "execution_count": 2,
   "metadata": {
    "vscode": {
     "languageId": "r"
    }
   },
   "outputs": [
    {
     "data": {
      "text/html": [
       "<style>\n",
       ".list-inline {list-style: none; margin:0; padding: 0}\n",
       ".list-inline>li {display: inline-block}\n",
       ".list-inline>li:not(:last-child)::after {content: \"\\00b7\"; padding: 0 .5ex}\n",
       "</style>\n",
       "<ol class=list-inline><li>'truc'</li><li>'value'</li></ol>\n"
      ],
      "text/latex": [
       "\\begin{enumerate*}\n",
       "\\item 'truc'\n",
       "\\item 'value'\n",
       "\\end{enumerate*}\n"
      ],
      "text/markdown": [
       "1. 'truc'\n",
       "2. 'value'\n",
       "\n",
       "\n"
      ],
      "text/plain": [
       "[1] \"truc\"  \"value\""
      ]
     },
     "metadata": {},
     "output_type": "display_data"
    }
   ],
   "source": [
    "objects()"
   ]
  },
  {
   "cell_type": "markdown",
   "metadata": {},
   "source": [
    "Pour effacer un objet"
   ]
  },
  {
   "cell_type": "code",
   "execution_count": 3,
   "metadata": {
    "vscode": {
     "languageId": "r"
    }
   },
   "outputs": [
    {
     "data": {
      "text/html": [
       "'truc'"
      ],
      "text/latex": [
       "'truc'"
      ],
      "text/markdown": [
       "'truc'"
      ],
      "text/plain": [
       "[1] \"truc\""
      ]
     },
     "metadata": {},
     "output_type": "display_data"
    }
   ],
   "source": [
    "rm(value)\n",
    "objects()"
   ]
  },
  {
   "cell_type": "markdown",
   "metadata": {},
   "source": [
    "Pour le working directory:"
   ]
  },
  {
   "cell_type": "code",
   "execution_count": 4,
   "metadata": {
    "vscode": {
     "languageId": "r"
    }
   },
   "outputs": [
    {
     "name": "stdout",
     "output_type": "stream",
     "text": [
      "[1] \"c:/Users/33771/Documents/stage 3A/basics\"\n"
     ]
    }
   ],
   "source": [
    "folder <- getwd()\n",
    "print(folder)"
   ]
  },
  {
   "cell_type": "code",
   "execution_count": 5,
   "metadata": {
    "vscode": {
     "languageId": "r"
    }
   },
   "outputs": [
    {
     "data": {
      "text/html": [
       "'c:/Users/33771/Documents/stage 3A/basics/db'"
      ],
      "text/latex": [
       "'c:/Users/33771/Documents/stage 3A/basics/db'"
      ],
      "text/markdown": [
       "'c:/Users/33771/Documents/stage 3A/basics/db'"
      ],
      "text/plain": [
       "[1] \"c:/Users/33771/Documents/stage 3A/basics/db\""
      ]
     },
     "metadata": {},
     "output_type": "display_data"
    },
    {
     "data": {
      "text/html": [
       "'c:/Users/33771/Documents/stage 3A/basics'"
      ],
      "text/latex": [
       "'c:/Users/33771/Documents/stage 3A/basics'"
      ],
      "text/markdown": [
       "'c:/Users/33771/Documents/stage 3A/basics'"
      ],
      "text/plain": [
       "[1] \"c:/Users/33771/Documents/stage 3A/basics\""
      ]
     },
     "metadata": {},
     "output_type": "display_data"
    }
   ],
   "source": [
    "setwd('./db')\n",
    "getwd()\n",
    "setwd('..')\n",
    "getwd()\n"
   ]
  },
  {
   "cell_type": "markdown",
   "metadata": {},
   "source": [
    "## Les listes, matrices et dataframes"
   ]
  },
  {
   "cell_type": "markdown",
   "metadata": {},
   "source": [
    "### Vecteurs (listes d'un type donné)"
   ]
  },
  {
   "cell_type": "code",
   "execution_count": 6,
   "metadata": {
    "vscode": {
     "languageId": "r"
    }
   },
   "outputs": [
    {
     "name": "stdout",
     "output_type": "stream",
     "text": [
      "[1] 1 3 5 7 9\n",
      "[1] 1 3 5 7 9\n"
     ]
    }
   ],
   "source": [
    "x <- c(1, 3, 5, 7, 9)\n",
    "y <- seq(1, 10, 2)\n",
    "print(x)\n",
    "print(y)"
   ]
  },
  {
   "cell_type": "markdown",
   "metadata": {},
   "source": [
    "slicing"
   ]
  },
  {
   "cell_type": "code",
   "execution_count": 7,
   "metadata": {
    "vscode": {
     "languageId": "r"
    }
   },
   "outputs": [
    {
     "data": {
      "text/html": [
       "<style>\n",
       ".list-inline {list-style: none; margin:0; padding: 0}\n",
       ".list-inline>li {display: inline-block}\n",
       ".list-inline>li:not(:last-child)::after {content: \"\\00b7\"; padding: 0 .5ex}\n",
       "</style>\n",
       "<ol class=list-inline><li>1</li><li>5</li><li>7</li><li>9</li></ol>\n"
      ],
      "text/latex": [
       "\\begin{enumerate*}\n",
       "\\item 1\n",
       "\\item 5\n",
       "\\item 7\n",
       "\\item 9\n",
       "\\end{enumerate*}\n"
      ],
      "text/markdown": [
       "1. 1\n",
       "2. 5\n",
       "3. 7\n",
       "4. 9\n",
       "\n",
       "\n"
      ],
      "text/plain": [
       "[1] 1 5 7 9"
      ]
     },
     "metadata": {},
     "output_type": "display_data"
    },
    {
     "name": "stdout",
     "output_type": "stream",
     "text": [
      "[1] 1 3 7\n",
      "[1] FALSE FALSE FALSE  TRUE FALSE\n",
      "[1]  TRUE FALSE FALSE FALSE  TRUE\n"
     ]
    }
   ],
   "source": [
    "z <- y[-2]\n",
    "z\n",
    "slice <- x[c(TRUE,T,F,T,F)]\n",
    "print(slice)\n",
    "print(x >5 & x<9) #useful to slice with this\n",
    "print(x<2 | x>8) #symbole du \"or\""
   ]
  },
  {
   "cell_type": "markdown",
   "metadata": {},
   "source": [
    "about length"
   ]
  },
  {
   "cell_type": "code",
   "execution_count": 8,
   "metadata": {
    "vscode": {
     "languageId": "r"
    }
   },
   "outputs": [
    {
     "data": {
      "text/html": [
       "5"
      ],
      "text/latex": [
       "5"
      ],
      "text/markdown": [
       "5"
      ],
      "text/plain": [
       "[1] 5"
      ]
     },
     "metadata": {},
     "output_type": "display_data"
    }
   ],
   "source": [
    "length(x)\n",
    "#Attention x[i] est acceptable mais pas x[i,j]: x[c(i,j)] est la solution"
   ]
  },
  {
   "cell_type": "markdown",
   "metadata": {},
   "source": [
    "### Les matrices"
   ]
  },
  {
   "cell_type": "code",
   "execution_count": 61,
   "metadata": {
    "vscode": {
     "languageId": "r"
    }
   },
   "outputs": [
    {
     "name": "stdout",
     "output_type": "stream",
     "text": [
      "     [,1] [,2] [,3] [,4]\n",
      "[1,]    1    4    7   10\n",
      "[2,]    2    5    8   11\n",
      "[3,]    3    6    9   12\n",
      "     [,1] [,2] [,3] [,4]\n",
      "[1,]    1    2    3    4\n",
      "[2,]    5    6    7    8\n",
      "[3,]    9   10   11   12\n"
     ]
    },
    {
     "data": {
      "text/html": [
       "<table class=\"dataframe\">\n",
       "<caption>A matrix: 4 × 3 of type int</caption>\n",
       "<tbody>\n",
       "\t<tr><td> 1</td><td> 2</td><td> 3</td></tr>\n",
       "\t<tr><td> 4</td><td> 5</td><td> 6</td></tr>\n",
       "\t<tr><td> 7</td><td> 8</td><td> 9</td></tr>\n",
       "\t<tr><td>10</td><td>11</td><td>12</td></tr>\n",
       "</tbody>\n",
       "</table>\n"
      ],
      "text/latex": [
       "A matrix: 4 × 3 of type int\n",
       "\\begin{tabular}{lll}\n",
       "\t  1 &  2 &  3\\\\\n",
       "\t  4 &  5 &  6\\\\\n",
       "\t  7 &  8 &  9\\\\\n",
       "\t 10 & 11 & 12\\\\\n",
       "\\end{tabular}\n"
      ],
      "text/markdown": [
       "\n",
       "A matrix: 4 × 3 of type int\n",
       "\n",
       "|  1 |  2 |  3 |\n",
       "|  4 |  5 |  6 |\n",
       "|  7 |  8 |  9 |\n",
       "| 10 | 11 | 12 |\n",
       "\n"
      ],
      "text/plain": [
       "     [,1] [,2] [,3]\n",
       "[1,]  1    2    3  \n",
       "[2,]  4    5    6  \n",
       "[3,]  7    8    9  \n",
       "[4,] 10   11   12  "
      ]
     },
     "metadata": {},
     "output_type": "display_data"
    }
   ],
   "source": [
    "mat <- matrix(1:12, nrow=3, ncol=4) #by default, byrow = FALSE: par colonnes donc\n",
    "print(mat)\n",
    "mat_row <- matrix(1:12, nrow=3, ncol=4, byrow = TRUE)   #Par lignes maintenant\n",
    "print(mat_row)\n",
    "t(mat)"
   ]
  },
  {
   "cell_type": "markdown",
   "metadata": {},
   "source": [
    "#### slicing matriciel"
   ]
  },
  {
   "cell_type": "code",
   "execution_count": 10,
   "metadata": {
    "vscode": {
     "languageId": "r"
    }
   },
   "outputs": [
    {
     "name": "stdout",
     "output_type": "stream",
     "text": [
      "[1] 3 4\n",
      "[1] 12\n",
      "la valeur est 8\n",
      "[1] \"slices:\"\n"
     ]
    },
    {
     "data": {
      "text/html": [
       "<table class=\"dataframe\">\n",
       "<caption>A matrix: 2 × 3 of type int</caption>\n",
       "<tbody>\n",
       "\t<tr><td>4</td><td>7</td><td>10</td></tr>\n",
       "\t<tr><td>5</td><td>8</td><td>11</td></tr>\n",
       "</tbody>\n",
       "</table>\n"
      ],
      "text/latex": [
       "A matrix: 2 × 3 of type int\n",
       "\\begin{tabular}{lll}\n",
       "\t 4 & 7 & 10\\\\\n",
       "\t 5 & 8 & 11\\\\\n",
       "\\end{tabular}\n"
      ],
      "text/markdown": [
       "\n",
       "A matrix: 2 × 3 of type int\n",
       "\n",
       "| 4 | 7 | 10 |\n",
       "| 5 | 8 | 11 |\n",
       "\n"
      ],
      "text/plain": [
       "     [,1] [,2] [,3]\n",
       "[1,] 4    7    10  \n",
       "[2,] 5    8    11  "
      ]
     },
     "metadata": {},
     "output_type": "display_data"
    }
   ],
   "source": [
    "library(glue) # pour le format de la chaîne de caractères\n",
    "print(dim(mat))\n",
    "print(length(mat))\n",
    "value <- mat[2, 3]\n",
    "print(glue(\"la valeur est {value}\"))\n",
    "slices = mat[1:2, 2:4]\n",
    "print('slices:')\n",
    "slices"
   ]
  },
  {
   "cell_type": "markdown",
   "metadata": {},
   "source": [
    "collapser ou non les colonnes"
   ]
  },
  {
   "cell_type": "code",
   "execution_count": 18,
   "metadata": {
    "vscode": {
     "languageId": "r"
    }
   },
   "outputs": [
    {
     "name": "stdout",
     "output_type": "stream",
     "text": [
      "[1] \"cols\"\n"
     ]
    },
    {
     "data": {
      "text/html": [
       "<table class=\"dataframe\">\n",
       "<caption>A matrix: 3 × 2 of type int</caption>\n",
       "<tbody>\n",
       "\t<tr><td>4</td><td>7</td></tr>\n",
       "\t<tr><td>5</td><td>8</td></tr>\n",
       "\t<tr><td>6</td><td>9</td></tr>\n",
       "</tbody>\n",
       "</table>\n"
      ],
      "text/latex": [
       "A matrix: 3 × 2 of type int\n",
       "\\begin{tabular}{ll}\n",
       "\t 4 & 7\\\\\n",
       "\t 5 & 8\\\\\n",
       "\t 6 & 9\\\\\n",
       "\\end{tabular}\n"
      ],
      "text/markdown": [
       "\n",
       "A matrix: 3 × 2 of type int\n",
       "\n",
       "| 4 | 7 |\n",
       "| 5 | 8 |\n",
       "| 6 | 9 |\n",
       "\n"
      ],
      "text/plain": [
       "     [,1] [,2]\n",
       "[1,] 4    7   \n",
       "[2,] 5    8   \n",
       "[3,] 6    9   "
      ]
     },
     "metadata": {},
     "output_type": "display_data"
    },
    {
     "name": "stdout",
     "output_type": "stream",
     "text": [
      "[1] \"one_col\"\n"
     ]
    },
    {
     "data": {
      "text/html": [
       "<style>\n",
       ".list-inline {list-style: none; margin:0; padding: 0}\n",
       ".list-inline>li {display: inline-block}\n",
       ".list-inline>li:not(:last-child)::after {content: \"\\00b7\"; padding: 0 .5ex}\n",
       "</style>\n",
       "<ol class=list-inline><li>4</li><li>5</li><li>6</li></ol>\n"
      ],
      "text/latex": [
       "\\begin{enumerate*}\n",
       "\\item 4\n",
       "\\item 5\n",
       "\\item 6\n",
       "\\end{enumerate*}\n"
      ],
      "text/markdown": [
       "1. 4\n",
       "2. 5\n",
       "3. 6\n",
       "\n",
       "\n"
      ],
      "text/plain": [
       "[1] 4 5 6"
      ]
     },
     "metadata": {},
     "output_type": "display_data"
    },
    {
     "data": {
      "text/plain": [
       "NULL"
      ]
     },
     "metadata": {},
     "output_type": "display_data"
    },
    {
     "data": {
      "text/html": [
       "<table class=\"dataframe\">\n",
       "<caption>A matrix: 3 × 1 of type int</caption>\n",
       "<tbody>\n",
       "\t<tr><td>4</td></tr>\n",
       "\t<tr><td>5</td></tr>\n",
       "\t<tr><td>6</td></tr>\n",
       "</tbody>\n",
       "</table>\n"
      ],
      "text/latex": [
       "A matrix: 3 × 1 of type int\n",
       "\\begin{tabular}{l}\n",
       "\t 4\\\\\n",
       "\t 5\\\\\n",
       "\t 6\\\\\n",
       "\\end{tabular}\n"
      ],
      "text/markdown": [
       "\n",
       "A matrix: 3 × 1 of type int\n",
       "\n",
       "| 4 |\n",
       "| 5 |\n",
       "| 6 |\n",
       "\n"
      ],
      "text/plain": [
       "     [,1]\n",
       "[1,] 4   \n",
       "[2,] 5   \n",
       "[3,] 6   "
      ]
     },
     "metadata": {},
     "output_type": "display_data"
    },
    {
     "data": {
      "text/html": [
       "<style>\n",
       ".list-inline {list-style: none; margin:0; padding: 0}\n",
       ".list-inline>li {display: inline-block}\n",
       ".list-inline>li:not(:last-child)::after {content: \"\\00b7\"; padding: 0 .5ex}\n",
       "</style>\n",
       "<ol class=list-inline><li>3</li><li>1</li></ol>\n"
      ],
      "text/latex": [
       "\\begin{enumerate*}\n",
       "\\item 3\n",
       "\\item 1\n",
       "\\end{enumerate*}\n"
      ],
      "text/markdown": [
       "1. 3\n",
       "2. 1\n",
       "\n",
       "\n"
      ],
      "text/plain": [
       "[1] 3 1"
      ]
     },
     "metadata": {},
     "output_type": "display_data"
    },
    {
     "data": {
      "text/html": [
       "2"
      ],
      "text/latex": [
       "2"
      ],
      "text/markdown": [
       "2"
      ],
      "text/plain": [
       "[1] 2"
      ]
     },
     "metadata": {},
     "output_type": "display_data"
    }
   ],
   "source": [
    "print('cols')\n",
    "cols = mat[, 2:3]  \n",
    "cols\n",
    "print('one_col')\n",
    "one_col =  mat[, 2]\n",
    "one_col\n",
    "dim(one_col)\n",
    "one_big_col = mat[,2, drop = FALSE]\n",
    "one_big_col\n",
    "dim(one_big_col)"
   ]
  },
  {
   "cell_type": "markdown",
   "metadata": {},
   "source": [
    "lien avec les listes"
   ]
  },
  {
   "cell_type": "code",
   "execution_count": 12,
   "metadata": {
    "vscode": {
     "languageId": "r"
    }
   },
   "outputs": [
    {
     "data": {
      "text/html": [
       "<ol>\n",
       "\t<li>4</li>\n",
       "\t<li>5</li>\n",
       "\t<li>6</li>\n",
       "</ol>\n"
      ],
      "text/latex": [
       "\\begin{enumerate}\n",
       "\\item 4\n",
       "\\item 5\n",
       "\\item 6\n",
       "\\end{enumerate}\n"
      ],
      "text/markdown": [
       "1. 4\n",
       "2. 5\n",
       "3. 6\n",
       "\n",
       "\n"
      ],
      "text/plain": [
       "[[1]]\n",
       "[1] 4\n",
       "\n",
       "[[2]]\n",
       "[1] 5\n",
       "\n",
       "[[3]]\n",
       "[1] 6\n"
      ]
     },
     "metadata": {},
     "output_type": "display_data"
    },
    {
     "data": {
      "text/plain": [
       "NULL"
      ]
     },
     "metadata": {},
     "output_type": "display_data"
    },
    {
     "data": {
      "text/html": [
       "<style>\n",
       ".list-inline {list-style: none; margin:0; padding: 0}\n",
       ".list-inline>li {display: inline-block}\n",
       ".list-inline>li:not(:last-child)::after {content: \"\\00b7\"; padding: 0 .5ex}\n",
       "</style>\n",
       "<ol class=list-inline><li>1</li><li>2</li><li>3</li><li>4</li><li>5</li><li>6</li><li>7</li><li>8</li><li>9</li><li>10</li><li>11</li><li>12</li></ol>\n"
      ],
      "text/latex": [
       "\\begin{enumerate*}\n",
       "\\item 1\n",
       "\\item 2\n",
       "\\item 3\n",
       "\\item 4\n",
       "\\item 5\n",
       "\\item 6\n",
       "\\item 7\n",
       "\\item 8\n",
       "\\item 9\n",
       "\\item 10\n",
       "\\item 11\n",
       "\\item 12\n",
       "\\end{enumerate*}\n"
      ],
      "text/markdown": [
       "1. 1\n",
       "2. 2\n",
       "3. 3\n",
       "4. 4\n",
       "5. 5\n",
       "6. 6\n",
       "7. 7\n",
       "8. 8\n",
       "9. 9\n",
       "10. 10\n",
       "11. 11\n",
       "12. 12\n",
       "\n",
       "\n"
      ],
      "text/plain": [
       " [1]  1  2  3  4  5  6  7  8  9 10 11 12"
      ]
     },
     "metadata": {},
     "output_type": "display_data"
    }
   ],
   "source": [
    "list = as.list(one_big_col)\n",
    "list\n",
    "dim(list)\n",
    "big_list = c(mat)\n",
    "big_list"
   ]
  },
  {
   "cell_type": "markdown",
   "metadata": {},
   "source": [
    "### Dataframes"
   ]
  },
  {
   "cell_type": "code",
   "execution_count": 13,
   "metadata": {
    "vscode": {
     "languageId": "r"
    }
   },
   "outputs": [
    {
     "data": {
      "text/html": [
       "<table class=\"dataframe\">\n",
       "<caption>A tibble: 6 × 14</caption>\n",
       "<thead>\n",
       "\t<tr><th scope=col>classe_name</th><th scope=col>patient_num</th><th scope=col>Gender</th><th scope=col>Age_at_disease</th><th scope=col>Date_of_MRI</th><th scope=col>Date_of_surgery</th><th scope=col>Alpha_foetoprotein</th><th scope=col>Local_relapse</th><th scope=col>Date_of_local_relapse</th><th scope=col>Distant_relapse</th><th scope=col>Date_of_distant_relapse</th><th scope=col>Death</th><th scope=col>Date_of_death</th><th scope=col>Date_of_lost_of_FU</th></tr>\n",
       "\t<tr><th scope=col>&lt;chr&gt;</th><th scope=col>&lt;dbl&gt;</th><th scope=col>&lt;chr&gt;</th><th scope=col>&lt;dbl&gt;</th><th scope=col>&lt;dttm&gt;</th><th scope=col>&lt;dttm&gt;</th><th scope=col>&lt;dbl&gt;</th><th scope=col>&lt;dbl&gt;</th><th scope=col>&lt;dttm&gt;</th><th scope=col>&lt;dbl&gt;</th><th scope=col>&lt;dttm&gt;</th><th scope=col>&lt;dbl&gt;</th><th scope=col>&lt;dttm&gt;</th><th scope=col>&lt;dttm&gt;</th></tr>\n",
       "</thead>\n",
       "<tbody>\n",
       "\t<tr><td>CCK</td><td>10</td><td>M</td><td>62</td><td>2015-06-30</td><td>2015-07-01</td><td> NA</td><td> 0</td><td>NA</td><td>0</td><td>NA</td><td>1</td><td>2015-11-11</td><td>NA</td></tr>\n",
       "\t<tr><td>CCK</td><td>11</td><td>F</td><td>57</td><td>2015-05-22</td><td>2015-08-12</td><td>6.1</td><td> 0</td><td>NA</td><td>0</td><td>NA</td><td>0</td><td>NA</td><td>2017-06-08</td></tr>\n",
       "\t<tr><td>CCK</td><td>12</td><td>M</td><td>58</td><td>2016-02-15</td><td>2016-04-13</td><td>1.4</td><td>NA</td><td>NA</td><td>1</td><td>2016-06-16</td><td>1</td><td>2021-03-30</td><td>NA</td></tr>\n",
       "\t<tr><td>CCK</td><td>13</td><td>M</td><td>65</td><td>2016-06-07</td><td>2016-08-05</td><td>0.0</td><td> 0</td><td>NA</td><td>1</td><td>2017-06-19</td><td>1</td><td>2022-04-25</td><td>NA</td></tr>\n",
       "\t<tr><td>CCK</td><td>14</td><td>M</td><td>64</td><td>2016-10-26</td><td>2017-03-16</td><td>0.0</td><td> 0</td><td>NA</td><td>0</td><td>NA</td><td>1</td><td>2017-03-27</td><td>NA</td></tr>\n",
       "\t<tr><td>CCK</td><td>15</td><td>M</td><td>59</td><td>2017-01-31</td><td>2017-03-30</td><td>6.0</td><td> 0</td><td>NA</td><td>0</td><td>NA</td><td>0</td><td>NA</td><td>2023-06-28</td></tr>\n",
       "</tbody>\n",
       "</table>\n"
      ],
      "text/latex": [
       "A tibble: 6 × 14\n",
       "\\begin{tabular}{llllllllllllll}\n",
       " classe\\_name & patient\\_num & Gender & Age\\_at\\_disease & Date\\_of\\_MRI & Date\\_of\\_surgery & Alpha\\_foetoprotein & Local\\_relapse & Date\\_of\\_local\\_relapse & Distant\\_relapse & Date\\_of\\_distant\\_relapse & Death & Date\\_of\\_death & Date\\_of\\_lost\\_of\\_FU\\\\\n",
       " <chr> & <dbl> & <chr> & <dbl> & <dttm> & <dttm> & <dbl> & <dbl> & <dttm> & <dbl> & <dttm> & <dbl> & <dttm> & <dttm>\\\\\n",
       "\\hline\n",
       "\t CCK & 10 & M & 62 & 2015-06-30 & 2015-07-01 &  NA &  0 & NA & 0 & NA & 1 & 2015-11-11 & NA\\\\\n",
       "\t CCK & 11 & F & 57 & 2015-05-22 & 2015-08-12 & 6.1 &  0 & NA & 0 & NA & 0 & NA & 2017-06-08\\\\\n",
       "\t CCK & 12 & M & 58 & 2016-02-15 & 2016-04-13 & 1.4 & NA & NA & 1 & 2016-06-16 & 1 & 2021-03-30 & NA\\\\\n",
       "\t CCK & 13 & M & 65 & 2016-06-07 & 2016-08-05 & 0.0 &  0 & NA & 1 & 2017-06-19 & 1 & 2022-04-25 & NA\\\\\n",
       "\t CCK & 14 & M & 64 & 2016-10-26 & 2017-03-16 & 0.0 &  0 & NA & 0 & NA & 1 & 2017-03-27 & NA\\\\\n",
       "\t CCK & 15 & M & 59 & 2017-01-31 & 2017-03-30 & 6.0 &  0 & NA & 0 & NA & 0 & NA & 2023-06-28\\\\\n",
       "\\end{tabular}\n"
      ],
      "text/markdown": [
       "\n",
       "A tibble: 6 × 14\n",
       "\n",
       "| classe_name &lt;chr&gt; | patient_num &lt;dbl&gt; | Gender &lt;chr&gt; | Age_at_disease &lt;dbl&gt; | Date_of_MRI &lt;dttm&gt; | Date_of_surgery &lt;dttm&gt; | Alpha_foetoprotein &lt;dbl&gt; | Local_relapse &lt;dbl&gt; | Date_of_local_relapse &lt;dttm&gt; | Distant_relapse &lt;dbl&gt; | Date_of_distant_relapse &lt;dttm&gt; | Death &lt;dbl&gt; | Date_of_death &lt;dttm&gt; | Date_of_lost_of_FU &lt;dttm&gt; |\n",
       "|---|---|---|---|---|---|---|---|---|---|---|---|---|---|\n",
       "| CCK | 10 | M | 62 | 2015-06-30 | 2015-07-01 |  NA |  0 | NA | 0 | NA | 1 | 2015-11-11 | NA |\n",
       "| CCK | 11 | F | 57 | 2015-05-22 | 2015-08-12 | 6.1 |  0 | NA | 0 | NA | 0 | NA | 2017-06-08 |\n",
       "| CCK | 12 | M | 58 | 2016-02-15 | 2016-04-13 | 1.4 | NA | NA | 1 | 2016-06-16 | 1 | 2021-03-30 | NA |\n",
       "| CCK | 13 | M | 65 | 2016-06-07 | 2016-08-05 | 0.0 |  0 | NA | 1 | 2017-06-19 | 1 | 2022-04-25 | NA |\n",
       "| CCK | 14 | M | 64 | 2016-10-26 | 2017-03-16 | 0.0 |  0 | NA | 0 | NA | 1 | 2017-03-27 | NA |\n",
       "| CCK | 15 | M | 59 | 2017-01-31 | 2017-03-30 | 6.0 |  0 | NA | 0 | NA | 0 | NA | 2023-06-28 |\n",
       "\n"
      ],
      "text/plain": [
       "  classe_name patient_num Gender Age_at_disease Date_of_MRI Date_of_surgery\n",
       "1 CCK         10          M      62             2015-06-30  2015-07-01     \n",
       "2 CCK         11          F      57             2015-05-22  2015-08-12     \n",
       "3 CCK         12          M      58             2016-02-15  2016-04-13     \n",
       "4 CCK         13          M      65             2016-06-07  2016-08-05     \n",
       "5 CCK         14          M      64             2016-10-26  2017-03-16     \n",
       "6 CCK         15          M      59             2017-01-31  2017-03-30     \n",
       "  Alpha_foetoprotein Local_relapse Date_of_local_relapse Distant_relapse\n",
       "1  NA                 0            <NA>                  0              \n",
       "2 6.1                 0            <NA>                  0              \n",
       "3 1.4                NA            <NA>                  1              \n",
       "4 0.0                 0            <NA>                  1              \n",
       "5 0.0                 0            <NA>                  0              \n",
       "6 6.0                 0            <NA>                  0              \n",
       "  Date_of_distant_relapse Death Date_of_death Date_of_lost_of_FU\n",
       "1 <NA>                    1     2015-11-11    <NA>              \n",
       "2 <NA>                    0     <NA>          2017-06-08        \n",
       "3 2016-06-16              1     2021-03-30    <NA>              \n",
       "4 2017-06-19              1     2022-04-25    <NA>              \n",
       "5 <NA>                    1     2017-03-27    <NA>              \n",
       "6 <NA>                    0     <NA>          2023-06-28        "
      ]
     },
     "metadata": {},
     "output_type": "display_data"
    }
   ],
   "source": [
    "library(readxl)\n",
    "df = read_excel('../data/Descriptif_patients.xlsx')\n",
    "head(df)"
   ]
  },
  {
   "cell_type": "code",
   "execution_count": 14,
   "metadata": {
    "vscode": {
     "languageId": "r"
    }
   },
   "outputs": [
    {
     "data": {
      "text/plain": [
       " classe_name         patient_num        Gender          Age_at_disease \n",
       " Length:147         Min.   :  1.00   Length:147         Min.   :24.00  \n",
       " Class :character   1st Qu.: 15.50   Class :character   1st Qu.:55.24  \n",
       " Mode  :character   Median : 33.00   Mode  :character   Median :61.43  \n",
       "                    Mean   : 61.22                      Mean   :62.23  \n",
       "                    3rd Qu.: 84.50                      3rd Qu.:71.18  \n",
       "                    Max.   :222.00                      Max.   :93.00  \n",
       "                                                        NA's   :5      \n",
       "  Date_of_MRI                     Date_of_surgery                 \n",
       " Min.   :2008-11-24 00:00:00.00   Min.   :1905-07-02 00:00:00.00  \n",
       " 1st Qu.:2012-12-26 00:00:00.00   1st Qu.:2013-10-23 06:00:00.00  \n",
       " Median :2015-05-12 00:00:00.00   Median :2015-08-09 12:00:00.00  \n",
       " Mean   :2015-05-29 12:44:41.38   Mean   :2013-06-10 18:43:38.18  \n",
       " 3rd Qu.:2017-09-20 00:00:00.00   3rd Qu.:2017-12-25 06:00:00.00  \n",
       " Max.   :2021-01-14 00:00:00.00   Max.   :2021-02-01 00:00:00.00  \n",
       " NA's   :2                        NA's   :15                      \n",
       " Alpha_foetoprotein Local_relapse    Date_of_local_relapse        \n",
       " Min.   :     0.0   Min.   :0.0000   Min.   :2012-04-01 00:00:00  \n",
       " 1st Qu.:     2.0   1st Qu.:0.0000   1st Qu.:2015-12-03 18:00:00  \n",
       " Median :     6.1   Median :0.0000   Median :2017-11-19 12:00:00  \n",
       " Mean   :  3535.7   Mean   :0.3967   Mean   :2017-08-22 12:30:00  \n",
       " 3rd Qu.:    66.0   3rd Qu.:1.0000   3rd Qu.:2019-08-02 00:00:00  \n",
       " Max.   :176000.0   Max.   :1.0000   Max.   :2022-11-25 00:00:00  \n",
       " NA's   :34         NA's   :26       NA's   :99                   \n",
       " Distant_relapse  Date_of_distant_relapse           Death       \n",
       " Min.   :0.0000   Min.   :2012-04-01 00:00:00   Min.   :0.0000  \n",
       " 1st Qu.:0.0000   1st Qu.:2015-07-09 00:00:00   1st Qu.:0.0000  \n",
       " Median :0.0000   Median :2017-07-15 12:00:00   Median :0.0000  \n",
       " Mean   :0.3033   Mean   :2017-06-09 03:20:00   Mean   :0.4109  \n",
       " 3rd Qu.:1.0000   3rd Qu.:2019-10-10 18:00:00   3rd Qu.:1.0000  \n",
       " Max.   :1.0000   Max.   :2021-08-30 00:00:00   Max.   :1.0000  \n",
       " NA's   :25       NA's   :111                   NA's   :18      \n",
       " Date_of_death                    Date_of_lost_of_FU              \n",
       " Min.   :2013-05-02 00:00:00.0    Min.   :2016-04-08 00:00:00.00  \n",
       " 1st Qu.:2015-09-23 00:00:00.0    1st Qu.:2021-10-17 00:00:00.00  \n",
       " Median :2018-07-10 00:00:00.0    Median :2023-10-18 00:00:00.00  \n",
       " Mean   :2361-05-17 20:49:48.7    Mean   :2022-06-27 12:18:27.69  \n",
       " 3rd Qu.:2020-11-18 00:00:00.0    3rd Qu.:2023-11-28 00:00:00.00  \n",
       " Max.   :20202-03-03 00:00:00.0   Max.   :2023-12-08 00:00:00.00  \n",
       " NA's   :94                       NA's   :108                     "
      ]
     },
     "metadata": {},
     "output_type": "display_data"
    }
   ],
   "source": [
    "summary(df)"
   ]
  },
  {
   "cell_type": "code",
   "execution_count": 29,
   "metadata": {
    "vscode": {
     "languageId": "r"
    }
   },
   "outputs": [
    {
     "data": {
      "text/html": [
       "<style>\n",
       ".list-inline {list-style: none; margin:0; padding: 0}\n",
       ".list-inline>li {display: inline-block}\n",
       ".list-inline>li:not(:last-child)::after {content: \"\\00b7\"; padding: 0 .5ex}\n",
       "</style>\n",
       "<ol class=list-inline><li>10</li><li>11</li><li>12</li><li>13</li><li>14</li><li>15</li><li>16</li><li>17</li><li>18</li><li>19</li><li>1</li><li>20</li><li>21</li><li>23</li><li>24</li><li>25</li><li>2</li><li>3</li><li>4</li><li>5</li><li>6</li><li>8</li><li>9</li><li>100</li><li>101</li><li>104</li><li>107</li><li>108</li><li>110</li><li>111</li><li>112</li><li>116</li><li>119</li><li>11</li><li>121</li><li>13</li><li>18</li><li>19</li><li>1</li><li>203</li><li>204</li><li>205</li><li>206</li><li>207</li><li>209</li><li>20</li><li>210</li><li>211</li><li>212</li><li>213</li><li>214</li><li>215</li><li>216</li><li>217</li><li>218</li><li>21</li><li>220</li><li>221</li><li>222</li><li>22</li><li>24</li><li>25</li><li>29</li><li>30</li><li>31</li><li>32</li><li>34</li><li>38</li><li>39</li><li>3</li><li>42</li><li>43</li><li>45</li><li>49</li><li>4</li><li>50</li><li>51</li><li>52</li><li>55</li><li>57</li><li>58</li><li>59</li><li>61</li><li>62</li><li>63</li><li>64</li><li>65</li><li>68</li><li>69</li><li>70</li><li>71</li><li>73</li><li>74</li><li>75</li><li>77</li><li>79</li><li>7</li><li>81</li><li>82</li><li>84</li><li>85</li><li>87</li><li>8</li><li>90</li><li>92</li><li>93</li><li>95</li><li>96</li><li>99</li><li>9</li><li>10</li><li>11</li><li>12</li><li>13</li><li>14</li><li>15</li><li>16</li><li>17</li><li>18</li><li>19</li><li>1</li><li>20</li><li>21</li><li>22</li><li>24</li><li>25</li><li>26</li><li>27</li><li>28</li><li>29</li><li>2</li><li>30</li><li>31</li><li>32</li><li>33</li><li>34</li><li>35</li><li>36</li><li>37</li><li>38</li><li>3</li><li>4</li><li>5</li><li>6</li><li>7</li><li>8</li><li>9</li></ol>\n"
      ],
      "text/latex": [
       "\\begin{enumerate*}\n",
       "\\item 10\n",
       "\\item 11\n",
       "\\item 12\n",
       "\\item 13\n",
       "\\item 14\n",
       "\\item 15\n",
       "\\item 16\n",
       "\\item 17\n",
       "\\item 18\n",
       "\\item 19\n",
       "\\item 1\n",
       "\\item 20\n",
       "\\item 21\n",
       "\\item 23\n",
       "\\item 24\n",
       "\\item 25\n",
       "\\item 2\n",
       "\\item 3\n",
       "\\item 4\n",
       "\\item 5\n",
       "\\item 6\n",
       "\\item 8\n",
       "\\item 9\n",
       "\\item 100\n",
       "\\item 101\n",
       "\\item 104\n",
       "\\item 107\n",
       "\\item 108\n",
       "\\item 110\n",
       "\\item 111\n",
       "\\item 112\n",
       "\\item 116\n",
       "\\item 119\n",
       "\\item 11\n",
       "\\item 121\n",
       "\\item 13\n",
       "\\item 18\n",
       "\\item 19\n",
       "\\item 1\n",
       "\\item 203\n",
       "\\item 204\n",
       "\\item 205\n",
       "\\item 206\n",
       "\\item 207\n",
       "\\item 209\n",
       "\\item 20\n",
       "\\item 210\n",
       "\\item 211\n",
       "\\item 212\n",
       "\\item 213\n",
       "\\item 214\n",
       "\\item 215\n",
       "\\item 216\n",
       "\\item 217\n",
       "\\item 218\n",
       "\\item 21\n",
       "\\item 220\n",
       "\\item 221\n",
       "\\item 222\n",
       "\\item 22\n",
       "\\item 24\n",
       "\\item 25\n",
       "\\item 29\n",
       "\\item 30\n",
       "\\item 31\n",
       "\\item 32\n",
       "\\item 34\n",
       "\\item 38\n",
       "\\item 39\n",
       "\\item 3\n",
       "\\item 42\n",
       "\\item 43\n",
       "\\item 45\n",
       "\\item 49\n",
       "\\item 4\n",
       "\\item 50\n",
       "\\item 51\n",
       "\\item 52\n",
       "\\item 55\n",
       "\\item 57\n",
       "\\item 58\n",
       "\\item 59\n",
       "\\item 61\n",
       "\\item 62\n",
       "\\item 63\n",
       "\\item 64\n",
       "\\item 65\n",
       "\\item 68\n",
       "\\item 69\n",
       "\\item 70\n",
       "\\item 71\n",
       "\\item 73\n",
       "\\item 74\n",
       "\\item 75\n",
       "\\item 77\n",
       "\\item 79\n",
       "\\item 7\n",
       "\\item 81\n",
       "\\item 82\n",
       "\\item 84\n",
       "\\item 85\n",
       "\\item 87\n",
       "\\item 8\n",
       "\\item 90\n",
       "\\item 92\n",
       "\\item 93\n",
       "\\item 95\n",
       "\\item 96\n",
       "\\item 99\n",
       "\\item 9\n",
       "\\item 10\n",
       "\\item 11\n",
       "\\item 12\n",
       "\\item 13\n",
       "\\item 14\n",
       "\\item 15\n",
       "\\item 16\n",
       "\\item 17\n",
       "\\item 18\n",
       "\\item 19\n",
       "\\item 1\n",
       "\\item 20\n",
       "\\item 21\n",
       "\\item 22\n",
       "\\item 24\n",
       "\\item 25\n",
       "\\item 26\n",
       "\\item 27\n",
       "\\item 28\n",
       "\\item 29\n",
       "\\item 2\n",
       "\\item 30\n",
       "\\item 31\n",
       "\\item 32\n",
       "\\item 33\n",
       "\\item 34\n",
       "\\item 35\n",
       "\\item 36\n",
       "\\item 37\n",
       "\\item 38\n",
       "\\item 3\n",
       "\\item 4\n",
       "\\item 5\n",
       "\\item 6\n",
       "\\item 7\n",
       "\\item 8\n",
       "\\item 9\n",
       "\\end{enumerate*}\n"
      ],
      "text/markdown": [
       "1. 10\n",
       "2. 11\n",
       "3. 12\n",
       "4. 13\n",
       "5. 14\n",
       "6. 15\n",
       "7. 16\n",
       "8. 17\n",
       "9. 18\n",
       "10. 19\n",
       "11. 1\n",
       "12. 20\n",
       "13. 21\n",
       "14. 23\n",
       "15. 24\n",
       "16. 25\n",
       "17. 2\n",
       "18. 3\n",
       "19. 4\n",
       "20. 5\n",
       "21. 6\n",
       "22. 8\n",
       "23. 9\n",
       "24. 100\n",
       "25. 101\n",
       "26. 104\n",
       "27. 107\n",
       "28. 108\n",
       "29. 110\n",
       "30. 111\n",
       "31. 112\n",
       "32. 116\n",
       "33. 119\n",
       "34. 11\n",
       "35. 121\n",
       "36. 13\n",
       "37. 18\n",
       "38. 19\n",
       "39. 1\n",
       "40. 203\n",
       "41. 204\n",
       "42. 205\n",
       "43. 206\n",
       "44. 207\n",
       "45. 209\n",
       "46. 20\n",
       "47. 210\n",
       "48. 211\n",
       "49. 212\n",
       "50. 213\n",
       "51. 214\n",
       "52. 215\n",
       "53. 216\n",
       "54. 217\n",
       "55. 218\n",
       "56. 21\n",
       "57. 220\n",
       "58. 221\n",
       "59. 222\n",
       "60. 22\n",
       "61. 24\n",
       "62. 25\n",
       "63. 29\n",
       "64. 30\n",
       "65. 31\n",
       "66. 32\n",
       "67. 34\n",
       "68. 38\n",
       "69. 39\n",
       "70. 3\n",
       "71. 42\n",
       "72. 43\n",
       "73. 45\n",
       "74. 49\n",
       "75. 4\n",
       "76. 50\n",
       "77. 51\n",
       "78. 52\n",
       "79. 55\n",
       "80. 57\n",
       "81. 58\n",
       "82. 59\n",
       "83. 61\n",
       "84. 62\n",
       "85. 63\n",
       "86. 64\n",
       "87. 65\n",
       "88. 68\n",
       "89. 69\n",
       "90. 70\n",
       "91. 71\n",
       "92. 73\n",
       "93. 74\n",
       "94. 75\n",
       "95. 77\n",
       "96. 79\n",
       "97. 7\n",
       "98. 81\n",
       "99. 82\n",
       "100. 84\n",
       "101. 85\n",
       "102. 87\n",
       "103. 8\n",
       "104. 90\n",
       "105. 92\n",
       "106. 93\n",
       "107. 95\n",
       "108. 96\n",
       "109. 99\n",
       "110. 9\n",
       "111. 10\n",
       "112. 11\n",
       "113. 12\n",
       "114. 13\n",
       "115. 14\n",
       "116. 15\n",
       "117. 16\n",
       "118. 17\n",
       "119. 18\n",
       "120. 19\n",
       "121. 1\n",
       "122. 20\n",
       "123. 21\n",
       "124. 22\n",
       "125. 24\n",
       "126. 25\n",
       "127. 26\n",
       "128. 27\n",
       "129. 28\n",
       "130. 29\n",
       "131. 2\n",
       "132. 30\n",
       "133. 31\n",
       "134. 32\n",
       "135. 33\n",
       "136. 34\n",
       "137. 35\n",
       "138. 36\n",
       "139. 37\n",
       "140. 38\n",
       "141. 3\n",
       "142. 4\n",
       "143. 5\n",
       "144. 6\n",
       "145. 7\n",
       "146. 8\n",
       "147. 9\n",
       "\n",
       "\n"
      ],
      "text/plain": [
       "  [1]  10  11  12  13  14  15  16  17  18  19   1  20  21  23  24  25   2   3\n",
       " [19]   4   5   6   8   9 100 101 104 107 108 110 111 112 116 119  11 121  13\n",
       " [37]  18  19   1 203 204 205 206 207 209  20 210 211 212 213 214 215 216 217\n",
       " [55] 218  21 220 221 222  22  24  25  29  30  31  32  34  38  39   3  42  43\n",
       " [73]  45  49   4  50  51  52  55  57  58  59  61  62  63  64  65  68  69  70\n",
       " [91]  71  73  74  75  77  79   7  81  82  84  85  87   8  90  92  93  95  96\n",
       "[109]  99   9  10  11  12  13  14  15  16  17  18  19   1  20  21  22  24  25\n",
       "[127]  26  27  28  29   2  30  31  32  33  34  35  36  37  38   3   4   5   6\n",
       "[145]   7   8   9"
      ]
     },
     "metadata": {},
     "output_type": "display_data"
    },
    {
     "data": {
      "text/html": [
       "<style>\n",
       ".list-inline {list-style: none; margin:0; padding: 0}\n",
       ".list-inline>li {display: inline-block}\n",
       ".list-inline>li:not(:last-child)::after {content: \"\\00b7\"; padding: 0 .5ex}\n",
       "</style>\n",
       "<ol class=list-inline><li>10</li><li>11</li><li>12</li><li>13</li><li>14</li><li>15</li><li>16</li><li>17</li><li>18</li><li>19</li><li>1</li><li>20</li><li>21</li><li>23</li><li>24</li><li>25</li><li>2</li><li>3</li><li>4</li><li>5</li><li>6</li><li>8</li><li>9</li><li>100</li><li>101</li><li>104</li><li>107</li><li>108</li><li>110</li><li>111</li><li>112</li><li>116</li><li>119</li><li>11</li><li>121</li><li>13</li><li>18</li><li>19</li><li>1</li><li>203</li><li>204</li><li>205</li><li>206</li><li>207</li><li>209</li><li>20</li><li>210</li><li>211</li><li>212</li><li>213</li><li>214</li><li>215</li><li>216</li><li>217</li><li>218</li><li>21</li><li>220</li><li>221</li><li>222</li><li>22</li><li>24</li><li>25</li><li>29</li><li>30</li><li>31</li><li>32</li><li>34</li><li>38</li><li>39</li><li>3</li><li>42</li><li>43</li><li>45</li><li>49</li><li>4</li><li>50</li><li>51</li><li>52</li><li>55</li><li>57</li><li>58</li><li>59</li><li>61</li><li>62</li><li>63</li><li>64</li><li>65</li><li>68</li><li>69</li><li>70</li><li>71</li><li>73</li><li>74</li><li>75</li><li>77</li><li>79</li><li>7</li><li>81</li><li>82</li><li>84</li><li>85</li><li>87</li><li>8</li><li>90</li><li>92</li><li>93</li><li>95</li><li>96</li><li>99</li><li>9</li><li>10</li><li>11</li><li>12</li><li>13</li><li>14</li><li>15</li><li>16</li><li>17</li><li>18</li><li>19</li><li>1</li><li>20</li><li>21</li><li>22</li><li>24</li><li>25</li><li>26</li><li>27</li><li>28</li><li>29</li><li>2</li><li>30</li><li>31</li><li>32</li><li>33</li><li>34</li><li>35</li><li>36</li><li>37</li><li>38</li><li>3</li><li>4</li><li>5</li><li>6</li><li>7</li><li>8</li><li>9</li></ol>\n"
      ],
      "text/latex": [
       "\\begin{enumerate*}\n",
       "\\item 10\n",
       "\\item 11\n",
       "\\item 12\n",
       "\\item 13\n",
       "\\item 14\n",
       "\\item 15\n",
       "\\item 16\n",
       "\\item 17\n",
       "\\item 18\n",
       "\\item 19\n",
       "\\item 1\n",
       "\\item 20\n",
       "\\item 21\n",
       "\\item 23\n",
       "\\item 24\n",
       "\\item 25\n",
       "\\item 2\n",
       "\\item 3\n",
       "\\item 4\n",
       "\\item 5\n",
       "\\item 6\n",
       "\\item 8\n",
       "\\item 9\n",
       "\\item 100\n",
       "\\item 101\n",
       "\\item 104\n",
       "\\item 107\n",
       "\\item 108\n",
       "\\item 110\n",
       "\\item 111\n",
       "\\item 112\n",
       "\\item 116\n",
       "\\item 119\n",
       "\\item 11\n",
       "\\item 121\n",
       "\\item 13\n",
       "\\item 18\n",
       "\\item 19\n",
       "\\item 1\n",
       "\\item 203\n",
       "\\item 204\n",
       "\\item 205\n",
       "\\item 206\n",
       "\\item 207\n",
       "\\item 209\n",
       "\\item 20\n",
       "\\item 210\n",
       "\\item 211\n",
       "\\item 212\n",
       "\\item 213\n",
       "\\item 214\n",
       "\\item 215\n",
       "\\item 216\n",
       "\\item 217\n",
       "\\item 218\n",
       "\\item 21\n",
       "\\item 220\n",
       "\\item 221\n",
       "\\item 222\n",
       "\\item 22\n",
       "\\item 24\n",
       "\\item 25\n",
       "\\item 29\n",
       "\\item 30\n",
       "\\item 31\n",
       "\\item 32\n",
       "\\item 34\n",
       "\\item 38\n",
       "\\item 39\n",
       "\\item 3\n",
       "\\item 42\n",
       "\\item 43\n",
       "\\item 45\n",
       "\\item 49\n",
       "\\item 4\n",
       "\\item 50\n",
       "\\item 51\n",
       "\\item 52\n",
       "\\item 55\n",
       "\\item 57\n",
       "\\item 58\n",
       "\\item 59\n",
       "\\item 61\n",
       "\\item 62\n",
       "\\item 63\n",
       "\\item 64\n",
       "\\item 65\n",
       "\\item 68\n",
       "\\item 69\n",
       "\\item 70\n",
       "\\item 71\n",
       "\\item 73\n",
       "\\item 74\n",
       "\\item 75\n",
       "\\item 77\n",
       "\\item 79\n",
       "\\item 7\n",
       "\\item 81\n",
       "\\item 82\n",
       "\\item 84\n",
       "\\item 85\n",
       "\\item 87\n",
       "\\item 8\n",
       "\\item 90\n",
       "\\item 92\n",
       "\\item 93\n",
       "\\item 95\n",
       "\\item 96\n",
       "\\item 99\n",
       "\\item 9\n",
       "\\item 10\n",
       "\\item 11\n",
       "\\item 12\n",
       "\\item 13\n",
       "\\item 14\n",
       "\\item 15\n",
       "\\item 16\n",
       "\\item 17\n",
       "\\item 18\n",
       "\\item 19\n",
       "\\item 1\n",
       "\\item 20\n",
       "\\item 21\n",
       "\\item 22\n",
       "\\item 24\n",
       "\\item 25\n",
       "\\item 26\n",
       "\\item 27\n",
       "\\item 28\n",
       "\\item 29\n",
       "\\item 2\n",
       "\\item 30\n",
       "\\item 31\n",
       "\\item 32\n",
       "\\item 33\n",
       "\\item 34\n",
       "\\item 35\n",
       "\\item 36\n",
       "\\item 37\n",
       "\\item 38\n",
       "\\item 3\n",
       "\\item 4\n",
       "\\item 5\n",
       "\\item 6\n",
       "\\item 7\n",
       "\\item 8\n",
       "\\item 9\n",
       "\\end{enumerate*}\n"
      ],
      "text/markdown": [
       "1. 10\n",
       "2. 11\n",
       "3. 12\n",
       "4. 13\n",
       "5. 14\n",
       "6. 15\n",
       "7. 16\n",
       "8. 17\n",
       "9. 18\n",
       "10. 19\n",
       "11. 1\n",
       "12. 20\n",
       "13. 21\n",
       "14. 23\n",
       "15. 24\n",
       "16. 25\n",
       "17. 2\n",
       "18. 3\n",
       "19. 4\n",
       "20. 5\n",
       "21. 6\n",
       "22. 8\n",
       "23. 9\n",
       "24. 100\n",
       "25. 101\n",
       "26. 104\n",
       "27. 107\n",
       "28. 108\n",
       "29. 110\n",
       "30. 111\n",
       "31. 112\n",
       "32. 116\n",
       "33. 119\n",
       "34. 11\n",
       "35. 121\n",
       "36. 13\n",
       "37. 18\n",
       "38. 19\n",
       "39. 1\n",
       "40. 203\n",
       "41. 204\n",
       "42. 205\n",
       "43. 206\n",
       "44. 207\n",
       "45. 209\n",
       "46. 20\n",
       "47. 210\n",
       "48. 211\n",
       "49. 212\n",
       "50. 213\n",
       "51. 214\n",
       "52. 215\n",
       "53. 216\n",
       "54. 217\n",
       "55. 218\n",
       "56. 21\n",
       "57. 220\n",
       "58. 221\n",
       "59. 222\n",
       "60. 22\n",
       "61. 24\n",
       "62. 25\n",
       "63. 29\n",
       "64. 30\n",
       "65. 31\n",
       "66. 32\n",
       "67. 34\n",
       "68. 38\n",
       "69. 39\n",
       "70. 3\n",
       "71. 42\n",
       "72. 43\n",
       "73. 45\n",
       "74. 49\n",
       "75. 4\n",
       "76. 50\n",
       "77. 51\n",
       "78. 52\n",
       "79. 55\n",
       "80. 57\n",
       "81. 58\n",
       "82. 59\n",
       "83. 61\n",
       "84. 62\n",
       "85. 63\n",
       "86. 64\n",
       "87. 65\n",
       "88. 68\n",
       "89. 69\n",
       "90. 70\n",
       "91. 71\n",
       "92. 73\n",
       "93. 74\n",
       "94. 75\n",
       "95. 77\n",
       "96. 79\n",
       "97. 7\n",
       "98. 81\n",
       "99. 82\n",
       "100. 84\n",
       "101. 85\n",
       "102. 87\n",
       "103. 8\n",
       "104. 90\n",
       "105. 92\n",
       "106. 93\n",
       "107. 95\n",
       "108. 96\n",
       "109. 99\n",
       "110. 9\n",
       "111. 10\n",
       "112. 11\n",
       "113. 12\n",
       "114. 13\n",
       "115. 14\n",
       "116. 15\n",
       "117. 16\n",
       "118. 17\n",
       "119. 18\n",
       "120. 19\n",
       "121. 1\n",
       "122. 20\n",
       "123. 21\n",
       "124. 22\n",
       "125. 24\n",
       "126. 25\n",
       "127. 26\n",
       "128. 27\n",
       "129. 28\n",
       "130. 29\n",
       "131. 2\n",
       "132. 30\n",
       "133. 31\n",
       "134. 32\n",
       "135. 33\n",
       "136. 34\n",
       "137. 35\n",
       "138. 36\n",
       "139. 37\n",
       "140. 38\n",
       "141. 3\n",
       "142. 4\n",
       "143. 5\n",
       "144. 6\n",
       "145. 7\n",
       "146. 8\n",
       "147. 9\n",
       "\n",
       "\n"
      ],
      "text/plain": [
       "  [1]  10  11  12  13  14  15  16  17  18  19   1  20  21  23  24  25   2   3\n",
       " [19]   4   5   6   8   9 100 101 104 107 108 110 111 112 116 119  11 121  13\n",
       " [37]  18  19   1 203 204 205 206 207 209  20 210 211 212 213 214 215 216 217\n",
       " [55] 218  21 220 221 222  22  24  25  29  30  31  32  34  38  39   3  42  43\n",
       " [73]  45  49   4  50  51  52  55  57  58  59  61  62  63  64  65  68  69  70\n",
       " [91]  71  73  74  75  77  79   7  81  82  84  85  87   8  90  92  93  95  96\n",
       "[109]  99   9  10  11  12  13  14  15  16  17  18  19   1  20  21  22  24  25\n",
       "[127]  26  27  28  29   2  30  31  32  33  34  35  36  37  38   3   4   5   6\n",
       "[145]   7   8   9"
      ]
     },
     "metadata": {},
     "output_type": "display_data"
    },
    {
     "data": {
      "text/html": [
       "<style>\n",
       ".list-inline {list-style: none; margin:0; padding: 0}\n",
       ".list-inline>li {display: inline-block}\n",
       ".list-inline>li:not(:last-child)::after {content: \"\\00b7\"; padding: 0 .5ex}\n",
       "</style>\n",
       "<ol class=list-inline><li>10</li><li>11</li><li>12</li><li>13</li><li>14</li><li>15</li></ol>\n"
      ],
      "text/latex": [
       "\\begin{enumerate*}\n",
       "\\item 10\n",
       "\\item 11\n",
       "\\item 12\n",
       "\\item 13\n",
       "\\item 14\n",
       "\\item 15\n",
       "\\end{enumerate*}\n"
      ],
      "text/markdown": [
       "1. 10\n",
       "2. 11\n",
       "3. 12\n",
       "4. 13\n",
       "5. 14\n",
       "6. 15\n",
       "\n",
       "\n"
      ],
      "text/plain": [
       "[1] 10 11 12 13 14 15"
      ]
     },
     "metadata": {},
     "output_type": "display_data"
    },
    {
     "data": {
      "text/html": [
       "<style>\n",
       ".list-inline {list-style: none; margin:0; padding: 0}\n",
       ".list-inline>li {display: inline-block}\n",
       ".list-inline>li:not(:last-child)::after {content: \"\\00b7\"; padding: 0 .5ex}\n",
       "</style>\n",
       "<ol class=list-inline><li>147</li><li>14</li></ol>\n"
      ],
      "text/latex": [
       "\\begin{enumerate*}\n",
       "\\item 147\n",
       "\\item 14\n",
       "\\end{enumerate*}\n"
      ],
      "text/markdown": [
       "1. 147\n",
       "2. 14\n",
       "\n",
       "\n"
      ],
      "text/plain": [
       "[1] 147  14"
      ]
     },
     "metadata": {},
     "output_type": "display_data"
    },
    {
     "data": {
      "text/html": [
       "<table class=\"dataframe\">\n",
       "<caption>A tibble: 6 × 2</caption>\n",
       "<thead>\n",
       "\t<tr><th scope=col>patient_num</th><th scope=col>Gender</th></tr>\n",
       "\t<tr><th scope=col>&lt;dbl&gt;</th><th scope=col>&lt;chr&gt;</th></tr>\n",
       "</thead>\n",
       "<tbody>\n",
       "\t<tr><td>10</td><td>M</td></tr>\n",
       "\t<tr><td>11</td><td>F</td></tr>\n",
       "\t<tr><td>12</td><td>M</td></tr>\n",
       "\t<tr><td>13</td><td>M</td></tr>\n",
       "\t<tr><td>14</td><td>M</td></tr>\n",
       "\t<tr><td>15</td><td>M</td></tr>\n",
       "</tbody>\n",
       "</table>\n"
      ],
      "text/latex": [
       "A tibble: 6 × 2\n",
       "\\begin{tabular}{ll}\n",
       " patient\\_num & Gender\\\\\n",
       " <dbl> & <chr>\\\\\n",
       "\\hline\n",
       "\t 10 & M\\\\\n",
       "\t 11 & F\\\\\n",
       "\t 12 & M\\\\\n",
       "\t 13 & M\\\\\n",
       "\t 14 & M\\\\\n",
       "\t 15 & M\\\\\n",
       "\\end{tabular}\n"
      ],
      "text/markdown": [
       "\n",
       "A tibble: 6 × 2\n",
       "\n",
       "| patient_num &lt;dbl&gt; | Gender &lt;chr&gt; |\n",
       "|---|---|\n",
       "| 10 | M |\n",
       "| 11 | F |\n",
       "| 12 | M |\n",
       "| 13 | M |\n",
       "| 14 | M |\n",
       "| 15 | M |\n",
       "\n"
      ],
      "text/plain": [
       "  patient_num Gender\n",
       "1 10          M     \n",
       "2 11          F     \n",
       "3 12          M     \n",
       "4 13          M     \n",
       "5 14          M     \n",
       "6 15          M     "
      ]
     },
     "metadata": {},
     "output_type": "display_data"
    },
    {
     "data": {
      "text/html": [
       "<table class=\"dataframe\">\n",
       "<caption>A tibble: 6 × 1</caption>\n",
       "<thead>\n",
       "\t<tr><th scope=col>patient_num</th></tr>\n",
       "\t<tr><th scope=col>&lt;dbl&gt;</th></tr>\n",
       "</thead>\n",
       "<tbody>\n",
       "\t<tr><td>10</td></tr>\n",
       "\t<tr><td>11</td></tr>\n",
       "\t<tr><td>12</td></tr>\n",
       "\t<tr><td>13</td></tr>\n",
       "\t<tr><td>14</td></tr>\n",
       "\t<tr><td>15</td></tr>\n",
       "</tbody>\n",
       "</table>\n"
      ],
      "text/latex": [
       "A tibble: 6 × 1\n",
       "\\begin{tabular}{l}\n",
       " patient\\_num\\\\\n",
       " <dbl>\\\\\n",
       "\\hline\n",
       "\t 10\\\\\n",
       "\t 11\\\\\n",
       "\t 12\\\\\n",
       "\t 13\\\\\n",
       "\t 14\\\\\n",
       "\t 15\\\\\n",
       "\\end{tabular}\n"
      ],
      "text/markdown": [
       "\n",
       "A tibble: 6 × 1\n",
       "\n",
       "| patient_num &lt;dbl&gt; |\n",
       "|---|\n",
       "| 10 |\n",
       "| 11 |\n",
       "| 12 |\n",
       "| 13 |\n",
       "| 14 |\n",
       "| 15 |\n",
       "\n"
      ],
      "text/plain": [
       "  patient_num\n",
       "1 10         \n",
       "2 11         \n",
       "3 12         \n",
       "4 13         \n",
       "5 14         \n",
       "6 15         "
      ]
     },
     "metadata": {},
     "output_type": "display_data"
    }
   ],
   "source": [
    "df$patient_num  #to-list\n",
    "df[[2]] #to_list\n",
    "head(df[[\"patient_num\"]]) #to list\n",
    "dim(df)\n",
    "head(df[c(\"patient_num\",\"Gender\")]) #to_df\n",
    "head(df[\"patient_num\"]) #to_df\n"
   ]
  },
  {
   "cell_type": "code",
   "execution_count": 40,
   "metadata": {
    "vscode": {
     "languageId": "r"
    }
   },
   "outputs": [
    {
     "data": {
      "text/html": [
       "<table class=\"dataframe\">\n",
       "<caption>A matrix: 6 × 1 of type dbl</caption>\n",
       "<tbody>\n",
       "\t<tr><td>10</td></tr>\n",
       "\t<tr><td>11</td></tr>\n",
       "\t<tr><td>12</td></tr>\n",
       "\t<tr><td>13</td></tr>\n",
       "\t<tr><td>14</td></tr>\n",
       "\t<tr><td>15</td></tr>\n",
       "</tbody>\n",
       "</table>\n"
      ],
      "text/latex": [
       "A matrix: 6 × 1 of type dbl\n",
       "\\begin{tabular}{l}\n",
       "\t 10\\\\\n",
       "\t 11\\\\\n",
       "\t 12\\\\\n",
       "\t 13\\\\\n",
       "\t 14\\\\\n",
       "\t 15\\\\\n",
       "\\end{tabular}\n"
      ],
      "text/markdown": [
       "\n",
       "A matrix: 6 × 1 of type dbl\n",
       "\n",
       "| 10 |\n",
       "| 11 |\n",
       "| 12 |\n",
       "| 13 |\n",
       "| 14 |\n",
       "| 15 |\n",
       "\n"
      ],
      "text/plain": [
       "     [,1]\n",
       "[1,] 10  \n",
       "[2,] 11  \n",
       "[3,] 12  \n",
       "[4,] 13  \n",
       "[5,] 14  \n",
       "[6,] 15  "
      ]
     },
     "metadata": {},
     "output_type": "display_data"
    },
    {
     "data": {
      "text/html": [
       "<style>\n",
       ".list-inline {list-style: none; margin:0; padding: 0}\n",
       ".list-inline>li {display: inline-block}\n",
       ".list-inline>li:not(:last-child)::after {content: \"\\00b7\"; padding: 0 .5ex}\n",
       "</style>\n",
       "<ol class=list-inline><li>147</li><li>1</li></ol>\n"
      ],
      "text/latex": [
       "\\begin{enumerate*}\n",
       "\\item 147\n",
       "\\item 1\n",
       "\\end{enumerate*}\n"
      ],
      "text/markdown": [
       "1. 147\n",
       "2. 1\n",
       "\n",
       "\n"
      ],
      "text/plain": [
       "[1] 147   1"
      ]
     },
     "metadata": {},
     "output_type": "display_data"
    },
    {
     "data": {
      "text/html": [
       "19"
      ],
      "text/latex": [
       "19"
      ],
      "text/markdown": [
       "19"
      ],
      "text/plain": [
       "[1] 19"
      ]
     },
     "metadata": {},
     "output_type": "display_data"
    }
   ],
   "source": [
    "matrix <- as.matrix(df['patient_num'])\n",
    "colnames(matrix) <- NULL #sinon ça garde le nom: pas bien méchant\n",
    "head(matrix)\n",
    "dim(matrix)"
   ]
  },
  {
   "cell_type": "markdown",
   "metadata": {},
   "source": [
    "## Basic plots"
   ]
  },
  {
   "cell_type": "code",
   "execution_count": 46,
   "metadata": {
    "vscode": {
     "languageId": "r"
    }
   },
   "outputs": [
    {
     "data": {
      "image/png": "[encoded data removed]",
      "text/plain": [
       "Plot with title \"Histogramme des âges\""
      ]
     },
     "metadata": {
      "image/png": {
       "height": 420,
       "width": 420
      }
     },
     "output_type": "display_data"
    }
   ],
   "source": [
    "hist(df$Age_at_disease, col = 'blue', breaks = 10, main = 'Histogramme des âges', xlab = 'Age', ylab = 'Nombre personnes')\n",
    "legend('topright', legend = 'histogramme Âges', fill = 'blue')"
   ]
  },
  {
   "cell_type": "code",
   "execution_count": 52,
   "metadata": {
    "vscode": {
     "languageId": "r"
    }
   },
   "outputs": [
    {
     "data": {
      "image/png": "[encoded data removed]",
      "text/plain": [
       "Plot with title \"Boxplot des âges\""
      ]
     },
     "metadata": {
      "image/png": {
       "height": 420,
       "width": 420
      }
     },
     "output_type": "display_data"
    }
   ],
   "source": [
    "boxplot(Age_at_disease ~ Gender,data = df, col = 'blue', main = 'Boxplot des âges', xlab = 'Age', ylab = 'Nombre personnes')"
   ]
  },
  {
   "cell_type": "code",
   "execution_count": 54,
   "metadata": {
    "vscode": {
     "languageId": "r"
    }
   },
   "outputs": [
    {
     "data": {
      "image/png": "[encoded data removed]",
      "text/plain": [
       "Plot with title \"Fonction sin(x)\""
      ]
     },
     "metadata": {
      "image/png": {
       "height": 420,
       "width": 420
      }
     },
     "output_type": "display_data"
    }
   ],
   "source": [
    "x = seq(1,10,length.out = 100)\n",
    "y = sin(x)\n",
    "plot(x, y, type = 'l', col = 'blue', lwd = 2, main = 'Fonction sin(x)', xlab = 'x', ylab = 'sin(x)')"
   ]
  },
  {
   "cell_type": "markdown",
   "metadata": {},
   "source": [
    "## Boucles\n",
    "\n",
    "Boucle for"
   ]
  },
  {
   "cell_type": "code",
   "execution_count": 59,
   "metadata": {
    "vscode": {
     "languageId": "r"
    }
   },
   "outputs": [
    {
     "name": "stdout",
     "output_type": "stream",
     "text": [
      "[1] 1\n",
      "[1] 2\n",
      "[1] 3\n",
      "[1] 4\n",
      "[1] 5\n",
      "[1] 6\n",
      "[1] 7\n",
      "[1] 8\n",
      "[1] 9\n",
      "[1] 10\n",
      "[1] 11\n",
      "[1] 12\n"
     ]
    },
    {
     "data": {
      "text/html": [
       "<table class=\"dataframe\">\n",
       "<caption>A matrix: 3 × 4 of type int</caption>\n",
       "<tbody>\n",
       "\t<tr><td>1</td><td>4</td><td>7</td><td>10</td></tr>\n",
       "\t<tr><td>2</td><td>5</td><td>8</td><td>11</td></tr>\n",
       "\t<tr><td>3</td><td>6</td><td>9</td><td>12</td></tr>\n",
       "</tbody>\n",
       "</table>\n"
      ],
      "text/latex": [
       "A matrix: 3 × 4 of type int\n",
       "\\begin{tabular}{llll}\n",
       "\t 1 & 4 & 7 & 10\\\\\n",
       "\t 2 & 5 & 8 & 11\\\\\n",
       "\t 3 & 6 & 9 & 12\\\\\n",
       "\\end{tabular}\n"
      ],
      "text/markdown": [
       "\n",
       "A matrix: 3 × 4 of type int\n",
       "\n",
       "| 1 | 4 | 7 | 10 |\n",
       "| 2 | 5 | 8 | 11 |\n",
       "| 3 | 6 | 9 | 12 |\n",
       "\n"
      ],
      "text/plain": [
       "     [,1] [,2] [,3] [,4]\n",
       "[1,] 1    4    7    10  \n",
       "[2,] 2    5    8    11  \n",
       "[3,] 3    6    9    12  "
      ]
     },
     "metadata": {},
     "output_type": "display_data"
    }
   ],
   "source": [
    "for (i in mat){\n",
    "  print(i)\n",
    "}\n",
    "mat"
   ]
  },
  {
   "cell_type": "markdown",
   "metadata": {},
   "source": [
    "Boucle while"
   ]
  },
  {
   "cell_type": "code",
   "execution_count": 63,
   "metadata": {
    "vscode": {
     "languageId": "r"
    }
   },
   "outputs": [
    {
     "name": "stdout",
     "output_type": "stream",
     "text": [
      "[1] 0\n",
      "[1] 1\n",
      "[1] 2\n",
      "[1] 3\n",
      "[1] 4\n"
     ]
    }
   ],
   "source": [
    "i = 0\n",
    "while (i<5){\n",
    "    print(i)\n",
    "    i = i+1\n",
    "}"
   ]
  },
  {
   "cell_type": "markdown",
   "metadata": {},
   "source": [
    "Avec du calcul parallèle (et c'est pas fou!)"
   ]
  },
  {
   "cell_type": "code",
   "execution_count": 79,
   "metadata": {
    "vscode": {
     "languageId": "r"
    }
   },
   "outputs": [
    {
     "name": "stdout",
     "output_type": "stream",
     "text": [
      "                 [,1]       [,2]       [,3]       [,4]       [,5]      [,6]\n",
      "result.1 2.020161e-05 0.02022181 0.04042343 0.06062504 0.08082665 0.1010283\n",
      "result.2 4.040241e-05 0.02024161 0.04044281 0.06064401 0.08084522 0.1010464\n",
      "result.3 6.060239e-05 0.02026140 0.04046219 0.06066299 0.08086379 0.1010646\n",
      "result.4 8.080155e-05 0.02028119 0.04048158 0.06068197 0.08088235 0.1010827\n",
      "result.5 1.009999e-04 0.02030098 0.04050096 0.06070094 0.08090092 0.1011009\n",
      "result.6 1.211974e-04 0.02032077 0.04052034 0.06071991 0.08091948 0.1011191\n",
      "              [,7]      [,8]      [,9]     [,10]     [,11]     [,12]     [,13]\n",
      "result.1 0.1212299 0.1414315 0.1616331 0.1818347 0.2020363 0.2222379 0.2424395\n",
      "result.2 0.1212476 0.1414488 0.1616500 0.1818512 0.2020524 0.2222536 0.2424549\n",
      "result.3 0.1212654 0.1414662 0.1616670 0.1818678 0.2020686 0.2222694 0.2424702\n",
      "result.4 0.1212831 0.1414835 0.1616839 0.1818843 0.2020847 0.2222851 0.2424855\n",
      "result.5 0.1213009 0.1415009 0.1617008 0.1819008 0.2021008 0.2223008 0.2425008\n",
      "result.6 0.1213186 0.1415182 0.1617178 0.1819173 0.2021169 0.2223165 0.2425161\n",
      "             [,14]     [,15]     [,16]     [,17]     [,18]     [,19]     [,20]\n",
      "result.1 0.2626412 0.2828428 0.3030444 0.3232460 0.3434476 0.3636492 0.3838508\n",
      "result.2 0.2626561 0.2828573 0.3030585 0.3232597 0.3434609 0.3636621 0.3838633\n",
      "result.3 0.2626709 0.2828717 0.3030725 0.3232733 0.3434741 0.3636749 0.3838757\n",
      "result.4 0.2626858 0.2828862 0.3030866 0.3232870 0.3434874 0.3636878 0.3838882\n",
      "result.5 0.2627007 0.2829007 0.3031007 0.3233007 0.3435007 0.3637006 0.3839006\n",
      "result.6 0.2627156 0.2829152 0.3031148 0.3233143 0.3435139 0.3637135 0.3839131\n",
      "             [,21]     [,22]     [,23]     [,24]     [,25]     [,26]     [,27]\n",
      "result.1 0.4040524 0.4242541 0.4444557 0.4646573 0.4848589 0.5050605 0.5252621\n",
      "result.2 0.4040645 0.4242657 0.4444669 0.4646681 0.4848693 0.5050705 0.5252717\n",
      "result.3 0.4040765 0.4242773 0.4444781 0.4646789 0.4848797 0.5050805 0.5252813\n",
      "result.4 0.4040886 0.4242889 0.4444893 0.4646897 0.4848901 0.5050905 0.5252909\n",
      "result.5 0.4041006 0.4243006 0.4445006 0.4647005 0.4849005 0.5051005 0.5253005\n",
      "result.6 0.4041126 0.4243122 0.4445118 0.4647113 0.4849109 0.5051105 0.5253101\n",
      "             [,28]     [,29]     [,30]     [,31]     [,32]     [,33]     [,34]\n",
      "result.1 0.5454637 0.5656653 0.5858670 0.6060686 0.6262702 0.6464718 0.6666734\n",
      "result.2 0.5454729 0.5656741 0.5858753 0.6060765 0.6262777 0.6464789 0.6666801\n",
      "result.3 0.5454821 0.5656829 0.5858837 0.6060845 0.6262853 0.6464861 0.6666869\n",
      "result.4 0.5454913 0.5656917 0.5858920 0.6060924 0.6262928 0.6464932 0.6666936\n",
      "result.5 0.5455005 0.5657004 0.5859004 0.6061004 0.6263004 0.6465004 0.6667003\n",
      "result.6 0.5455096 0.5657092 0.5859088 0.6061084 0.6263079 0.6465075 0.6667071\n",
      "             [,35]     [,36]     [,37]     [,38]     [,39]     [,40]     [,41]\n",
      "result.1 0.6868750 0.7070766 0.7272782 0.7474798 0.7676815 0.7878831 0.8080847\n",
      "result.2 0.6868813 0.7070825 0.7272837 0.7474850 0.7676862 0.7878874 0.8080886\n",
      "result.3 0.6868877 0.7070885 0.7272893 0.7474901 0.7676908 0.7878916 0.8080924\n",
      "result.4 0.6868940 0.7070944 0.7272948 0.7474952 0.7676955 0.7878959 0.8080963\n",
      "result.5 0.6869003 0.7071003 0.7273003 0.7475003 0.7677002 0.7879002 0.8081002\n",
      "result.6 0.6869066 0.7071062 0.7273058 0.7475054 0.7677049 0.7879045 0.8081041\n",
      "             [,42]     [,43]     [,44]     [,45]     [,46]     [,47]     [,48]\n",
      "result.1 0.8282863 0.8484879 0.8686895 0.8888911 0.9090927 0.9292944 0.9494960\n",
      "result.2 0.8282898 0.8484910 0.8686922 0.8888934 0.9090946 0.9292958 0.9494970\n",
      "result.3 0.8282932 0.8484940 0.8686948 0.8888956 0.9090964 0.9292972 0.9494980\n",
      "result.4 0.8282967 0.8484971 0.8686975 0.8888979 0.9090983 0.9292986 0.9494990\n",
      "result.5 0.8283002 0.8485002 0.8687001 0.8889001 0.9091001 0.9293001 0.9495001\n",
      "result.6 0.8283036 0.8485032 0.8687028 0.8889024 0.9091019 0.9293015 0.9495011\n",
      "             [,49]     [,50]    [,51]    [,52]    [,53]    [,54]    [,55]\n",
      "result.1 0.9696976 0.9898992 1.010101 1.030302 1.050504 1.070706 1.090907\n",
      "result.2 0.9696982 0.9898994 1.010101 1.030302 1.050503 1.070704 1.090905\n",
      "result.3 0.9696988 0.9898996 1.010100 1.030301 1.050502 1.070703 1.090904\n",
      "result.4 0.9696994 0.9898998 1.010100 1.030301 1.050501 1.070701 1.090902\n",
      "result.5 0.9697000 0.9899000 1.010100 1.030300 1.050500 1.070700 1.090900\n",
      "result.6 0.9697006 0.9899002 1.010100 1.030299 1.050499 1.070699 1.090898\n",
      "            [,56]    [,57]    [,58]    [,59]    [,60]    [,61]    [,62]\n",
      "result.1 1.111109 1.131310 1.151512 1.171714 1.191915 1.212117 1.232319\n",
      "result.2 1.111107 1.131308 1.151509 1.171710 1.191911 1.212113 1.232314\n",
      "result.3 1.111104 1.131305 1.151506 1.171707 1.191908 1.212108 1.232309\n",
      "result.4 1.111102 1.131303 1.151503 1.171703 1.191904 1.212104 1.232304\n",
      "result.5 1.111100 1.131300 1.151500 1.171700 1.191900 1.212100 1.232300\n",
      "result.6 1.111098 1.131297 1.151497 1.171696 1.191896 1.212096 1.232295\n",
      "            [,63]    [,64]    [,65]    [,66]    [,67]    [,68]    [,69]\n",
      "result.1 1.252520 1.272722 1.292923 1.313125 1.333327 1.353528 1.373730\n",
      "result.2 1.252515 1.272716 1.292917 1.313119 1.333320 1.353521 1.373722\n",
      "result.3 1.252510 1.272711 1.292912 1.313112 1.333313 1.353514 1.373715\n",
      "result.4 1.252505 1.272705 1.292906 1.313106 1.333306 1.353507 1.373707\n",
      "result.5 1.252500 1.272700 1.292900 1.313100 1.333300 1.353500 1.373700\n",
      "result.6 1.252495 1.272694 1.292894 1.313093 1.333293 1.353493 1.373692\n",
      "            [,70]    [,71]    [,72]    [,73]    [,74]    [,75]    [,76]\n",
      "result.1 1.393931 1.414133 1.434335 1.454536 1.474738 1.494939 1.515141\n",
      "result.2 1.393923 1.414125 1.434326 1.454527 1.474728 1.494929 1.515131\n",
      "result.3 1.393916 1.414116 1.434317 1.454518 1.474719 1.494919 1.515120\n",
      "result.4 1.393908 1.414108 1.434308 1.454509 1.474709 1.494910 1.515110\n",
      "result.5 1.393900 1.414100 1.434300 1.454500 1.474700 1.494900 1.515099\n",
      "result.6 1.393892 1.414091 1.434291 1.454490 1.474690 1.494890 1.515089\n",
      "            [,77]    [,78]    [,79]    [,80]    [,81]    [,82]    [,83]\n",
      "result.1 1.535343 1.555544 1.575746 1.595948 1.616149 1.636351 1.656552\n",
      "result.2 1.535332 1.555533 1.575734 1.595936 1.616137 1.636338 1.656539\n",
      "result.3 1.535321 1.555522 1.575723 1.595923 1.616124 1.636325 1.656526\n",
      "result.4 1.535310 1.555511 1.575711 1.595911 1.616112 1.636312 1.656513\n",
      "result.5 1.535299 1.555499 1.575699 1.595899 1.616099 1.636299 1.656499\n",
      "result.6 1.535289 1.555488 1.575688 1.595887 1.616087 1.636287 1.656486\n",
      "            [,84]    [,85]    [,86]    [,87]    [,88]    [,89]    [,90]\n",
      "result.1 1.676754 1.696956 1.717157 1.737359 1.757560 1.777762 1.797964\n",
      "result.2 1.676740 1.696942 1.717143 1.737344 1.757545 1.777746 1.797948\n",
      "result.3 1.676727 1.696927 1.717128 1.737329 1.757530 1.777731 1.797931\n",
      "result.4 1.676713 1.696913 1.717114 1.737314 1.757515 1.777715 1.797915\n",
      "result.5 1.676699 1.696899 1.717099 1.737299 1.757499 1.777699 1.797899\n",
      "result.6 1.676686 1.696885 1.717085 1.737284 1.757484 1.777684 1.797883\n",
      "            [,91]    [,92]    [,93]    [,94]    [,95]    [,96]    [,97]\n",
      "result.1 1.818165 1.838367 1.858569 1.878770 1.898972 1.919173 1.939375\n",
      "result.2 1.818149 1.838350 1.858551 1.878752 1.898954 1.919155 1.939356\n",
      "result.3 1.818132 1.838333 1.858534 1.878735 1.898935 1.919136 1.939337\n",
      "result.4 1.818116 1.838316 1.858516 1.878717 1.898917 1.919118 1.939318\n",
      "result.5 1.818099 1.838299 1.858499 1.878699 1.898899 1.919099 1.939299\n",
      "result.6 1.818083 1.838282 1.858482 1.878681 1.898881 1.919081 1.939280\n",
      "            [,98]    [,99]   [,100]\n",
      "result.1 1.959577 1.979778 1.999980\n",
      "result.2 1.959557 1.979758 1.999960\n",
      "result.3 1.959538 1.979739 1.999939\n",
      "result.4 1.959518 1.979719 1.999919\n",
      "result.5 1.959499 1.979699 1.999899\n",
      "result.6 1.959480 1.979679 1.999879\n"
     ]
    }
   ],
   "source": [
    "big_mat = matrix(1:100000, nrow = 1000, ncol = 100)\n",
    "# Charger le package doParallel\n",
    "library(doParallel)\n",
    "library(foreach)\n",
    "# Enregistrer un backend parallèle avec 4 cœurs\n",
    "registerDoParallel(cores = parallel::detectCores())\n",
    "\n",
    "result <- foreach(i=1:nrow(big_mat), .combine=rbind) %dopar% {\n",
    "  big_mat[i,] / mean(big_mat[i,])\n",
    "}\n",
    "\n",
    "# Arrêter le backend parallèle\n",
    "stopImplicitCluster()\n",
    "print(head(result))"
   ]
  },
  {
   "cell_type": "markdown",
   "metadata": {},
   "source": [
    "## Fonctions"
   ]
  },
  {
   "cell_type": "code",
   "execution_count": 95,
   "metadata": {
    "vscode": {
     "languageId": "r"
    }
   },
   "outputs": [
    {
     "data": {
      "text/html": [
       "4"
      ],
      "text/latex": [
       "4"
      ],
      "text/markdown": [
       "4"
      ],
      "text/plain": [
       "[1] 4"
      ]
     },
     "metadata": {},
     "output_type": "display_data"
    },
    {
     "data": {
      "text/html": [
       "<style>\n",
       ".list-inline {list-style: none; margin:0; padding: 0}\n",
       ".list-inline>li {display: inline-block}\n",
       ".list-inline>li:not(:last-child)::after {content: \"\\00b7\"; padding: 0 .5ex}\n",
       "</style>\n",
       "<ol class=list-inline><li>0</li><li>25</li><li>36</li><li>64</li><li>&lt;NA&gt;</li></ol>\n"
      ],
      "text/latex": [
       "\\begin{enumerate*}\n",
       "\\item 0\n",
       "\\item 25\n",
       "\\item 36\n",
       "\\item 64\n",
       "\\item <NA>\n",
       "\\end{enumerate*}\n"
      ],
      "text/markdown": [
       "1. 0\n",
       "2. 25\n",
       "3. 36\n",
       "4. 64\n",
       "5. &lt;NA&gt;\n",
       "\n",
       "\n"
      ],
      "text/plain": [
       "[1]  0 25 36 64 NA"
      ]
     },
     "metadata": {},
     "output_type": "display_data"
    },
    {
     "data": {
      "text/html": [
       "<table class=\"dataframe\">\n",
       "<caption>A matrix: 6 × 1 of type dbl</caption>\n",
       "<thead>\n",
       "\t<tr><th scope=col>Age_at_disease</th></tr>\n",
       "</thead>\n",
       "<tbody>\n",
       "\t<tr><td>3844</td></tr>\n",
       "\t<tr><td>3249</td></tr>\n",
       "\t<tr><td>3364</td></tr>\n",
       "\t<tr><td>4225</td></tr>\n",
       "\t<tr><td>4096</td></tr>\n",
       "\t<tr><td>3481</td></tr>\n",
       "</tbody>\n",
       "</table>\n"
      ],
      "text/latex": [
       "A matrix: 6 × 1 of type dbl\n",
       "\\begin{tabular}{l}\n",
       " Age\\_at\\_disease\\\\\n",
       "\\hline\n",
       "\t 3844\\\\\n",
       "\t 3249\\\\\n",
       "\t 3364\\\\\n",
       "\t 4225\\\\\n",
       "\t 4096\\\\\n",
       "\t 3481\\\\\n",
       "\\end{tabular}\n"
      ],
      "text/markdown": [
       "\n",
       "A matrix: 6 × 1 of type dbl\n",
       "\n",
       "| Age_at_disease |\n",
       "|---|\n",
       "| 3844 |\n",
       "| 3249 |\n",
       "| 3364 |\n",
       "| 4225 |\n",
       "| 4096 |\n",
       "| 3481 |\n",
       "\n"
      ],
      "text/plain": [
       "     Age_at_disease\n",
       "[1,] 3844          \n",
       "[2,] 3249          \n",
       "[3,] 3364          \n",
       "[4,] 4225          \n",
       "[5,] 4096          \n",
       "[6,] 3481          "
      ]
     },
     "metadata": {},
     "output_type": "display_data"
    },
    {
     "data": {
      "text/html": [
       "<table class=\"dataframe\">\n",
       "<caption>A matrix: 3 × 4 of type dbl</caption>\n",
       "<tbody>\n",
       "\t<tr><td>1</td><td>16</td><td>49</td><td>100</td></tr>\n",
       "\t<tr><td>4</td><td>25</td><td>64</td><td>121</td></tr>\n",
       "\t<tr><td>9</td><td>36</td><td>81</td><td>144</td></tr>\n",
       "</tbody>\n",
       "</table>\n"
      ],
      "text/latex": [
       "A matrix: 3 × 4 of type dbl\n",
       "\\begin{tabular}{llll}\n",
       "\t 1 & 16 & 49 & 100\\\\\n",
       "\t 4 & 25 & 64 & 121\\\\\n",
       "\t 9 & 36 & 81 & 144\\\\\n",
       "\\end{tabular}\n"
      ],
      "text/markdown": [
       "\n",
       "A matrix: 3 × 4 of type dbl\n",
       "\n",
       "| 1 | 16 | 49 | 100 |\n",
       "| 4 | 25 | 64 | 121 |\n",
       "| 9 | 36 | 81 | 144 |\n",
       "\n"
      ],
      "text/plain": [
       "     [,1] [,2] [,3] [,4]\n",
       "[1,] 1    16   49   100 \n",
       "[2,] 4    25   64   121 \n",
       "[3,] 9    36   81   144 "
      ]
     },
     "metadata": {},
     "output_type": "display_data"
    }
   ],
   "source": [
    "my_fun = function(x){\n",
    "  return(x^2)\n",
    "}\n",
    "my_fun(2)\n",
    "li = c(0,5,6,8)\n",
    "sapply(li,my_fun)[1:5]\n",
    "head(apply(df['Age_at_disease'], c(1,2),my_fun))  #c(1,2) pour bosser sur les lignes et colonnes\n",
    "apply(mat,c(1,2),my_fun)"
   ]
  },
  {
   "cell_type": "code",
   "execution_count": 23,
   "metadata": {
    "vscode": {
     "languageId": "r"
    }
   },
   "outputs": [
    {
     "name": "stdout",
     "output_type": "stream",
     "text": [
      "  Var1 Freq\n",
      "1    1    3\n",
      "2    2    2\n"
     ]
    }
   ],
   "source": [
    "df = data.frame(a = c(1,2,3,4,5), b = c(1,1,1,2,2))\n",
    "print(as.data.frame(table(df$b)))"
   ]
  },
  {
   "cell_type": "code",
   "execution_count": 6,
   "metadata": {
    "vscode": {
     "languageId": "r"
    }
   },
   "outputs": [
    {
     "name": "stderr",
     "output_type": "stream",
     "text": [
      "Warning message:\n",
      "\"The melt generic in data.table has been passed a data.frame and will attempt to redirect to the relevant reshape2 method; please note that reshape2 is superseded and is no longer actively developed, and this redirection is now deprecated. To continue using melt methods from reshape2 while both libraries are attached, e.g. melt.list, you can prepend the namespace, i.e. reshape2::melt(df). In the next version, this warning will become an error.\"\n",
      "No id variables; using all as measure variables\n",
      "\n"
     ]
    },
    {
     "name": "stdout",
     "output_type": "stream",
     "text": [
      "  variable value\n",
      "1        a     1\n",
      "2        a     2\n",
      "3        a     3\n",
      "4        b     2\n",
      "5        b     3\n",
      "6        b     4\n"
     ]
    }
   ],
   "source": [
    "library(glue)\n",
    "library(data.table)\n",
    "li <- list(a = c(1,2,3), b = c(2,3,4))\n",
    "df <- as.data.frame(li)\n",
    "df_long <- melt(df)\n",
    "print(df_long)"
   ]
  },
  {
   "cell_type": "code",
   "execution_count": 7,
   "metadata": {
    "vscode": {
     "languageId": "r"
    }
   },
   "outputs": [
    {
     "name": "stdout",
     "output_type": "stream",
     "text": [
      "  variable value\n",
      "1        a     1\n",
      "2        a     2\n",
      "3        a     3\n",
      "4        b     2\n",
      "5        b     3\n",
      "6        b     4\n"
     ]
    }
   ],
   "source": [
    "melt_mine <- function(df){\n",
    "    new_df  = as.data.frame(matrix(nrow = 0, ncol = 2))\n",
    "    colnames(new_df) <- c(\"variable\", \"value\")\n",
    "    for (name_col in colnames(df)){\n",
    "        local_df <- data.frame(variable = name_col, value = df[[name_col]])\n",
    "        new_df <- rbind(new_df, local_df)\n",
    "    }\n",
    "    return(new_df)\n",
    "}\n",
    "\n",
    "print(melt_mine(df))"
   ]
  },
  {
   "cell_type": "code",
   "execution_count": 10,
   "metadata": {
    "vscode": {
     "languageId": "r"
    }
   },
   "outputs": [
    {
     "name": "stdout",
     "output_type": "stream",
     "text": [
      "     [,1] [,2] [,3] [,4]\n",
      "[1,]    2    8   14   20\n",
      "[2,]    4   10   16   22\n",
      "[3,]    6   12   18   24\n",
      "          [,1]      [,2]\n",
      "[1,] 0.3333333 0.7142857\n",
      "[2,] 0.6666667 0.2857143\n",
      "[[1]]\n",
      "     [,1] [,2] [,3] [,4]\n",
      "[1,]    1    4    7   10\n",
      "[2,]    2    5    8   11\n",
      "[3,]    3    6    9   12\n",
      "\n"
     ]
    }
   ],
   "source": [
    "mat_1 = matrix(1:12, nrow = 3, ncol = 4)\n",
    "mat_2 = matrix(1:12, nrow = 3, ncol = 4)\n",
    "li_mat = list(mat_1, mat_2)\n",
    "print(Reduce(\"+\", li_mat))\n",
    "mat <- matrix(c(1,2,5,2), nrow=2, ncol=2, byrow = TRUE)\n",
    "mat_percentages <- apply(mat, 1, function(x){x / sum(x)})\n",
    "print(mat_percentages)\n",
    "li_mat <- list()\n",
    "li_mat <- append(li_mat,list(mat_1))\n",
    "print(li_mat)"
   ]
  },
  {
   "cell_type": "markdown",
   "metadata": {},
   "source": [
    "Les levels et leur ordre"
   ]
  },
  {
   "cell_type": "code",
   "execution_count": 15,
   "metadata": {
    "vscode": {
     "languageId": "r"
    }
   },
   "outputs": [
    {
     "name": "stdout",
     "output_type": "stream",
     "text": [
      "[1] \"A\" \"B\" \"C\"\n",
      "[1] \"B\" \"A\" \"C\"\n"
     ]
    }
   ],
   "source": [
    "# Création d'un vecteur exemple\n",
    "classe_name <- c(\"B\", \"A\", \"C\", \"B\", \"A\")\n",
    "\n",
    "classe_name_factor <- factor(classe_name)\n",
    "\n",
    "print(levels(classe_name_factor))\n",
    "\n",
    "# Conversion en facteur avec un ordre spécifique des niveaux\n",
    "classe_name_factor <- factor(classe_name,levels = c(\"B\", \"A\", \"C\"))\n",
    "\n",
    "# Vérification de l'ordre des niveaux\n",
    "print(levels(classe_name_factor))"
   ]
  },
  {
   "cell_type": "code",
   "execution_count": 1,
   "metadata": {
    "vscode": {
     "languageId": "r"
    }
   },
   "outputs": [
    {
     "name": "stdout",
     "output_type": "stream",
     "text": [
      "[1] FALSE  TRUE  TRUE\n",
      "[1] 0 1 1\n"
     ]
    }
   ],
   "source": [
    "col = c(1,2,3)\n",
    "init = rep(0,3)\n",
    "log <- col >1.5\n",
    "print(log)\n",
    "print(init + log)"
   ]
  },
  {
   "cell_type": "code",
   "execution_count": 26,
   "metadata": {
    "vscode": {
     "languageId": "r"
    }
   },
   "outputs": [
    {
     "data": {
      "image/png": "[encoded data removed]",
      "text/plain": [
       "plot without title"
      ]
     },
     "metadata": {
      "image/png": {
       "height": 420,
       "width": 420
      }
     },
     "output_type": "display_data"
    }
   ],
   "source": [
    "library(ggplot2)\n",
    "imp_average <- data.frame(Variable = c(\"a\",\"b\",\"c\"), Overall = c(1,2,3))\n",
    "imp_average$Percentage <- (imp_average$Overall / sum(imp_average$Overall)) * 100\n",
    "image <- ggplot2::ggplot(imp_average, aes(x = reorder(Variable, Overall), y = Overall)) +\n",
    "  geom_bar(stat = \"identity\") +\n",
    "  geom_text(aes(label = paste0(round(Percentage, 1), \"%\"), y = 0), hjust = -0.5, color = \"green\") + # Ajout des pourcentages\n",
    "  coord_flip() +\n",
    "  theme_light() +\n",
    "  xlab(\"Variable\") +\n",
    "  ylab(\"Importance\") +\n",
    "  ggtitle(\"Variable Importance\") +\n",
    "  theme(axis.text.y = element_text(size = 5)) # Adjust the size as needed\n",
    "image"
   ]
  },
  {
   "cell_type": "code",
   "execution_count": 25,
   "metadata": {
    "vscode": {
     "languageId": "r"
    }
   },
   "outputs": [
    {
     "name": "stdout",
     "output_type": "stream",
     "text": [
      "  a   b\n",
      "1 1 1.5\n",
      "2 2 3.0\n",
      "  a b c\n",
      "2 1 2 4\n",
      "3 2 3 3\n"
     ]
    }
   ],
   "source": [
    "df <- data.frame(a = c(1,1,2), b = c(1,2,3), c= c(1,4,3))\n",
    "print(aggregate(df, b ~ a, mean))\n",
    "d <- \"c\"\n",
    "print(subset(df, df[[d]] >2 ))"
   ]
  },
  {
   "cell_type": "code",
   "execution_count": 27,
   "metadata": {
    "vscode": {
     "languageId": "r"
    }
   },
   "outputs": [
    {
     "name": "stdout",
     "output_type": "stream",
     "text": [
      "NULL\n",
      "[[1]]\n",
      "[1] 2\n",
      "\n",
      "[[2]]\n",
      "[1] 3\n",
      "\n",
      "[[3]]\n",
      "[1] 4\n",
      "\n",
      "[1] \"JU\"\n",
      "[[1]]\n",
      "[1] 4\n",
      "\n",
      "[[2]]\n",
      "[1] 9\n",
      "\n",
      "[[3]]\n",
      "[1] 16\n",
      "\n"
     ]
    }
   ],
   "source": [
    "li = lapply(as.list(2:4), function(i) {return(i^2)})\n",
    "print(names(li))\n",
    "print(as.list(2:4))\n",
    "print(\"JU\")\n",
    "print(li)"
   ]
  },
  {
   "cell_type": "code",
   "execution_count": 30,
   "metadata": {
    "vscode": {
     "languageId": "r"
    }
   },
   "outputs": [
    {
     "name": "stdout",
     "output_type": "stream",
     "text": [
      "     [,1] [,2] [,3] [,4] [,5] [,6] [,7] [,8] [,9] [,10] [,11] [,12]\n",
      "[1,]    1    4    7   10    1    4    7   10    1     4     7    10\n",
      "[2,]    2    5    8   11    2    5    8   11    2     5     8    11\n",
      "[3,]    3    6    9   12    3    6    9   12    3     6     9    12\n",
      " [1]  1  4  7 10  2  5  8 11  3  6  9 12\n"
     ]
    }
   ],
   "source": [
    "li <- list(mat_1 = matrix(1:12, nrow = 3, ncol = 4), mat_2 = matrix(1:12, nrow = 3, ncol = 4), mat_3 = matrix(1:12, nrow = 3, ncol = 4))\n",
    "mat_tot <- do.call(cbind, li)\n",
    "print(mat_tot)\n",
    "print(c(t(li$mat_1)))"
   ]
  },
  {
   "cell_type": "code",
   "execution_count": 56,
   "metadata": {
    "vscode": {
     "languageId": "r"
    }
   },
   "outputs": [
    {
     "data": {
      "text/html": [
       "<style>\n",
       ".list-inline {list-style: none; margin:0; padding: 0}\n",
       ".list-inline>li {display: inline-block}\n",
       ".list-inline>li:not(:last-child)::after {content: \"\\00b7\"; padding: 0 .5ex}\n",
       "</style>\n",
       "<ol class=list-inline><li>'oui 1'</li><li>'oui 2'</li></ol>\n"
      ],
      "text/latex": [
       "\\begin{enumerate*}\n",
       "\\item 'oui 1'\n",
       "\\item 'oui 2'\n",
       "\\end{enumerate*}\n"
      ],
      "text/markdown": [
       "1. 'oui 1'\n",
       "2. 'oui 2'\n",
       "\n",
       "\n"
      ],
      "text/plain": [
       "[1] \"oui 1\" \"oui 2\""
      ]
     },
     "metadata": {},
     "output_type": "display_data"
    }
   ],
   "source": [
    "paste(\"oui\", c(1,2))"
   ]
  },
  {
   "cell_type": "code",
   "execution_count": 58,
   "metadata": {
    "vscode": {
     "languageId": "r"
    }
   },
   "outputs": [
    {
     "name": "stdout",
     "output_type": "stream",
     "text": [
      "[[1]]\n",
      "[1] 1\n",
      "\n",
      "[[2]]\n",
      "logical(0)\n",
      "\n",
      "[[3]]\n",
      "logical(0)\n",
      "\n",
      "[[4]]\n",
      "logical(0)\n",
      "\n",
      "[[5]]\n",
      "logical(0)\n",
      "\n"
     ]
    }
   ],
   "source": [
    "n <- 5 # Nombre de vecteurs vides souhaités\n",
    "liste_vecteurs_vides <- replicate(n, vector(), simplify = FALSE)\n",
    "liste_vecteurs_vides[[1]] <- c(liste_vecteurs_vides[[1]],1)\n",
    "print(liste_vecteurs_vides)\n"
   ]
  },
  {
   "cell_type": "code",
   "execution_count": 3,
   "metadata": {
    "vscode": {
     "languageId": "r"
    }
   },
   "outputs": [
    {
     "name": "stdout",
     "output_type": "stream",
     "text": [
      "  a b\n",
      "1 1 2\n",
      "2 2 2\n",
      "3 3 2\n",
      "4 1 3\n",
      "5 2 3\n",
      "6 3 3\n"
     ]
    }
   ],
   "source": [
    "li_df <- list(a = c(1,2,3), b = c(2,3,4))\n",
    "print(as.data.frame(li_df))\n",
    "print(expand.grid(li_df))"
   ]
  },
  {
   "cell_type": "code",
   "execution_count": 11,
   "metadata": {
    "vscode": {
     "languageId": "r"
    }
   },
   "outputs": [
    {
     "name": "stdout",
     "output_type": "stream",
     "text": [
      "[1] \"Travail terminé avec l'argument: 42\"\n"
     ]
    }
   ],
   "source": [
    "# Créer une fonction factice avec des print et un argument\n",
    "my_function <- function(x) {\n",
    "  print(paste(\"Ce message est bruyant avec l'argument:\", x))\n",
    "  Sys.sleep(2) # Simule du travail\n",
    "  print(\"Encore un autre message bruyant\")\n",
    "  return(paste(\"Travail terminé avec l'argument:\", x))\n",
    "}\n",
    "\n",
    "# Rediriger les sorties\n",
    "silent_run <- function(func, ...) {\n",
    "  # Créer un fichier temporaire pour capturer les sorties\n",
    "  temp_file <- tempfile()\n",
    "  \n",
    "  # Ouvrir une connexion au fichier temporaire\n",
    "  temp_conn <- file(temp_file, open = \"wt\")\n",
    "  \n",
    "  # Rediriger les messages de sortie standard vers la connexion au fichier temporaire\n",
    "  sink(temp_conn)\n",
    "  \n",
    "  # Rediriger les messages d'avertissement vers la connexion au fichier temporaire\n",
    "  sink(temp_conn, type = \"message\")\n",
    "  \n",
    "  # Exécuter la fonction en mode silencieux avec les arguments supplémentaires\n",
    "  result <- func(...)\n",
    "  \n",
    "  # Réinitialiser les sorties à leurs destinations d'origine\n",
    "  sink()\n",
    "  sink(type = \"message\")\n",
    "  \n",
    "  # Fermer la connexion au fichier temporaire\n",
    "  close(temp_conn)\n",
    "  \n",
    "  # Supprimer le fichier temporaire\n",
    "  unlink(temp_file)\n",
    "  \n",
    "  return(result)\n",
    "}\n",
    "\n",
    "# Utilisation de la fonction silent_run avec un argument pour my_function\n",
    "result <- silent_run(my_function, x = 42)\n",
    "print(result)  # Affiche \"Travail terminé avec l'argument: 42\"\n",
    "\n"
   ]
  }
 ],
 "metadata": {
  "kernelspec": {
   "display_name": "R",
   "language": "R",
   "name": "ir"
  },
  "language_info": {
   "codemirror_mode": "r",
   "file_extension": ".r",
   "mimetype": "text/x-r-source",
   "name": "R",
   "pygments_lexer": "r",
   "version": "4.4.1"
  }
 },
 "nbformat": 4,
 "nbformat_minor": 2
}
