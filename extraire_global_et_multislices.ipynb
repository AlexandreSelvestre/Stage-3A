{
 "cells": [
  {
   "cell_type": "code",
   "execution_count": 39,
   "id": "8d442456",
   "metadata": {},
   "outputs": [],
   "source": [
    "from __future__ import print_function\n",
    "import sys\n",
    "import os\n",
    "import logging\n",
    "import six\n",
    "from radiomics import featureextractor, getFeatureClasses\n",
    "import radiomics\n",
    "%config Completer.use_jedi = False\n",
    "import SimpleITK as sitk\n",
    "import nibabel as nib\n",
    "import glob\n",
    "import pandas as pd\n",
    "import matplotlib.pyplot as plt\n",
    "import tqdm\n",
    "import numpy as np\n",
    "import logging\n",
    "from utils_mask_sain import *\n",
    "from utils import *\n",
    "from utils_recaler import *\n"
   ]
  },
  {
   "cell_type": "markdown",
   "id": "0fad8983",
   "metadata": {},
   "source": [
    "# Global: 3D"
   ]
  },
  {
   "cell_type": "code",
   "execution_count": 40,
   "id": "f0c4444b",
   "metadata": {},
   "outputs": [],
   "source": [
    "ls_image =sorted(glob.glob('./*_NAT*/*.nii'))"
   ]
  },
  {
   "cell_type": "code",
   "execution_count": 41,
   "id": "bc00214a",
   "metadata": {},
   "outputs": [
    {
     "data": {
      "text/plain": [
       "{'minimumROIDimensions': 2,\n",
       " 'minimumROISize': None,\n",
       " 'normalize': False,\n",
       " 'normalizeScale': 1,\n",
       " 'removeOutliers': None,\n",
       " 'resampledPixelSpacing': [2, 2, 2],\n",
       " 'interpolator': 'sitkBSpline',\n",
       " 'preCrop': False,\n",
       " 'padDistance': 5,\n",
       " 'distances': [1],\n",
       " 'force2D': True,\n",
       " 'force2Ddimension': 0,\n",
       " 'resegmentRange': None,\n",
       " 'label': 1,\n",
       " 'additionalInfo': True,\n",
       " 'binWidth': 25,\n",
       " 'verbose': True}"
      ]
     },
     "execution_count": 41,
     "metadata": {},
     "output_type": "execute_result"
    }
   ],
   "source": [
    "# Alternative: use hardcoded settings (separate for settings, input image types and enabled features)\n",
    "settings = {}\n",
    "settings['binWidth'] = 25\n",
    "#settings['resampledPixelSpacing'] = [2,2]  # en 2D, on travaille dans un plan\n",
    "settings['resampledPixelSpacing'] = [2, 2, 2]  # This is an example for defining resampling (voxels with size 3x3x3mm)\n",
    "settings['interpolator'] = 'sitkBSpline'\n",
    "settings['verbose'] = True\n",
    "settings['force2D'] = True\n",
    "settings['force2Ddimension'] = 0\n",
    "\n",
    "\n",
    "extractor = featureextractor.RadiomicsFeatureExtractor(**settings)\n",
    "extractor.settings"
   ]
  },
  {
   "cell_type": "code",
   "execution_count": 42,
   "id": "e0fcb158",
   "metadata": {
    "scrolled": true
   },
   "outputs": [],
   "source": [
    "# all_dat = pd.DataFrame()\n",
    "# extractor.disableAllFeatures\n",
    "# li_featureClass = ['firstorder', 'shape','glrlm', 'glszm', 'gldm', 'ngtdm']\n",
    "# for featureClass in li_featureClass:\n",
    "#     extractor.enableFeatureClassByName(featureClass)\n",
    "# #On ne pourrait pas avoir les 2D...\n",
    "# extractor.enableFeaturesByName(**{\"glcm\" : ['Autocorrelation',\n",
    "#     'ClusterProminence',\n",
    "#     'ClusterShade',\n",
    "#     'ClusterTendency',\n",
    "#     'Contrast',\n",
    "#     'Correlation',\n",
    "#     'DifferenceAverage',\n",
    "#     'DifferenceEntropy',\n",
    "#     'DifferenceVariance',\n",
    "#     'Id',\n",
    "#     'Idm',\n",
    "#     'Idmn',\n",
    "#     'Idn',\n",
    "#     'Imc1',\n",
    "#     'Imc2',\n",
    "#     'InverseVariance',\n",
    "#     'JointEnergy',\n",
    "#     'JointEntropy',\n",
    "#     'MCC',\n",
    "#     'MaximumProbability',\n",
    "#     'SumAverage',\n",
    "#     'SumEntropy',\n",
    "#     'SumSquares'\n",
    "# ]})\n",
    "\n",
    "# logger = logging.getLogger(\"radiomics.glcm\")\n",
    "# logger.setLevel(logging.ERROR) #Dégager les message inutiles (car on y a fait attention)\n",
    "\n",
    "# #OUILLE LES PATIENTS S'APPELLENT ./DATASET et pas en slices???\n",
    "\n",
    "# for imageName in tqdm.tqdm(ls_image):\n",
    "#     maskName = imageName.replace('_NAT','').replace('.nii','_masked.nii')\n",
    "#     classe_name = imageName.split('/')[-2].split('_')[1]\n",
    "#     temps_inj = imageName.split('_')[-1].split('.')[0]\n",
    "\n",
    "#     patient_num = imageName.split('/')[-1].split('_')[0]\n",
    "#     #print(patient_num) \n",
    "\n",
    "        \n",
    "#     mask_sitk = sitk.ReadImage(maskName) !=  0  ### ATTENTION C'est important ici on s'interesse au masque et non a l'image masquée\n",
    "#     # print(imageName)\n",
    "#     # print(mask_sitk.GetSize())\n",
    "#     #print(maskName)\n",
    "#     mr_sitk = sitk.ReadImage(imageName)\n",
    "#     #print(\"nbe voxels :\")\n",
    "#     #print(sitk.GetArrayFromImage(mask_sitk).sum())\n",
    "\n",
    "\n",
    "#     featureVector = extractor.execute(mr_sitk, mask_sitk)\n",
    "#     df_idx = pd.DataFrame(dict([ (k,pd.Series(v)) for k,v in featureVector.items() ])).iloc[0]\n",
    "#     df_idx['classe_name'] = classe_name\n",
    "#     df_idx['temps_inj'] = temps_inj\n",
    "#     df_idx['patient_num'] = patient_num\n",
    "#     df_idx = pd.DataFrame(df_idx).T\n",
    "#     all_dat = pd.concat([df_idx,all_dat])\n",
    "    \n"
   ]
  },
  {
   "cell_type": "code",
   "execution_count": 43,
   "id": "398e1ff1",
   "metadata": {},
   "outputs": [],
   "source": [
    "# all_dat.to_csv('./liver_tumors_all_LLB.csv')\n",
    "# all_dat.to_excel('./global_excel.xlsx', index = False)\n"
   ]
  },
  {
   "cell_type": "markdown",
   "id": "c97dbb41",
   "metadata": {},
   "source": [
    "# Multislice"
   ]
  },
  {
   "cell_type": "code",
   "execution_count": 44,
   "id": "f09913f1",
   "metadata": {},
   "outputs": [
    {
     "data": {
      "text/plain": [
       "{'minimumROIDimensions': 2,\n",
       " 'minimumROISize': None,\n",
       " 'normalize': False,\n",
       " 'normalizeScale': 1,\n",
       " 'removeOutliers': None,\n",
       " 'resampledPixelSpacing': [2, 2],\n",
       " 'interpolator': 'sitkBSpline',\n",
       " 'preCrop': False,\n",
       " 'padDistance': 5,\n",
       " 'distances': [1],\n",
       " 'force2D': True,\n",
       " 'force2Ddimension': 0,\n",
       " 'resegmentRange': None,\n",
       " 'label': 1,\n",
       " 'additionalInfo': True,\n",
       " 'binWidth': 25,\n",
       " 'verbose': True}"
      ]
     },
     "execution_count": 44,
     "metadata": {},
     "output_type": "execute_result"
    }
   ],
   "source": [
    "settings = {}\n",
    "settings['binWidth'] = 25\n",
    "settings['resampledPixelSpacing'] = [2,2]\n",
    "#settings['resampledPixelSpacing'] = [3, 3, 3]  # This is an example for defining resampling (voxels with size 3x3x3mm)\n",
    "settings['interpolator'] = 'sitkBSpline'\n",
    "settings['verbose'] = True\n",
    "settings['force2D'] = True\n",
    "settings['force2Ddimension'] = 0   # ne pas oublier de le changer : fait: ce n'est plus True\n",
    "\n",
    "\n",
    "extractor = featureextractor.RadiomicsFeatureExtractor(**settings)\n",
    "extractor_sain = featureextractor.RadiomicsFeatureExtractor(**settings)\n",
    "extractor.settings"
   ]
  },
  {
   "cell_type": "code",
   "execution_count": 45,
   "id": "b2b30fdf",
   "metadata": {},
   "outputs": [],
   "source": [
    "time_inj = [\"_ART\", \"_PORT\", \"_VEIN\",\"_TARD\"]\n",
    "#ls_image_prime = ls_image[(82 + 242):]\n",
    "ls_image_prime = ls_image\n",
    "ls_image_no_time = natsorted(list(set([eliminate_temps(x) for x in ls_image_prime])))\n",
    "ls_image_full_times_surconfiance = [[name +time + \".nii\" for time in time_inj] for name in ls_image_no_time]\n",
    "ls_image_full_time = []\n",
    "dict_image_full_time = {}\n",
    "for li_names in ls_image_full_times_surconfiance:\n",
    "    li_true_names = []\n",
    "    for i,name in enumerate(li_names):\n",
    "        if name in ls_image_prime:\n",
    "            li_true_names.append(name)\n",
    "    ls_image_full_time.append(li_true_names)\n",
    "    classe_name = li_names[0].split('/')[-2].split('_')[1]\n",
    "    patient_num = li_names[0].split('/')[-1].split('_')[0]\n",
    "    dict_image_full_time[(patient_num, classe_name)] = li_true_names\n",
    "\n",
    "ls_image_full_time = ls_image_full_time[0:10]"
   ]
  },
  {
   "cell_type": "code",
   "execution_count": 46,
   "id": "bbbb4f6f",
   "metadata": {
    "scrolled": false
   },
   "outputs": [],
   "source": [
    "mode = \"area\"\n",
    "fenetre_x = None\n",
    "fenetre_y = None\n",
    "fenetre_z  = range(-5,5)\n",
    "label=extractor.settings.get('label')\n",
    "label=1\n",
    "minDims=2\n",
    "extractor.disableAllFeatures()\n",
    "extractor_sain.disableAllFeatures()\n",
    "#utiliser des try et excepts ...\n",
    "li_featureClass = ['firstorder','shape2D', 'glrlm', 'glszm', 'gldm', 'ngtdm']\n",
    "li_featureClass_sain = ['firstorder', 'glrlm', 'glszm', 'gldm', 'ngtdm']\n",
    "li_carac_glcm = ['Autocorrelation',\n",
    "    'ClusterProminence',\n",
    "    'ClusterShade',\n",
    "    'ClusterTendency',\n",
    "    'Contrast',\n",
    "    'Correlation',\n",
    "    'DifferenceAverage',\n",
    "    'DifferenceEntropy',\n",
    "    'DifferenceVariance',\n",
    "    'Id',\n",
    "    'Idm',\n",
    "    'Idmn',\n",
    "    'Idn',\n",
    "    'Imc1',\n",
    "    'Imc2',\n",
    "    'InverseVariance',\n",
    "    'JointEnergy',\n",
    "    'JointEntropy',\n",
    "    'MCC',\n",
    "    'MaximumProbability',\n",
    "    'SumAverage',\n",
    "    'SumEntropy',\n",
    "    'SumSquares'\n",
    "]\n",
    "for featureClass in li_featureClass:\n",
    "    extractor.enableFeatureClassByName(featureClass)\n",
    "for featureClass in li_featureClass_sain:\n",
    "    extractor_sain.enableFeatureClassByName(featureClass)\n",
    "extractor.enableFeaturesByName(**{\"glcm\": li_carac_glcm})\n",
    "extractor_sain.enableFeaturesByName(**{\"glcm\": li_carac_glcm})\n",
    "logger = logging.getLogger(\"radiomics.glcm\")\n",
    "logger.setLevel(logging.ERROR) #Dégager les message inutiles (car on y a fait attention)\n",
    "al_dat_slice = pd.DataFrame()"
   ]
  },
  {
   "cell_type": "code",
   "execution_count": 47,
   "id": "13ca024c",
   "metadata": {},
   "outputs": [
    {
     "name": "stderr",
     "output_type": "stream",
     "text": [
      "10it [01:55, 11.60s/it]\n"
     ]
    }
   ],
   "source": [
    "for num, li_image_names in tqdm.tqdm(enumerate(ls_image_full_time)):\n",
    "    li_mask_names = [image_name.replace('_NAT','').replace('.nii','_masked.nii') for image_name in li_image_names]\n",
    "    \n",
    "    \n",
    "    classe_name = li_image_names[0].split('/')[-2].split('_')[1]\n",
    "    temps_inj = li_image_names[0].split('_')[-1].split('.')[0]\n",
    "    patient_num = li_image_names[0].split('/')[-1].split('_')[0]\n",
    "    \n",
    "    li_images = [sitk.ReadImage(image_name) for image_name in li_image_names]\n",
    "    li_mask = [sitk.ReadImage(mask_name) !=  0 for mask_name in li_mask_names]\n",
    "    \n",
    "    li_slices_masks, li_slices_images = equalize_slices(ls_image_full_time, dict_image_full_time,num = num, key = None, show = False)\n",
    "    li_decal = np.array(find_best_decal_all_times_short(li_slices_masks, fenetre_z, fenetre_x=fenetre_x, fenetre_y=fenetre_y, mode=mode))\n",
    "    nb_slices = len(li_slices_images[0])\n",
    "    print(\"decalage\", li_decal)\n",
    "\n",
    "    for image_num_local, li_slices_image_unique in enumerate(li_slices_images):\n",
    "        slice_depart = abs(np.min(li_decal[image_num_local],0))\n",
    "        slice_fin = nb_slices - np.max(li_decal[image_num_local],0)\n",
    "        for slice_num_ref in range(slice_depart, slice_fin):\n",
    "            slice_num = slice_num_ref + li_decal[image_num_local]\n",
    "            li_slices_mask_unique = li_slices_masks[image_num_local]\n",
    "            slice_mask = li_slices_mask_unique[slice_num]   #format numpy\n",
    "            slice_img = li_slices_image_unique[slice_num]   #format sitk\n",
    "            slice_mask = sitk.GetImageFromArray(slice_mask) #passer en sitk\n",
    "            slice_mask.CopyInformation(slice_img)\n",
    "            \n",
    "            lsif = sitk.LabelStatisticsImageFilter()\n",
    "            lsif.Execute(slice_img, slice_mask)\n",
    "            boundingBox = np.array(lsif.GetBoundingBox(label))\n",
    "            ndims = np.sum((boundingBox[1::2] - boundingBox[0::2] + 1) > 3)  # UBound - LBound + 1 = Size\n",
    "            if (sitk.GetArrayFromImage(slice_mask).sum() > 0) & (ndims >= minDims):\n",
    "                slice_mask_sain = cercle_image_compos_connexe(slice_img,slice_mask) #on bosse au départ avec du sitk (pour toutes nos fonctions...)\n",
    "                #On calcule le slice mask sain\n",
    "                slice_mask_sain = sitk.GetImageFromArray(slice_mask_sain)\n",
    "                slice_mask_sain.CopyInformation(slice_img)\n",
    "                \n",
    "                lsif = sitk.LabelStatisticsImageFilter()\n",
    "                lsif.Execute(slice_img, slice_mask_sain)\n",
    "                boundingBox = np.array(lsif.GetBoundingBox(label))\n",
    "                ndims = np.sum((boundingBox[1::2] - boundingBox[0::2] + 1) > 3)  # UBound - LBound + 1 = Size\n",
    "                imageName = li_image_names[image_num_local]\n",
    "                if (sitk.GetArrayFromImage(slice_mask_sain).sum() > 0) & (ndims >= minDims):\n",
    "                    try:\n",
    "                        problem = False\n",
    "                        #print(\"for extrac\",ndims)\n",
    "                        feature_vector_sain = extractor_sain.execute(slice_img, slice_mask_sain)\n",
    "                        #print(\"extracted\")\n",
    "                        featureVector = extractor.execute(slice_img, slice_mask)\n",
    "                        featureVector['slice_num'] = slice_num_ref #Tres important: on ne veut pas le slice_num mais le slice_num_ref\n",
    "                        df_idx = pd.DataFrame(dict([ (k,pd.Series(v)) for k,v in featureVector.items() ])).iloc[0]\n",
    "                        df_idx_sain = pd.DataFrame(dict([ (\"sain_\" + k,pd.Series(v)) for k,v in feature_vector_sain.items() ])).iloc[0]\n",
    "                        df_idx = pd.concat([df_idx,df_idx_sain])\n",
    "                        df_idx['classe_name'] = classe_name\n",
    "                        df_idx['temps_inj'] = temps_inj\n",
    "                        df_idx['patient_num'] = patient_num\n",
    "                        # al_dat_slice = al_dat_slice.append(df_idx)\n",
    "                        df_idx = pd.DataFrame(df_idx).T\n",
    "                        al_dat_slice = pd.concat([df_idx,al_dat_slice])\n",
    "                    except Exception as e:\n",
    "                        print(f'erreur pour slice {slice_num} pour image {imageName}')\n",
    "                        print(e)\n",
    "                        problem = True\n",
    "                else:\n",
    "                    problem = True\n",
    "                    print(f'slice {slice_num} non valide sur zone saine pour image {imageName}')\n",
    "                if problem:\n",
    "                    feature_vector_sain = extractor_sain.execute(slice_img, slice_mask)\n",
    "                    featureVector = extractor.execute(slice_img, slice_mask)\n",
    "                    featureVector['slice_num'] = slice_num\n",
    "                    df_idx = pd.DataFrame(dict([ (k,pd.Series(v)) for k,v in featureVector.items() ])).iloc[0]\n",
    "                    df_idx_sain = pd.DataFrame(dict([ (\"sain_\" + k,pd.Series(v)) for k,v in feature_vector_sain.items() ])).iloc[0]\n",
    "                    df_idx_sain[:] = np.nan\n",
    "                    df_idx = pd.concat([df_idx,df_idx_sain])\n",
    "                    df_idx['classe_name'] = classe_name\n",
    "                    df_idx['temps_inj'] = temps_inj\n",
    "                    df_idx['patient_num'] = patient_num\n",
    "                    # al_dat_slice = al_dat_slice.append(df_idx)\n",
    "                    df_idx = pd.DataFrame(df_idx).T\n",
    "                    al_dat_slice = pd.concat([df_idx,al_dat_slice])\n",
    "        "
   ]
  },
  {
   "cell_type": "code",
   "execution_count": 48,
   "id": "60c43da0",
   "metadata": {},
   "outputs": [
    {
     "name": "stdout",
     "output_type": "stream",
     "text": [
      "{'firstorder': [], 'shape2D': [], 'glrlm': [], 'glszm': [], 'gldm': [], 'ngtdm': [], 'glcm': ['Autocorrelation', 'ClusterProminence', 'ClusterShade', 'ClusterTendency', 'Contrast', 'Correlation', 'DifferenceAverage', 'DifferenceEntropy', 'DifferenceVariance', 'Id', 'Idm', 'Idmn', 'Idn', 'Imc1', 'Imc2', 'InverseVariance', 'JointEnergy', 'JointEntropy', 'MCC', 'MaximumProbability', 'SumAverage', 'SumEntropy', 'SumSquares']}\n",
      "{'firstorder': [], 'glrlm': [], 'glszm': [], 'gldm': [], 'ngtdm': [], 'glcm': ['Autocorrelation', 'ClusterProminence', 'ClusterShade', 'ClusterTendency', 'Contrast', 'Correlation', 'DifferenceAverage', 'DifferenceEntropy', 'DifferenceVariance', 'Id', 'Idm', 'Idmn', 'Idn', 'Imc1', 'Imc2', 'InverseVariance', 'JointEnergy', 'JointEntropy', 'MCC', 'MaximumProbability', 'SumAverage', 'SumEntropy', 'SumSquares']}\n"
     ]
    }
   ],
   "source": [
    "print(extractor.enabledFeatures)\n",
    "print(extractor_sain.enabledFeatures)"
   ]
  },
  {
   "cell_type": "code",
   "execution_count": 49,
   "id": "ed86cc48",
   "metadata": {},
   "outputs": [],
   "source": [
    "al_dat_slice.to_csv('./liver_tumors_slices_LLB.csv')\n",
    "al_dat_slice.to_excel('../multislice_excel_with_shape_2D_sain.xlsx', index = False)"
   ]
  }
 ],
 "metadata": {
  "kernelspec": {
   "display_name": "Python 3 (ipykernel)",
   "language": "python",
   "name": "python3"
  },
  "language_info": {
   "codemirror_mode": {
    "name": "ipython",
    "version": 3
   },
   "file_extension": ".py",
   "mimetype": "text/x-python",
   "name": "python",
   "nbconvert_exporter": "python",
   "pygments_lexer": "ipython3",
   "version": "3.7.12"
  }
 },
 "nbformat": 4,
 "nbformat_minor": 5
}
