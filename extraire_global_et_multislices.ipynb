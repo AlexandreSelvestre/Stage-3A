{
 "cells": [
  {
   "cell_type": "code",
   "execution_count": 1,
   "id": "8d442456",
   "metadata": {},
   "outputs": [],
   "source": [
    "from __future__ import print_function\n",
    "import sys\n",
    "import os\n",
    "import logging\n",
    "import six\n",
    "from radiomics import featureextractor, getFeatureClasses\n",
    "import radiomics\n",
    "%config Completer.use_jedi = False\n",
    "import SimpleITK as sitk\n",
    "import nibabel as nib\n",
    "import glob\n",
    "import pandas as pd\n",
    "import matplotlib.pyplot as plt\n",
    "import tqdm\n",
    "import numpy as np\n",
    "import logging\n",
    "from utils_mask_sain import *\n",
    "from utils import *\n",
    "from utils_recaler import *\n"
   ]
  },
  {
   "cell_type": "markdown",
   "id": "0fad8983",
   "metadata": {},
   "source": [
    "# Global: 3D"
   ]
  },
  {
   "cell_type": "code",
   "execution_count": null,
   "id": "f0c4444b",
   "metadata": {},
   "outputs": [],
   "source": [
    "ls_image =sorted(glob.glob('./*_NAT*/*.nii'))"
   ]
  },
  {
   "cell_type": "code",
   "execution_count": 89,
   "id": "bc00214a",
   "metadata": {},
   "outputs": [
    {
     "data": {
      "text/plain": [
       "{'minimumROIDimensions': 2,\n",
       " 'minimumROISize': None,\n",
       " 'normalize': False,\n",
       " 'normalizeScale': 1,\n",
       " 'removeOutliers': None,\n",
       " 'resampledPixelSpacing': [2, 2, 2],\n",
       " 'interpolator': 'sitkBSpline',\n",
       " 'preCrop': False,\n",
       " 'padDistance': 5,\n",
       " 'distances': [1],\n",
       " 'force2D': True,\n",
       " 'force2Ddimension': 0,\n",
       " 'resegmentRange': None,\n",
       " 'label': 1,\n",
       " 'additionalInfo': True,\n",
       " 'binWidth': 25,\n",
       " 'verbose': True}"
      ]
     },
     "execution_count": 89,
     "metadata": {},
     "output_type": "execute_result"
    }
   ],
   "source": [
    "# Alternative: use hardcoded settings (separate for settings, input image types and enabled features)\n",
    "settings = {}\n",
    "settings['binWidth'] = 25\n",
    "#settings['resampledPixelSpacing'] = [2,2]  # en 2D, on travaille dans un plan\n",
    "settings['resampledPixelSpacing'] = [2, 2, 2]  # This is an example for defining resampling (voxels with size 3x3x3mm)\n",
    "settings['interpolator'] = 'sitkBSpline'\n",
    "settings['verbose'] = True\n",
    "settings['force2D'] = True\n",
    "settings['force2Ddimension'] = 0\n",
    "\n",
    "\n",
    "extractor = featureextractor.RadiomicsFeatureExtractor(**settings)\n",
    "extractor.settings"
   ]
  },
  {
   "cell_type": "code",
   "execution_count": 80,
   "id": "e0fcb158",
   "metadata": {
    "scrolled": true
   },
   "outputs": [
    {
     "name": "stderr",
     "output_type": "stream",
     "text": [
      "100%|██████████| 550/550 [06:08<00:00,  1.49it/s]\n"
     ]
    }
   ],
   "source": [
    "all_dat = pd.DataFrame()\n",
    "extractor.disableAllFeatures\n",
    "li_featureClass = ['firstorder', 'shape','glrlm', 'glszm', 'gldm', 'ngtdm']\n",
    "for featureClass in li_featureClass:\n",
    "    extractor.enableFeatureClassByName(featureClass)\n",
    "#On ne pourrait pas avoir les 2D...\n",
    "extractor.enableFeaturesByName(**{\"glcm\" : ['Autocorrelation',\n",
    "    'ClusterProminence',\n",
    "    'ClusterShade',\n",
    "    'ClusterTendency',\n",
    "    'Contrast',\n",
    "    'Correlation',\n",
    "    'DifferenceAverage',\n",
    "    'DifferenceEntropy',\n",
    "    'DifferenceVariance',\n",
    "    'Id',\n",
    "    'Idm',\n",
    "    'Idmn',\n",
    "    'Idn',\n",
    "    'Imc1',\n",
    "    'Imc2',\n",
    "    'InverseVariance',\n",
    "    'JointEnergy',\n",
    "    'JointEntropy',\n",
    "    'MCC',\n",
    "    'MaximumProbability',\n",
    "    'SumAverage',\n",
    "    'SumEntropy',\n",
    "    'SumSquares'\n",
    "]})\n",
    "\n",
    "logger = logging.getLogger(\"radiomics.glcm\")\n",
    "logger.setLevel(logging.ERROR) #Dégager les message inutiles (car on y a fait attention)\n",
    "\n",
    "#OUILLE LES PATIENTS S'APPELLENT ./DATASET et pas en slices???\n",
    "\n",
    "for imageName in tqdm.tqdm(ls_image):\n",
    "    maskName = imageName.replace('_NAT','').replace('.nii','_masked.nii')\n",
    "    classe_name = imageName.split('/')[-2].split('_')[1]\n",
    "    temps_inj = imageName.split('_')[-1].split('.')[0]\n",
    "\n",
    "    patient_num = imageName.split('/')[-1].split('_')[0]\n",
    "    #print(patient_num) \n",
    "\n",
    "        \n",
    "    mask_sitk = sitk.ReadImage(maskName) !=  0  ### ATTENTION C'est important ici on s'interesse au masque et non a l'image masquée\n",
    "    # print(imageName)\n",
    "    # print(mask_sitk.GetSize())\n",
    "    #print(maskName)\n",
    "    mr_sitk = sitk.ReadImage(imageName)\n",
    "    #print(\"nbe voxels :\")\n",
    "    #print(sitk.GetArrayFromImage(mask_sitk).sum())\n",
    "\n",
    "\n",
    "    featureVector = extractor.execute(mr_sitk, mask_sitk)\n",
    "    df_idx = pd.DataFrame(dict([ (k,pd.Series(v)) for k,v in featureVector.items() ])).iloc[0]\n",
    "    df_idx['classe_name'] = classe_name\n",
    "    df_idx['temps_inj'] = temps_inj\n",
    "    df_idx['patient_num'] = patient_num\n",
    "    df_idx = pd.DataFrame(df_idx).T\n",
    "    all_dat = pd.concat([df_idx,all_dat])\n",
    "    \n"
   ]
  },
  {
   "cell_type": "code",
   "execution_count": 81,
   "id": "398e1ff1",
   "metadata": {},
   "outputs": [],
   "source": [
    "all_dat.to_csv('./liver_tumors_all_LLB.csv')\n",
    "all_dat.to_excel('./global_excel.xlsx', index = False)\n"
   ]
  },
  {
   "cell_type": "markdown",
   "id": "c97dbb41",
   "metadata": {},
   "source": [
    "# Multislice"
   ]
  },
  {
   "cell_type": "code",
   "execution_count": 8,
   "id": "f09913f1",
   "metadata": {},
   "outputs": [
    {
     "data": {
      "text/plain": [
       "{'minimumROIDimensions': 2,\n",
       " 'minimumROISize': None,\n",
       " 'normalize': False,\n",
       " 'normalizeScale': 1,\n",
       " 'removeOutliers': None,\n",
       " 'resampledPixelSpacing': [2, 2],\n",
       " 'interpolator': 'sitkBSpline',\n",
       " 'preCrop': False,\n",
       " 'padDistance': 5,\n",
       " 'distances': [1],\n",
       " 'force2D': True,\n",
       " 'force2Ddimension': 0,\n",
       " 'resegmentRange': None,\n",
       " 'label': 1,\n",
       " 'additionalInfo': True,\n",
       " 'binWidth': 25,\n",
       " 'verbose': True}"
      ]
     },
     "execution_count": 8,
     "metadata": {},
     "output_type": "execute_result"
    }
   ],
   "source": [
    "settings = {}\n",
    "settings['binWidth'] = 25\n",
    "settings['resampledPixelSpacing'] = [2,2]\n",
    "#settings['resampledPixelSpacing'] = [3, 3, 3]  # This is an example for defining resampling (voxels with size 3x3x3mm)\n",
    "settings['interpolator'] = 'sitkBSpline'\n",
    "settings['verbose'] = True\n",
    "settings['force2D'] = True\n",
    "settings['force2Ddimension'] = 0   # ne pas oublier de le changer : fait: ce n'est plus True\n",
    "\n",
    "\n",
    "extractor = featureextractor.RadiomicsFeatureExtractor(**settings)\n",
    "extractor_sain = featureextractor.RadiomicsFeatureExtractor(**settings)\n",
    "extractor.settings"
   ]
  },
  {
   "cell_type": "code",
   "execution_count": 22,
   "id": "b2b30fdf",
   "metadata": {},
   "outputs": [],
   "source": [
    "time_inj = [\"_ART\", \"_PORT\", \"_VEIN\",\"_TARD\"]\n",
    "# ls_image_prime = ls_image[(82 + 242):]\n",
    "ls_image_prime = ls_image\n",
    "ls_image_no_time = natsorted(list(set([eliminate_temps(x) for x in ls_image_prime])))\n",
    "ls_image_full_times_surconfiance = [[name +time + \".nii\" for time in time_inj] for name in ls_image_no_time]\n",
    "ls_image_full_time = []\n",
    "dict_image_full_time = {}\n",
    "for li_names in ls_image_full_times_surconfiance:\n",
    "    li_true_names = []\n",
    "    for i,name in enumerate(li_names):\n",
    "        if name in ls_image_prime:\n",
    "            li_true_names.append(name)\n",
    "    ls_image_full_time.append(li_true_names)\n",
    "    classe_name = li_names[0].split('/')[-2].split('_')[1]\n",
    "    patient_num = li_names[0].split('/')[-1].split('_')[0]\n",
    "    dict_image_full_time[(patient_num, classe_name)] = li_true_names"
   ]
  },
  {
   "cell_type": "code",
   "execution_count": null,
   "id": "9d8be1bd",
   "metadata": {},
   "outputs": [],
   "source": [
    "time_inj = [\"_ART\", \"_PORT\", \"_VEIN\",\"_TARD\"]"
   ]
  },
  {
   "cell_type": "code",
   "execution_count": 23,
   "id": "bbbb4f6f",
   "metadata": {
    "scrolled": false
   },
   "outputs": [
    {
     "name": "stderr",
     "output_type": "stream",
     "text": [
      "  3%|▎         | 15/550 [00:24<11:44,  1.32s/it]"
     ]
    },
    {
     "name": "stdout",
     "output_type": "stream",
     "text": [
      "slice 85 non valide sur zone saine pour image ./Dataset_CCK_NAT/14_ART.nii\n"
     ]
    },
    {
     "name": "stderr",
     "output_type": "stream",
     "text": [
      " 15%|█▌        | 84/550 [02:40<27:42,  3.57s/it]"
     ]
    },
    {
     "name": "stdout",
     "output_type": "stream",
     "text": [
      "slice 49 non valide sur zone saine pour image ./Dataset_CHC_NAT/100_ART.nii\n",
      "slice 50 non valide sur zone saine pour image ./Dataset_CHC_NAT/100_ART.nii\n",
      "erreur pour slice 71 pour image ./Dataset_CHC_NAT/100_ART.nii\n",
      "mask has too few dimensions (number of dimensions 1, minimum required 2)\n",
      "slice 73 non valide sur zone saine pour image ./Dataset_CHC_NAT/100_ART.nii\n"
     ]
    },
    {
     "name": "stderr",
     "output_type": "stream",
     "text": [
      " 15%|█▌        | 85/550 [02:43<25:56,  3.35s/it]"
     ]
    },
    {
     "name": "stdout",
     "output_type": "stream",
     "text": [
      "slice 74 non valide sur zone saine pour image ./Dataset_CHC_NAT/100_ART.nii\n"
     ]
    },
    {
     "name": "stderr",
     "output_type": "stream",
     "text": [
      " 23%|██▎       | 127/550 [03:53<08:32,  1.21s/it]"
     ]
    },
    {
     "name": "stdout",
     "output_type": "stream",
     "text": [
      "slice 60 non valide sur zone saine pour image ./Dataset_CHC_NAT/121_ART.nii\n",
      "slice 63 non valide sur zone saine pour image ./Dataset_CHC_NAT/121_ART.nii\n",
      "slice 65 non valide sur zone saine pour image ./Dataset_CHC_NAT/121_ART.nii\n",
      "slice 66 non valide sur zone saine pour image ./Dataset_CHC_NAT/121_ART.nii\n",
      "slice 67 non valide sur zone saine pour image ./Dataset_CHC_NAT/121_ART.nii\n"
     ]
    },
    {
     "name": "stderr",
     "output_type": "stream",
     "text": [
      " 25%|██▍       | 135/550 [04:24<36:28,  5.27s/it]"
     ]
    },
    {
     "name": "stdout",
     "output_type": "stream",
     "text": [
      "slice 64 non valide sur zone saine pour image ./Dataset_CHC_NAT/18_ART.nii\n",
      "slice 65 non valide sur zone saine pour image ./Dataset_CHC_NAT/18_ART.nii\n"
     ]
    },
    {
     "name": "stderr",
     "output_type": "stream",
     "text": [
      " 25%|██▌       | 139/550 [04:31<17:50,  2.60s/it]"
     ]
    },
    {
     "name": "stdout",
     "output_type": "stream",
     "text": [
      "slice 70 non valide sur zone saine pour image ./Dataset_CHC_NAT/18_VEIN.nii\n"
     ]
    },
    {
     "name": "stderr",
     "output_type": "stream",
     "text": [
      " 25%|██▌       | 140/550 [04:36<22:13,  3.25s/it]"
     ]
    },
    {
     "name": "stdout",
     "output_type": "stream",
     "text": [
      "slice 97 non valide sur zone saine pour image ./Dataset_CHC_NAT/19_ART.nii\n"
     ]
    },
    {
     "name": "stderr",
     "output_type": "stream",
     "text": [
      " 26%|██▌       | 141/550 [04:40<25:22,  3.72s/it]"
     ]
    },
    {
     "name": "stdout",
     "output_type": "stream",
     "text": [
      "slice 97 non valide sur zone saine pour image ./Dataset_CHC_NAT/19_PORT.nii\n",
      "slice 96 non valide sur zone saine pour image ./Dataset_CHC_NAT/19_TARD.nii\n",
      "slice 97 non valide sur zone saine pour image ./Dataset_CHC_NAT/19_TARD.nii\n"
     ]
    },
    {
     "name": "stderr",
     "output_type": "stream",
     "text": [
      " 26%|██▌       | 143/550 [04:50<29:17,  4.32s/it]"
     ]
    },
    {
     "name": "stdout",
     "output_type": "stream",
     "text": [
      "slice 97 non valide sur zone saine pour image ./Dataset_CHC_NAT/19_VEIN.nii\n"
     ]
    },
    {
     "name": "stderr",
     "output_type": "stream",
     "text": [
      " 32%|███▏      | 178/550 [05:31<04:48,  1.29it/s]"
     ]
    },
    {
     "name": "stdout",
     "output_type": "stream",
     "text": [
      "slice 54 non valide sur zone saine pour image ./Dataset_CHC_NAT/211_VEIN.nii\n"
     ]
    },
    {
     "name": "stderr",
     "output_type": "stream",
     "text": [
      " 39%|███▉      | 214/550 [06:09<14:16,  2.55s/it]"
     ]
    },
    {
     "name": "stdout",
     "output_type": "stream",
     "text": [
      "slice 67 non valide sur zone saine pour image ./Dataset_CHC_NAT/221_PORT.nii\n",
      "slice 68 non valide sur zone saine pour image ./Dataset_CHC_NAT/221_PORT.nii\n",
      "slice 69 non valide sur zone saine pour image ./Dataset_CHC_NAT/221_PORT.nii\n"
     ]
    },
    {
     "name": "stderr",
     "output_type": "stream",
     "text": [
      " 39%|███▉      | 215/550 [06:15<19:35,  3.51s/it]"
     ]
    },
    {
     "name": "stdout",
     "output_type": "stream",
     "text": [
      "slice 64 non valide sur zone saine pour image ./Dataset_CHC_NAT/221_VEIN.nii\n"
     ]
    },
    {
     "name": "stderr",
     "output_type": "stream",
     "text": [
      " 39%|███▉      | 216/550 [06:21<23:18,  4.19s/it]"
     ]
    },
    {
     "name": "stdout",
     "output_type": "stream",
     "text": [
      "slice 69 non valide sur zone saine pour image ./Dataset_CHC_NAT/221_VEIN.nii\n"
     ]
    },
    {
     "name": "stderr",
     "output_type": "stream",
     "text": [
      " 44%|████▍     | 243/550 [07:07<12:43,  2.49s/it]"
     ]
    },
    {
     "name": "stdout",
     "output_type": "stream",
     "text": [
      "slice 29 non valide sur zone saine pour image ./Dataset_CHC_NAT/32_ART.nii\n"
     ]
    },
    {
     "name": "stderr",
     "output_type": "stream",
     "text": [
      " 46%|████▋     | 255/550 [07:40<13:18,  2.71s/it]"
     ]
    },
    {
     "name": "stdout",
     "output_type": "stream",
     "text": [
      "slice 58 non valide sur zone saine pour image ./Dataset_CHC_NAT/39_ART.nii\n"
     ]
    },
    {
     "name": "stderr",
     "output_type": "stream",
     "text": [
      " 47%|████▋     | 257/550 [07:42<09:52,  2.02s/it]"
     ]
    },
    {
     "name": "stdout",
     "output_type": "stream",
     "text": [
      "slice 58 non valide sur zone saine pour image ./Dataset_CHC_NAT/39_TARD.nii\n"
     ]
    },
    {
     "name": "stderr",
     "output_type": "stream",
     "text": [
      " 48%|████▊     | 266/550 [07:55<07:49,  1.65s/it]"
     ]
    },
    {
     "name": "stdout",
     "output_type": "stream",
     "text": [
      "slice 57 non valide sur zone saine pour image ./Dataset_CHC_NAT/43_PORT.nii\n"
     ]
    },
    {
     "name": "stderr",
     "output_type": "stream",
     "text": [
      " 49%|████▊     | 267/550 [07:58<09:14,  1.96s/it]"
     ]
    },
    {
     "name": "stdout",
     "output_type": "stream",
     "text": [
      "slice 57 non valide sur zone saine pour image ./Dataset_CHC_NAT/43_TARD.nii\n"
     ]
    },
    {
     "name": "stderr",
     "output_type": "stream",
     "text": [
      " 49%|████▊     | 268/550 [08:01<10:10,  2.16s/it]"
     ]
    },
    {
     "name": "stdout",
     "output_type": "stream",
     "text": [
      "slice 56 non valide sur zone saine pour image ./Dataset_CHC_NAT/43_VEIN.nii\n",
      "slice 57 non valide sur zone saine pour image ./Dataset_CHC_NAT/43_VEIN.nii\n"
     ]
    },
    {
     "name": "stderr",
     "output_type": "stream",
     "text": [
      " 49%|████▉     | 269/550 [08:03<10:52,  2.32s/it]"
     ]
    },
    {
     "name": "stdout",
     "output_type": "stream",
     "text": [
      "slice 58 non valide sur zone saine pour image ./Dataset_CHC_NAT/43_VEIN.nii\n"
     ]
    },
    {
     "name": "stderr",
     "output_type": "stream",
     "text": [
      " 50%|████▉     | 273/550 [08:22<19:12,  4.16s/it]"
     ]
    },
    {
     "name": "stdout",
     "output_type": "stream",
     "text": [
      "slice 20 non valide sur zone saine pour image ./Dataset_CHC_NAT/49_ART.nii\n",
      "slice 22 non valide sur zone saine pour image ./Dataset_CHC_NAT/49_ART.nii\n",
      "slice 23 non valide sur zone saine pour image ./Dataset_CHC_NAT/49_ART.nii\n",
      "slice 28 non valide sur zone saine pour image ./Dataset_CHC_NAT/49_ART.nii\n"
     ]
    },
    {
     "name": "stderr",
     "output_type": "stream",
     "text": [
      " 50%|████▉     | 274/550 [08:24<15:05,  3.28s/it]"
     ]
    },
    {
     "name": "stdout",
     "output_type": "stream",
     "text": [
      "slice 20 non valide sur zone saine pour image ./Dataset_CHC_NAT/49_PORT.nii\n",
      "slice 21 non valide sur zone saine pour image ./Dataset_CHC_NAT/49_PORT.nii\n",
      "slice 22 non valide sur zone saine pour image ./Dataset_CHC_NAT/49_PORT.nii\n",
      "slice 23 non valide sur zone saine pour image ./Dataset_CHC_NAT/49_PORT.nii\n",
      "slice 24 non valide sur zone saine pour image ./Dataset_CHC_NAT/49_PORT.nii\n",
      "slice 25 non valide sur zone saine pour image ./Dataset_CHC_NAT/49_PORT.nii\n",
      "slice 26 non valide sur zone saine pour image ./Dataset_CHC_NAT/49_PORT.nii\n",
      "slice 27 non valide sur zone saine pour image ./Dataset_CHC_NAT/49_PORT.nii\n"
     ]
    },
    {
     "name": "stderr",
     "output_type": "stream",
     "text": [
      " 50%|█████     | 275/550 [08:25<12:02,  2.63s/it]"
     ]
    },
    {
     "name": "stdout",
     "output_type": "stream",
     "text": [
      "slice 19 non valide sur zone saine pour image ./Dataset_CHC_NAT/49_TARD.nii\n",
      "slice 20 non valide sur zone saine pour image ./Dataset_CHC_NAT/49_TARD.nii\n",
      "slice 21 non valide sur zone saine pour image ./Dataset_CHC_NAT/49_TARD.nii\n",
      "slice 22 non valide sur zone saine pour image ./Dataset_CHC_NAT/49_TARD.nii\n",
      "slice 23 non valide sur zone saine pour image ./Dataset_CHC_NAT/49_TARD.nii\n",
      "slice 24 non valide sur zone saine pour image ./Dataset_CHC_NAT/49_TARD.nii\n",
      "slice 25 non valide sur zone saine pour image ./Dataset_CHC_NAT/49_TARD.nii\n",
      "slice 26 non valide sur zone saine pour image ./Dataset_CHC_NAT/49_TARD.nii\n"
     ]
    },
    {
     "name": "stderr",
     "output_type": "stream",
     "text": [
      " 50%|█████     | 276/550 [08:26<10:04,  2.20s/it]"
     ]
    },
    {
     "name": "stdout",
     "output_type": "stream",
     "text": [
      "slice 26 non valide sur zone saine pour image ./Dataset_CHC_NAT/49_VEIN.nii\n",
      "slice 27 non valide sur zone saine pour image ./Dataset_CHC_NAT/49_VEIN.nii\n",
      "slice 31 non valide sur zone saine pour image ./Dataset_CHC_NAT/49_VEIN.nii\n",
      "slice 32 non valide sur zone saine pour image ./Dataset_CHC_NAT/49_VEIN.nii\n",
      "slice 33 non valide sur zone saine pour image ./Dataset_CHC_NAT/49_VEIN.nii\n"
     ]
    },
    {
     "name": "stderr",
     "output_type": "stream",
     "text": [
      " 52%|█████▏    | 285/550 [08:38<05:13,  1.18s/it]"
     ]
    },
    {
     "name": "stdout",
     "output_type": "stream",
     "text": [
      "slice 60 non valide sur zone saine pour image ./Dataset_CHC_NAT/51_ART.nii\n",
      "slice 61 non valide sur zone saine pour image ./Dataset_CHC_NAT/51_ART.nii\n"
     ]
    },
    {
     "name": "stderr",
     "output_type": "stream",
     "text": [
      " 57%|█████▋    | 313/550 [09:46<14:47,  3.75s/it]"
     ]
    },
    {
     "name": "stdout",
     "output_type": "stream",
     "text": [
      "erreur pour slice 99 pour image ./Dataset_CHC_NAT/62_PORT.nii\n",
      "mask has too few dimensions (number of dimensions 1, minimum required 2)\n"
     ]
    },
    {
     "name": "stderr",
     "output_type": "stream",
     "text": [
      " 57%|█████▋    | 314/550 [09:52<17:36,  4.48s/it]"
     ]
    },
    {
     "name": "stdout",
     "output_type": "stream",
     "text": [
      "slice 99 non valide sur zone saine pour image ./Dataset_CHC_NAT/62_TARD.nii\n"
     ]
    },
    {
     "name": "stderr",
     "output_type": "stream",
     "text": [
      " 59%|█████▊    | 323/550 [10:03<03:05,  1.22it/s]"
     ]
    },
    {
     "name": "stdout",
     "output_type": "stream",
     "text": [
      "slice 59 non valide sur zone saine pour image ./Dataset_CHC_NAT/65_ART.nii\n",
      "slice 61 non valide sur zone saine pour image ./Dataset_CHC_NAT/65_ART.nii\n",
      "slice 62 non valide sur zone saine pour image ./Dataset_CHC_NAT/65_ART.nii\n"
     ]
    },
    {
     "name": "stderr",
     "output_type": "stream",
     "text": [
      " 59%|█████▉    | 324/550 [10:06<05:51,  1.56s/it]"
     ]
    },
    {
     "name": "stdout",
     "output_type": "stream",
     "text": [
      "slice 59 non valide sur zone saine pour image ./Dataset_CHC_NAT/65_PORT.nii\n",
      "slice 60 non valide sur zone saine pour image ./Dataset_CHC_NAT/65_PORT.nii\n",
      "slice 61 non valide sur zone saine pour image ./Dataset_CHC_NAT/65_PORT.nii\n",
      "slice 62 non valide sur zone saine pour image ./Dataset_CHC_NAT/65_PORT.nii\n"
     ]
    },
    {
     "name": "stderr",
     "output_type": "stream",
     "text": [
      " 59%|█████▉    | 325/550 [10:10<07:49,  2.09s/it]"
     ]
    },
    {
     "name": "stdout",
     "output_type": "stream",
     "text": [
      "erreur pour slice 57 pour image ./Dataset_CHC_NAT/65_TARD.nii\n",
      "mask has too few dimensions (number of dimensions 1, minimum required 2)\n",
      "slice 59 non valide sur zone saine pour image ./Dataset_CHC_NAT/65_TARD.nii\n",
      "slice 60 non valide sur zone saine pour image ./Dataset_CHC_NAT/65_TARD.nii\n",
      "slice 61 non valide sur zone saine pour image ./Dataset_CHC_NAT/65_TARD.nii\n",
      "slice 62 non valide sur zone saine pour image ./Dataset_CHC_NAT/65_TARD.nii\n"
     ]
    },
    {
     "name": "stderr",
     "output_type": "stream",
     "text": [
      " 59%|█████▉    | 326/550 [10:13<09:15,  2.48s/it]"
     ]
    },
    {
     "name": "stdout",
     "output_type": "stream",
     "text": [
      "slice 57 non valide sur zone saine pour image ./Dataset_CHC_NAT/65_VEIN.nii\n",
      "slice 61 non valide sur zone saine pour image ./Dataset_CHC_NAT/65_VEIN.nii\n",
      "slice 62 non valide sur zone saine pour image ./Dataset_CHC_NAT/65_VEIN.nii\n"
     ]
    },
    {
     "name": "stderr",
     "output_type": "stream",
     "text": [
      " 65%|██████▌   | 358/550 [11:24<03:11,  1.00it/s]"
     ]
    },
    {
     "name": "stdout",
     "output_type": "stream",
     "text": [
      "slice 20 non valide sur zone saine pour image ./Dataset_CHC_NAT/7_ART.nii\n",
      "slice 21 non valide sur zone saine pour image ./Dataset_CHC_NAT/7_ART.nii\n",
      "slice 22 non valide sur zone saine pour image ./Dataset_CHC_NAT/7_ART.nii\n",
      "slice 23 non valide sur zone saine pour image ./Dataset_CHC_NAT/7_ART.nii\n",
      "slice 24 non valide sur zone saine pour image ./Dataset_CHC_NAT/7_ART.nii\n",
      "slice 25 non valide sur zone saine pour image ./Dataset_CHC_NAT/7_ART.nii\n",
      "slice 26 non valide sur zone saine pour image ./Dataset_CHC_NAT/7_ART.nii\n",
      "slice 27 non valide sur zone saine pour image ./Dataset_CHC_NAT/7_ART.nii\n",
      "slice 28 non valide sur zone saine pour image ./Dataset_CHC_NAT/7_ART.nii\n"
     ]
    },
    {
     "name": "stderr",
     "output_type": "stream",
     "text": [
      " 65%|██████▌   | 359/550 [11:26<04:22,  1.38s/it]"
     ]
    },
    {
     "name": "stdout",
     "output_type": "stream",
     "text": [
      "slice 17 non valide sur zone saine pour image ./Dataset_CHC_NAT/7_PORT.nii\n",
      "slice 18 non valide sur zone saine pour image ./Dataset_CHC_NAT/7_PORT.nii\n",
      "slice 19 non valide sur zone saine pour image ./Dataset_CHC_NAT/7_PORT.nii\n",
      "slice 20 non valide sur zone saine pour image ./Dataset_CHC_NAT/7_PORT.nii\n",
      "slice 21 non valide sur zone saine pour image ./Dataset_CHC_NAT/7_PORT.nii\n",
      "slice 22 non valide sur zone saine pour image ./Dataset_CHC_NAT/7_PORT.nii\n",
      "slice 23 non valide sur zone saine pour image ./Dataset_CHC_NAT/7_PORT.nii\n",
      "slice 24 non valide sur zone saine pour image ./Dataset_CHC_NAT/7_PORT.nii\n",
      "slice 25 non valide sur zone saine pour image ./Dataset_CHC_NAT/7_PORT.nii\n",
      "slice 26 non valide sur zone saine pour image ./Dataset_CHC_NAT/7_PORT.nii\n"
     ]
    },
    {
     "name": "stderr",
     "output_type": "stream",
     "text": [
      " 65%|██████▌   | 360/550 [11:29<05:03,  1.60s/it]"
     ]
    },
    {
     "name": "stdout",
     "output_type": "stream",
     "text": [
      "slice 17 non valide sur zone saine pour image ./Dataset_CHC_NAT/7_TARD.nii\n",
      "slice 18 non valide sur zone saine pour image ./Dataset_CHC_NAT/7_TARD.nii\n",
      "slice 19 non valide sur zone saine pour image ./Dataset_CHC_NAT/7_TARD.nii\n",
      "slice 20 non valide sur zone saine pour image ./Dataset_CHC_NAT/7_TARD.nii\n",
      "slice 21 non valide sur zone saine pour image ./Dataset_CHC_NAT/7_TARD.nii\n",
      "slice 22 non valide sur zone saine pour image ./Dataset_CHC_NAT/7_TARD.nii\n"
     ]
    },
    {
     "name": "stderr",
     "output_type": "stream",
     "text": [
      " 66%|██████▌   | 361/550 [11:31<05:44,  1.82s/it]"
     ]
    },
    {
     "name": "stdout",
     "output_type": "stream",
     "text": [
      "slice 17 non valide sur zone saine pour image ./Dataset_CHC_NAT/7_VEIN.nii\n",
      "slice 18 non valide sur zone saine pour image ./Dataset_CHC_NAT/7_VEIN.nii\n",
      "slice 19 non valide sur zone saine pour image ./Dataset_CHC_NAT/7_VEIN.nii\n",
      "slice 20 non valide sur zone saine pour image ./Dataset_CHC_NAT/7_VEIN.nii\n",
      "slice 21 non valide sur zone saine pour image ./Dataset_CHC_NAT/7_VEIN.nii\n",
      "slice 22 non valide sur zone saine pour image ./Dataset_CHC_NAT/7_VEIN.nii\n",
      "slice 23 non valide sur zone saine pour image ./Dataset_CHC_NAT/7_VEIN.nii\n",
      "slice 24 non valide sur zone saine pour image ./Dataset_CHC_NAT/7_VEIN.nii\n",
      "slice 25 non valide sur zone saine pour image ./Dataset_CHC_NAT/7_VEIN.nii\n",
      "slice 26 non valide sur zone saine pour image ./Dataset_CHC_NAT/7_VEIN.nii\n"
     ]
    },
    {
     "name": "stderr",
     "output_type": "stream",
     "text": [
      " 67%|██████▋   | 366/550 [11:45<08:20,  2.72s/it]"
     ]
    },
    {
     "name": "stdout",
     "output_type": "stream",
     "text": [
      "slice 41 non valide sur zone saine pour image ./Dataset_CHC_NAT/82_ART.nii\n"
     ]
    },
    {
     "name": "stderr",
     "output_type": "stream",
     "text": [
      " 69%|██████▊   | 378/550 [11:57<02:30,  1.15it/s]"
     ]
    },
    {
     "name": "stdout",
     "output_type": "stream",
     "text": [
      "slice 7 non valide sur zone saine pour image ./Dataset_CHC_NAT/87_ART.nii\n"
     ]
    },
    {
     "name": "stderr",
     "output_type": "stream",
     "text": [
      " 72%|███████▏  | 398/550 [12:34<08:03,  3.18s/it]"
     ]
    },
    {
     "name": "stdout",
     "output_type": "stream",
     "text": [
      "slice 17 non valide sur zone saine pour image ./Dataset_CHC_NAT/95_ART.nii\n",
      "slice 18 non valide sur zone saine pour image ./Dataset_CHC_NAT/95_ART.nii\n",
      "slice 19 non valide sur zone saine pour image ./Dataset_CHC_NAT/95_ART.nii\n",
      "slice 20 non valide sur zone saine pour image ./Dataset_CHC_NAT/95_ART.nii\n",
      "slice 21 non valide sur zone saine pour image ./Dataset_CHC_NAT/95_ART.nii\n",
      "slice 22 non valide sur zone saine pour image ./Dataset_CHC_NAT/95_ART.nii\n"
     ]
    },
    {
     "name": "stderr",
     "output_type": "stream",
     "text": [
      " 73%|███████▎  | 399/550 [12:36<07:22,  2.93s/it]"
     ]
    },
    {
     "name": "stdout",
     "output_type": "stream",
     "text": [
      "slice 17 non valide sur zone saine pour image ./Dataset_CHC_NAT/95_PORT.nii\n",
      "slice 18 non valide sur zone saine pour image ./Dataset_CHC_NAT/95_PORT.nii\n",
      "slice 19 non valide sur zone saine pour image ./Dataset_CHC_NAT/95_PORT.nii\n",
      "slice 20 non valide sur zone saine pour image ./Dataset_CHC_NAT/95_PORT.nii\n",
      "slice 21 non valide sur zone saine pour image ./Dataset_CHC_NAT/95_PORT.nii\n",
      "erreur pour slice 24 pour image ./Dataset_CHC_NAT/95_PORT.nii\n",
      "mask has too few dimensions (number of dimensions 1, minimum required 2)\n"
     ]
    },
    {
     "name": "stderr",
     "output_type": "stream",
     "text": [
      " 73%|███████▎  | 400/550 [12:38<06:51,  2.74s/it]"
     ]
    },
    {
     "name": "stdout",
     "output_type": "stream",
     "text": [
      "slice 17 non valide sur zone saine pour image ./Dataset_CHC_NAT/95_TARD.nii\n",
      "slice 19 non valide sur zone saine pour image ./Dataset_CHC_NAT/95_TARD.nii\n",
      "slice 20 non valide sur zone saine pour image ./Dataset_CHC_NAT/95_TARD.nii\n"
     ]
    },
    {
     "name": "stderr",
     "output_type": "stream",
     "text": [
      " 73%|███████▎  | 401/550 [12:41<06:29,  2.61s/it]"
     ]
    },
    {
     "name": "stdout",
     "output_type": "stream",
     "text": [
      "slice 18 non valide sur zone saine pour image ./Dataset_CHC_NAT/95_VEIN.nii\n",
      "slice 19 non valide sur zone saine pour image ./Dataset_CHC_NAT/95_VEIN.nii\n",
      "slice 20 non valide sur zone saine pour image ./Dataset_CHC_NAT/95_VEIN.nii\n",
      "slice 21 non valide sur zone saine pour image ./Dataset_CHC_NAT/95_VEIN.nii\n",
      "slice 24 non valide sur zone saine pour image ./Dataset_CHC_NAT/95_VEIN.nii\n"
     ]
    },
    {
     "name": "stderr",
     "output_type": "stream",
     "text": [
      " 79%|███████▊  | 432/550 [13:26<01:39,  1.18it/s]"
     ]
    },
    {
     "name": "stdout",
     "output_type": "stream",
     "text": [
      "slice 64 non valide sur zone saine pour image ./Dataset_Mixtes_NAT/15_TARD.nii\n",
      "slice 65 non valide sur zone saine pour image ./Dataset_Mixtes_NAT/15_TARD.nii\n",
      "slice 66 non valide sur zone saine pour image ./Dataset_Mixtes_NAT/15_TARD.nii\n",
      "slice 67 non valide sur zone saine pour image ./Dataset_Mixtes_NAT/15_TARD.nii\n"
     ]
    },
    {
     "name": "stderr",
     "output_type": "stream",
     "text": [
      " 79%|███████▊  | 433/550 [13:27<01:39,  1.18it/s]"
     ]
    },
    {
     "name": "stdout",
     "output_type": "stream",
     "text": [
      "slice 68 non valide sur zone saine pour image ./Dataset_Mixtes_NAT/15_TARD.nii\n"
     ]
    },
    {
     "name": "stderr",
     "output_type": "stream",
     "text": [
      " 80%|████████  | 442/550 [13:39<03:32,  1.97s/it]"
     ]
    },
    {
     "name": "stdout",
     "output_type": "stream",
     "text": [
      "slice 82 non valide sur zone saine pour image ./Dataset_Mixtes_NAT/18_ART.nii\n",
      "slice 83 non valide sur zone saine pour image ./Dataset_Mixtes_NAT/18_ART.nii\n",
      "slice 84 non valide sur zone saine pour image ./Dataset_Mixtes_NAT/18_ART.nii\n",
      "slice 85 non valide sur zone saine pour image ./Dataset_Mixtes_NAT/18_ART.nii\n",
      "slice 86 non valide sur zone saine pour image ./Dataset_Mixtes_NAT/18_ART.nii\n",
      "slice 87 non valide sur zone saine pour image ./Dataset_Mixtes_NAT/18_ART.nii\n"
     ]
    },
    {
     "name": "stderr",
     "output_type": "stream",
     "text": [
      " 81%|████████  | 443/550 [13:44<05:13,  2.93s/it]"
     ]
    },
    {
     "name": "stdout",
     "output_type": "stream",
     "text": [
      "slice 82 non valide sur zone saine pour image ./Dataset_Mixtes_NAT/18_PORT.nii\n",
      "slice 83 non valide sur zone saine pour image ./Dataset_Mixtes_NAT/18_PORT.nii\n",
      "slice 84 non valide sur zone saine pour image ./Dataset_Mixtes_NAT/18_PORT.nii\n",
      "slice 85 non valide sur zone saine pour image ./Dataset_Mixtes_NAT/18_PORT.nii\n",
      "slice 86 non valide sur zone saine pour image ./Dataset_Mixtes_NAT/18_PORT.nii\n",
      "slice 87 non valide sur zone saine pour image ./Dataset_Mixtes_NAT/18_PORT.nii\n"
     ]
    },
    {
     "name": "stderr",
     "output_type": "stream",
     "text": [
      " 81%|████████  | 444/550 [13:49<06:21,  3.60s/it]"
     ]
    },
    {
     "name": "stdout",
     "output_type": "stream",
     "text": [
      "slice 83 non valide sur zone saine pour image ./Dataset_Mixtes_NAT/18_TARD.nii\n",
      "slice 84 non valide sur zone saine pour image ./Dataset_Mixtes_NAT/18_TARD.nii\n",
      "slice 85 non valide sur zone saine pour image ./Dataset_Mixtes_NAT/18_TARD.nii\n",
      "slice 86 non valide sur zone saine pour image ./Dataset_Mixtes_NAT/18_TARD.nii\n"
     ]
    },
    {
     "name": "stderr",
     "output_type": "stream",
     "text": [
      " 81%|████████  | 445/550 [13:55<07:09,  4.09s/it]"
     ]
    },
    {
     "name": "stdout",
     "output_type": "stream",
     "text": [
      "slice 87 non valide sur zone saine pour image ./Dataset_Mixtes_NAT/18_TARD.nii\n",
      "slice 82 non valide sur zone saine pour image ./Dataset_Mixtes_NAT/18_VEIN.nii\n",
      "slice 83 non valide sur zone saine pour image ./Dataset_Mixtes_NAT/18_VEIN.nii\n",
      "slice 84 non valide sur zone saine pour image ./Dataset_Mixtes_NAT/18_VEIN.nii\n",
      "slice 85 non valide sur zone saine pour image ./Dataset_Mixtes_NAT/18_VEIN.nii\n",
      "slice 86 non valide sur zone saine pour image ./Dataset_Mixtes_NAT/18_VEIN.nii\n",
      "slice 87 non valide sur zone saine pour image ./Dataset_Mixtes_NAT/18_VEIN.nii\n"
     ]
    },
    {
     "name": "stderr",
     "output_type": "stream",
     "text": [
      " 85%|████████▍ | 466/550 [14:39<01:34,  1.12s/it]"
     ]
    },
    {
     "name": "stdout",
     "output_type": "stream",
     "text": [
      "slice 65 non valide sur zone saine pour image ./Dataset_Mixtes_NAT/25_ART.nii\n"
     ]
    },
    {
     "name": "stderr",
     "output_type": "stream",
     "text": [
      " 89%|████████▉ | 490/550 [15:31<01:38,  1.65s/it]"
     ]
    },
    {
     "name": "stdout",
     "output_type": "stream",
     "text": [
      "erreur pour slice 10 pour image ./Dataset_Mixtes_NAT/30_ART.nii\n",
      "mask has too few dimensions (number of dimensions 1, minimum required 2)\n",
      "erreur pour slice 98 pour image ./Dataset_Mixtes_NAT/30_ART.nii\n",
      "mask has too few dimensions (number of dimensions 1, minimum required 2)\n"
     ]
    },
    {
     "name": "stderr",
     "output_type": "stream",
     "text": [
      " 89%|████████▉ | 491/550 [15:45<05:15,  5.35s/it]"
     ]
    },
    {
     "name": "stdout",
     "output_type": "stream",
     "text": [
      "slice 9 non valide sur zone saine pour image ./Dataset_Mixtes_NAT/30_PORT.nii\n"
     ]
    },
    {
     "name": "stderr",
     "output_type": "stream",
     "text": [
      " 89%|████████▉ | 492/550 [15:59<07:41,  7.95s/it]/home/alexandre/miniconda3/envs/radio/lib/python3.7/site-packages/radiomics/glrlm.py:224: RuntimeWarning: Mean of empty slice\n",
      "  return numpy.nanmean(gln, 1)\n",
      "/home/alexandre/miniconda3/envs/radio/lib/python3.7/site-packages/radiomics/glrlm.py:240: RuntimeWarning: Mean of empty slice\n",
      "  return numpy.nanmean(glnn, 1)\n",
      "/home/alexandre/miniconda3/envs/radio/lib/python3.7/site-packages/radiomics/glrlm.py:316: RuntimeWarning: Mean of empty slice\n",
      "  return numpy.nanmean(glv, 1)\n",
      "/home/alexandre/miniconda3/envs/radio/lib/python3.7/site-packages/radiomics/glrlm.py:389: RuntimeWarning: Mean of empty slice\n",
      "  return numpy.nanmean(hglre, 1)\n",
      "/home/alexandre/miniconda3/envs/radio/lib/python3.7/site-packages/radiomics/glrlm.py:208: RuntimeWarning: Mean of empty slice\n",
      "  return numpy.nanmean(lre, 1)\n",
      "/home/alexandre/miniconda3/envs/radio/lib/python3.7/site-packages/radiomics/glrlm.py:457: RuntimeWarning: Mean of empty slice\n",
      "  return numpy.nanmean(lrhgle, 1)\n",
      "/home/alexandre/miniconda3/envs/radio/lib/python3.7/site-packages/radiomics/glrlm.py:440: RuntimeWarning: Mean of empty slice\n",
      "  return numpy.nanmean(lrlgle, 1)\n",
      "/home/alexandre/miniconda3/envs/radio/lib/python3.7/site-packages/radiomics/glrlm.py:372: RuntimeWarning: Mean of empty slice\n",
      "  return numpy.nanmean(lglre, 1)\n",
      "/home/alexandre/miniconda3/envs/radio/lib/python3.7/site-packages/radiomics/glrlm.py:256: RuntimeWarning: Mean of empty slice\n",
      "  return numpy.nanmean(rln, 1)\n",
      "/home/alexandre/miniconda3/envs/radio/lib/python3.7/site-packages/radiomics/glrlm.py:272: RuntimeWarning: Mean of empty slice\n",
      "  return numpy.nanmean(rlnn, 1)\n",
      "/home/alexandre/miniconda3/envs/radio/lib/python3.7/site-packages/radiomics/glrlm.py:297: RuntimeWarning: Mean of empty slice\n",
      "  return numpy.nanmean(rp, 1)\n",
      "/home/alexandre/miniconda3/envs/radio/lib/python3.7/site-packages/radiomics/glrlm.py:191: RuntimeWarning: Mean of empty slice\n",
      "  return numpy.nanmean(sre, 1)\n",
      "/home/alexandre/miniconda3/envs/radio/lib/python3.7/site-packages/radiomics/glrlm.py:423: RuntimeWarning: Mean of empty slice\n",
      "  return numpy.nanmean(srhgle, 1)\n",
      "/home/alexandre/miniconda3/envs/radio/lib/python3.7/site-packages/radiomics/glrlm.py:406: RuntimeWarning: Mean of empty slice\n",
      "  return numpy.nanmean(srlgle, 1)\n",
      "/home/alexandre/miniconda3/envs/radio/lib/python3.7/site-packages/radiomics/glcm.py:258: RuntimeWarning: Mean of empty slice\n",
      "  return numpy.nanmean(ac, 1)\n",
      "/home/alexandre/miniconda3/envs/radio/lib/python3.7/site-packages/radiomics/glcm.py:294: RuntimeWarning: Mean of empty slice\n",
      "  return numpy.nanmean(cp, 1)\n",
      "/home/alexandre/miniconda3/envs/radio/lib/python3.7/site-packages/radiomics/glcm.py:312: RuntimeWarning: Mean of empty slice\n",
      "  return numpy.nanmean(cs, 1)\n",
      "/home/alexandre/miniconda3/envs/radio/lib/python3.7/site-packages/radiomics/glcm.py:329: RuntimeWarning: Mean of empty slice\n",
      "  return numpy.nanmean(ct, 1)\n",
      "/home/alexandre/miniconda3/envs/radio/lib/python3.7/site-packages/radiomics/glcm.py:344: RuntimeWarning: Mean of empty slice\n",
      "  return numpy.nanmean(cont, 1)\n",
      "/home/alexandre/miniconda3/envs/radio/lib/python3.7/site-packages/radiomics/glcm.py:374: RuntimeWarning: Mean of empty slice\n",
      "  return numpy.nanmean(corr, (1, 2, 3))\n",
      "/home/alexandre/miniconda3/envs/radio/lib/python3.7/site-packages/radiomics/glcm.py:390: RuntimeWarning: Mean of empty slice\n",
      "  return numpy.nanmean(diffavg, 1)\n",
      "/home/alexandre/miniconda3/envs/radio/lib/python3.7/site-packages/radiomics/glcm.py:405: RuntimeWarning: Mean of empty slice\n",
      "  return numpy.nanmean(difent, 1)\n",
      "/home/alexandre/miniconda3/envs/radio/lib/python3.7/site-packages/radiomics/glcm.py:421: RuntimeWarning: Mean of empty slice\n",
      "  return numpy.nanmean(diffvar, 1)\n",
      "/home/alexandre/miniconda3/envs/radio/lib/python3.7/site-packages/radiomics/glcm.py:691: RuntimeWarning: Mean of empty slice\n",
      "  return numpy.nanmean(invDiff, 1)\n",
      "/home/alexandre/miniconda3/envs/radio/lib/python3.7/site-packages/radiomics/glcm.py:618: RuntimeWarning: Mean of empty slice\n",
      "  return numpy.nanmean(idm, 1)\n",
      "/home/alexandre/miniconda3/envs/radio/lib/python3.7/site-packages/radiomics/glcm.py:676: RuntimeWarning: Mean of empty slice\n",
      "  return numpy.nanmean(idmn, 1)\n",
      "/home/alexandre/miniconda3/envs/radio/lib/python3.7/site-packages/radiomics/glcm.py:709: RuntimeWarning: Mean of empty slice\n",
      "  return numpy.nanmean(idn, 1)\n",
      "/home/alexandre/miniconda3/envs/radio/lib/python3.7/site-packages/radiomics/glcm.py:567: RuntimeWarning: Mean of empty slice\n",
      "  return numpy.nanmean(imc1, 1)\n",
      "/home/alexandre/miniconda3/envs/radio/lib/python3.7/site-packages/radiomics/glcm.py:602: RuntimeWarning: Mean of empty slice\n",
      "  return numpy.nanmean(imc2, 1)\n",
      "/home/alexandre/miniconda3/envs/radio/lib/python3.7/site-packages/radiomics/glcm.py:723: RuntimeWarning: Mean of empty slice\n",
      "  return numpy.nanmean(inv, 1)\n",
      "/home/alexandre/miniconda3/envs/radio/lib/python3.7/site-packages/radiomics/glcm.py:457: RuntimeWarning: Mean of empty slice\n",
      "  return numpy.nanmean(ene, 1)\n",
      "/home/alexandre/miniconda3/envs/radio/lib/python3.7/site-packages/radiomics/glcm.py:474: RuntimeWarning: Mean of empty slice\n",
      "  return numpy.nanmean(ent, 1)\n",
      "FAILED: Traceback (most recent call last):\n",
      "  File \"/home/alexandre/miniconda3/envs/radio/lib/python3.7/site-packages/radiomics/base.py\", line 238, in _calculateFeatures\n",
      "    yield True, feature, getattr(self, 'get%sFeatureValue' % feature)()\n",
      "  File \"/home/alexandre/miniconda3/envs/radio/lib/python3.7/site-packages/radiomics/glcm.py\", line 648, in getMCCFeatureValue\n",
      "    Q_eigenValue = numpy.linalg.eigvals(Q.transpose((0, 3, 1, 2)))\n",
      "  File \"<__array_function__ internals>\", line 6, in eigvals\n",
      "  File \"/home/alexandre/miniconda3/envs/radio/lib/python3.7/site-packages/numpy/linalg/linalg.py\", line 1062, in eigvals\n",
      "    _assert_finite(a)\n",
      "  File \"/home/alexandre/miniconda3/envs/radio/lib/python3.7/site-packages/numpy/linalg/linalg.py\", line 208, in _assert_finite\n",
      "    raise LinAlgError(\"Array must not contain infs or NaNs\")\n",
      "numpy.linalg.LinAlgError: Array must not contain infs or NaNs\n",
      "\n",
      "/home/alexandre/miniconda3/envs/radio/lib/python3.7/site-packages/radiomics/glcm.py:740: RuntimeWarning: Mean of empty slice\n",
      "  return numpy.nanmean(maxprob, 1)\n",
      "/home/alexandre/miniconda3/envs/radio/lib/python3.7/site-packages/radiomics/glcm.py:767: RuntimeWarning: Mean of empty slice\n",
      "  return numpy.nanmean(sumavg, 1)\n",
      "/home/alexandre/miniconda3/envs/radio/lib/python3.7/site-packages/radiomics/glcm.py:799: RuntimeWarning: Mean of empty slice\n",
      "  return numpy.nanmean(sumentr, 1)\n",
      "/home/alexandre/miniconda3/envs/radio/lib/python3.7/site-packages/radiomics/glcm.py:827: RuntimeWarning: Mean of empty slice\n",
      "  return numpy.nanmean(ss, 1)\n",
      " 95%|█████████▍| 521/550 [17:28<00:56,  1.96s/it]"
     ]
    },
    {
     "name": "stdout",
     "output_type": "stream",
     "text": [
      "slice 57 non valide sur zone saine pour image ./Dataset_Mixtes_NAT/37_VEIN.nii\n"
     ]
    },
    {
     "name": "stderr",
     "output_type": "stream",
     "text": [
      " 97%|█████████▋| 533/550 [17:50<00:45,  2.65s/it]"
     ]
    },
    {
     "name": "stdout",
     "output_type": "stream",
     "text": [
      "slice 73 non valide sur zone saine pour image ./Dataset_Mixtes_NAT/5_ART.nii\n"
     ]
    },
    {
     "name": "stderr",
     "output_type": "stream",
     "text": [
      " 97%|█████████▋| 534/550 [17:55<00:52,  3.30s/it]"
     ]
    },
    {
     "name": "stdout",
     "output_type": "stream",
     "text": [
      "slice 73 non valide sur zone saine pour image ./Dataset_Mixtes_NAT/5_PORT.nii\n"
     ]
    },
    {
     "name": "stderr",
     "output_type": "stream",
     "text": [
      " 97%|█████████▋| 535/550 [17:59<00:55,  3.69s/it]"
     ]
    },
    {
     "name": "stdout",
     "output_type": "stream",
     "text": [
      "erreur pour slice 73 pour image ./Dataset_Mixtes_NAT/5_TARD.nii\n",
      "mask has too few dimensions (number of dimensions 1, minimum required 2)\n"
     ]
    },
    {
     "name": "stderr",
     "output_type": "stream",
     "text": [
      " 97%|█████████▋| 536/550 [18:04<00:55,  3.97s/it]"
     ]
    },
    {
     "name": "stdout",
     "output_type": "stream",
     "text": [
      "slice 76 non valide sur zone saine pour image ./Dataset_Mixtes_NAT/5_VEIN.nii\n"
     ]
    },
    {
     "name": "stderr",
     "output_type": "stream",
     "text": [
      "100%|██████████| 550/550 [18:20<00:00,  2.00s/it]\n"
     ]
    }
   ],
   "source": [
    "al_dat_slice = pd.DataFrame()\n",
    "label=extractor.settings.get('label')\n",
    "label=1\n",
    "minDims=2\n",
    "extractor.disableAllFeatures()\n",
    "extractor_sain.disableAllFeatures()\n",
    "#utiliser des try et excepts ...\n",
    "li_featureClass = ['firstorder','shape2D', 'glrlm', 'glszm', 'gldm', 'ngtdm']\n",
    "li_featureClass_sain = ['firstorder', 'glrlm', 'glszm', 'gldm', 'ngtdm']\n",
    "li_carac_glcm = ['Autocorrelation',\n",
    "    'ClusterProminence',\n",
    "    'ClusterShade',\n",
    "    'ClusterTendency',\n",
    "    'Contrast',\n",
    "    'Correlation',\n",
    "    'DifferenceAverage',\n",
    "    'DifferenceEntropy',\n",
    "    'DifferenceVariance',\n",
    "    'Id',\n",
    "    'Idm',\n",
    "    'Idmn',\n",
    "    'Idn',\n",
    "    'Imc1',\n",
    "    'Imc2',\n",
    "    'InverseVariance',\n",
    "    'JointEnergy',\n",
    "    'JointEntropy',\n",
    "    'MCC',\n",
    "    'MaximumProbability',\n",
    "    'SumAverage',\n",
    "    'SumEntropy',\n",
    "    'SumSquares'\n",
    "]\n",
    "for featureClass in li_featureClass:\n",
    "    extractor.enableFeatureClassByName(featureClass)\n",
    "for featureClass in li_featureClass_sain:\n",
    "    extractor_sain.enableFeatureClassByName(featureClass)\n",
    "extractor.enableFeaturesByName(**{\"glcm\": li_carac_glcm})\n",
    "extractor_sain.enableFeaturesByName(**{\"glcm\": li_carac_glcm})\n",
    "logger = logging.getLogger(\"radiomics.glcm\")\n",
    "logger.setLevel(logging.ERROR) #Dégager les message inutiles (car on y a fait attention)\n",
    "\n",
    "for num, li_image_names in tqdm.tqdm(enumerate(ls_image_full_time)):\n",
    "    li_mask_names = [image_name.replace('_NAT','').replace('.nii','_masked.nii') for image_name in li_image_names]\n",
    "\n",
    "    ###### TODo : A REFAIRE\n",
    "    \n",
    "    \n",
    "    classe_name = li_image_names[0].split('/')[-2].split('_')[1]\n",
    "    temps_inj = li_image_names[0].split('_')[-1].split('.')[0]\n",
    "    patient_num = li_image_names[0].split('/')[-1].split('_')[0]\n",
    "    \n",
    "    li_images = [sitk.ReadImage(image_name) for image_name in li_image_names]\n",
    "    li_mask = [sitk.ReadImage(mask_name) !=  0 for mask_name in li_mask_names]\n",
    "    \n",
    "    li_mask, li_images = equalize_slices(ls_image_full_time, dict_image_full_time,num = num, key = None, show = False)\n",
    "\n",
    "\n",
    "    #RESTE!!!! A FAIRE\n",
    "    for slice_num in range(mask_sitk.GetSize()[-1]):\n",
    "        \n",
    "        mask_sain_name = mask_sain_name_incomplet + str(slice_num) + '.npy'\n",
    "        slice_mask = mask_sitk[:,:,slice_num]\n",
    "        slice_img = mr_sitk[:,:,slice_num]\n",
    "        \n",
    "        lsif = sitk.LabelStatisticsImageFilter()\n",
    "        lsif.Execute(slice_img, slice_mask)\n",
    "        boundingBox = np.array(lsif.GetBoundingBox(label))\n",
    "        ndims = np.sum((boundingBox[1::2] - boundingBox[0::2] + 1) > 3)  # UBound - LBound + 1 = Size\n",
    "        #print('ndims ',ndims)\n",
    "        if (sitk.GetArrayFromImage(slice_mask).sum() > 0) & (ndims >= minDims):\n",
    "            # slice_old = slice_img\n",
    "            slice_mask_sain_np = np.load(mask_sain_name)\n",
    "            slice_mask_sain = sitk.GetImageFromArray(slice_mask_sain_np)\n",
    "            slice_mask_sain.CopyInformation(slice_img)\n",
    "            \n",
    "            lsif = sitk.LabelStatisticsImageFilter()\n",
    "            lsif.Execute(slice_img, slice_mask_sain)\n",
    "            boundingBox = np.array(lsif.GetBoundingBox(label))\n",
    "            ndims = np.sum((boundingBox[1::2] - boundingBox[0::2] + 1) > 3)  # UBound - LBound + 1 = Size\n",
    "            if (sitk.GetArrayFromImage(slice_mask_sain).sum() > 0) & (ndims >= minDims):\n",
    "                try:\n",
    "                    problem = False\n",
    "                    #print(\"for extrac\",ndims)\n",
    "                    slice_img = mr_sitk[:,:,slice_num] \n",
    "                    feature_vector_sain = extractor_sain.execute(slice_img, slice_mask_sain)\n",
    "                    #print(\"extracted\")\n",
    "                    featureVector = extractor.execute(slice_img, slice_mask)\n",
    "                    featureVector['slice_num'] = slice_num\n",
    "                    df_idx = pd.DataFrame(dict([ (k,pd.Series(v)) for k,v in featureVector.items() ])).iloc[0]\n",
    "                    df_idx_sain = pd.DataFrame(dict([ (\"sain_\" + k,pd.Series(v)) for k,v in feature_vector_sain.items() ])).iloc[0]\n",
    "                    df_idx = pd.concat([df_idx,df_idx_sain])\n",
    "                    df_idx['classe_name'] = classe_name\n",
    "                    df_idx['temps_inj'] = temps_inj\n",
    "                    df_idx['patient_num'] = patient_num\n",
    "                    # al_dat_slice = al_dat_slice.append(df_idx)\n",
    "                    df_idx = pd.DataFrame(df_idx).T\n",
    "                    al_dat_slice = pd.concat([df_idx,al_dat_slice])\n",
    "                except Exception as e:\n",
    "                    print(f'erreur pour slice {slice_num} pour image {imageName}')\n",
    "                    print(e)\n",
    "                    problem = True\n",
    "            else:\n",
    "                problem = True\n",
    "                print(f'slice {slice_num} non valide sur zone saine pour image {imageName}')\n",
    "            if problem:\n",
    "                slice_img = mr_sitk[:,:,slice_num] \n",
    "                feature_vector_sain = extractor_sain.execute(slice_img, slice_mask)\n",
    "                featureVector = extractor.execute(slice_img, slice_mask)\n",
    "                featureVector['slice_num'] = slice_num\n",
    "                df_idx = pd.DataFrame(dict([ (k,pd.Series(v)) for k,v in featureVector.items() ])).iloc[0]\n",
    "                df_idx_sain = pd.DataFrame(dict([ (\"sain_\" + k,pd.Series(v)) for k,v in feature_vector_sain.items() ])).iloc[0]\n",
    "                df_idx_sain[:] = np.nan\n",
    "                df_idx = pd.concat([df_idx,df_idx_sain])\n",
    "                df_idx['classe_name'] = classe_name\n",
    "                df_idx['temps_inj'] = temps_inj\n",
    "                df_idx['patient_num'] = patient_num\n",
    "                # al_dat_slice = al_dat_slice.append(df_idx)\n",
    "                df_idx = pd.DataFrame(df_idx).T\n",
    "                al_dat_slice = pd.concat([df_idx,al_dat_slice])\n",
    "     "
   ]
  },
  {
   "cell_type": "code",
   "execution_count": 15,
   "id": "60c43da0",
   "metadata": {},
   "outputs": [
    {
     "name": "stdout",
     "output_type": "stream",
     "text": [
      "{'firstorder': [], 'shape2D': [], 'glrlm': [], 'glszm': [], 'gldm': [], 'ngtdm': [], 'glcm': ['Autocorrelation', 'ClusterProminence', 'ClusterShade', 'ClusterTendency', 'Contrast', 'Correlation', 'DifferenceAverage', 'DifferenceEntropy', 'DifferenceVariance', 'Id', 'Idm', 'Idmn', 'Idn', 'Imc1', 'Imc2', 'InverseVariance', 'JointEnergy', 'JointEntropy', 'MCC', 'MaximumProbability', 'SumAverage', 'SumEntropy', 'SumSquares']}\n",
      "{'firstorder': [], 'glrlm': [], 'glszm': [], 'gldm': [], 'ngtdm': [], 'glcm': ['Autocorrelation', 'ClusterProminence', 'ClusterShade', 'ClusterTendency', 'Contrast', 'Correlation', 'DifferenceAverage', 'DifferenceEntropy', 'DifferenceVariance', 'Id', 'Idm', 'Idmn', 'Idn', 'Imc1', 'Imc2', 'InverseVariance', 'JointEnergy', 'JointEntropy', 'MCC', 'MaximumProbability', 'SumAverage', 'SumEntropy', 'SumSquares']}\n"
     ]
    }
   ],
   "source": [
    "print(extractor.enabledFeatures)\n",
    "print(extractor_sain.enabledFeatures)"
   ]
  },
  {
   "cell_type": "code",
   "execution_count": 284,
   "id": "85e4c54a",
   "metadata": {},
   "outputs": [
    {
     "name": "stdout",
     "output_type": "stream",
     "text": [
      "[0 0 0 0 0 0 0 0 0 0 0 0 0 0 0 0 0 0 0 0 0 0 0 0 0 0 0 0 0 0 0 0 0 0 0 0 0\n",
      " 0 0 0 0 0 0 0 0 0 0 0 0 0 0 0 0 0 0 0 0 0 0 0 0 0 0 0 0 0 0 0 0 0 0 0 0 0\n",
      " 0 0 0 0 0 0 0 0 0 0 0 0 0 0 0 0 0 0 0 0 0 0 0 0 0 0 0 0 0 0 0 0 0 0 0 0 0\n",
      " 0 0 0 0 0 0 0 0 0 0 0 0 0 0 0 0 1 3 1 0 0 0 0 0 0 0 0 0 0 0 0 0 0 0 0 0 0\n",
      " 0 0 0 0 0 0 0 0 0 0 0 0 0 0 0 0 0 0 0 0 0 0 0 0 0 0 0 0 0 0 0 0 0 0 0 0 0\n",
      " 0 0 0 0 0 0 0 0 0 0 0 0 0 0 0 0 0 0 0 0 0 0 0]\n",
      "2\n",
      "{'minimumROIDimensions': 2, 'minimumROISize': None, 'normalize': False, 'normalizeScale': 1, 'removeOutliers': None, 'resampledPixelSpacing': [2, 2], 'interpolator': 'sitkBSpline', 'preCrop': False, 'padDistance': 5, 'distances': [1], 'force2D': True, 'force2Ddimension': True, 'resegmentRange': None, 'label': 1, 'additionalInfo': True, 'binWidth': 25, 'verbose': True}\n",
      "[225 227 127 129]\n",
      "ndims  0\n",
      "[2 2]\n"
     ]
    }
   ],
   "source": [
    "a=sitk.GetArrayFromImage(slice_mask)\n",
    "print(a.sum(axis=1))\n",
    "print(slice_old.GetDimension())\n",
    "print(extractor.settings)\n",
    "label=extractor.settings.get('label')\n",
    "label=1\n",
    "lsif = sitk.LabelStatisticsImageFilter()\n",
    "lsif.Execute(slice_img, slice_mask)\n",
    "boundingBox = np.array(lsif.GetBoundingBox(label))\n",
    "print(boundingBox)\n",
    "ndims = np.sum((boundingBox[1::2] - boundingBox[0::2] + 1) > 3)  # UBound - LBound + 1 = Size\n",
    "print('ndims ',ndims)\n",
    "a = boundingBox[1::2] - boundingBox[0::2]\n",
    "print(a)"
   ]
  },
  {
   "cell_type": "code",
   "execution_count": 289,
   "id": "5d181dd2",
   "metadata": {},
   "outputs": [
    {
     "data": {
      "text/plain": [
       "1"
      ]
     },
     "execution_count": 289,
     "metadata": {},
     "output_type": "execute_result"
    }
   ],
   "source": [
    "extr=extractor.settings\n",
    "label=extractor.settings.get('label')\n",
    "label"
   ]
  },
  {
   "cell_type": "code",
   "execution_count": 24,
   "id": "ed86cc48",
   "metadata": {},
   "outputs": [],
   "source": [
    "al_dat_slice.to_csv('./liver_tumors_slices_LLB.csv')\n",
    "al_dat_slice.to_excel('../multislice_excel_with_shape_2D_sain.xlsx', index = False)"
   ]
  },
  {
   "cell_type": "code",
   "execution_count": 115,
   "id": "9f062763",
   "metadata": {},
   "outputs": [
    {
     "name": "stdout",
     "output_type": "stream",
     "text": [
      "  diagnostics_Versions_PyRadiomics diagnostics_Versions_Numpy  \\\n",
      "0                           v3.0.1                     1.24.3   \n",
      "0                           v3.0.1                     1.24.3   \n",
      "0                           v3.0.1                     1.24.3   \n",
      "0                           v3.0.1                     1.24.3   \n",
      "0                           v3.0.1                     1.24.3   \n",
      "0                           v3.0.1                     1.24.3   \n",
      "0                           v3.0.1                     1.24.3   \n",
      "0                           v3.0.1                     1.24.3   \n",
      "0                           v3.0.1                     1.24.3   \n",
      "0                           v3.0.1                     1.24.3   \n",
      "0                           v3.0.1                     1.24.3   \n",
      "0                           v3.0.1                     1.24.3   \n",
      "0                           v3.0.1                     1.24.3   \n",
      "0                           v3.0.1                     1.24.3   \n",
      "0                           v3.0.1                     1.24.3   \n",
      "0                           v3.0.1                     1.24.3   \n",
      "0                           v3.0.1                     1.24.3   \n",
      "0                           v3.0.1                     1.24.3   \n",
      "0                           v3.0.1                     1.24.3   \n",
      "0                           v3.0.1                     1.24.3   \n",
      "0                           v3.0.1                     1.24.3   \n",
      "0                           v3.0.1                     1.24.3   \n",
      "0                           v3.0.1                     1.24.3   \n",
      "0                           v3.0.1                     1.24.3   \n",
      "0                           v3.0.1                     1.24.3   \n",
      "0                           v3.0.1                     1.24.3   \n",
      "0                           v3.0.1                     1.24.3   \n",
      "0                           v3.0.1                     1.24.3   \n",
      "0                           v3.0.1                     1.24.3   \n",
      "0                           v3.0.1                     1.24.3   \n",
      "0                           v3.0.1                     1.24.3   \n",
      "0                           v3.0.1                     1.24.3   \n",
      "\n",
      "  diagnostics_Versions_SimpleITK diagnostics_Versions_PyWavelet  \\\n",
      "0                          2.3.1                          1.4.1   \n",
      "0                          2.3.1                          1.4.1   \n",
      "0                          2.3.1                          1.4.1   \n",
      "0                          2.3.1                          1.4.1   \n",
      "0                          2.3.1                          1.4.1   \n",
      "0                          2.3.1                          1.4.1   \n",
      "0                          2.3.1                          1.4.1   \n",
      "0                          2.3.1                          1.4.1   \n",
      "0                          2.3.1                          1.4.1   \n",
      "0                          2.3.1                          1.4.1   \n",
      "0                          2.3.1                          1.4.1   \n",
      "0                          2.3.1                          1.4.1   \n",
      "0                          2.3.1                          1.4.1   \n",
      "0                          2.3.1                          1.4.1   \n",
      "0                          2.3.1                          1.4.1   \n",
      "0                          2.3.1                          1.4.1   \n",
      "0                          2.3.1                          1.4.1   \n",
      "0                          2.3.1                          1.4.1   \n",
      "0                          2.3.1                          1.4.1   \n",
      "0                          2.3.1                          1.4.1   \n",
      "0                          2.3.1                          1.4.1   \n",
      "0                          2.3.1                          1.4.1   \n",
      "0                          2.3.1                          1.4.1   \n",
      "0                          2.3.1                          1.4.1   \n",
      "0                          2.3.1                          1.4.1   \n",
      "0                          2.3.1                          1.4.1   \n",
      "0                          2.3.1                          1.4.1   \n",
      "0                          2.3.1                          1.4.1   \n",
      "0                          2.3.1                          1.4.1   \n",
      "0                          2.3.1                          1.4.1   \n",
      "0                          2.3.1                          1.4.1   \n",
      "0                          2.3.1                          1.4.1   \n",
      "\n",
      "  diagnostics_Versions_Python diagnostics_Configuration_Settings  \\\n",
      "0                      3.11.5                                NaN   \n",
      "0                      3.11.5                                NaN   \n",
      "0                      3.11.5                                NaN   \n",
      "0                      3.11.5                                NaN   \n",
      "0                      3.11.5                                NaN   \n",
      "0                      3.11.5                                NaN   \n",
      "0                      3.11.5                                NaN   \n",
      "0                      3.11.5                                NaN   \n",
      "0                      3.11.5                                NaN   \n",
      "0                      3.11.5                                NaN   \n",
      "0                      3.11.5                                NaN   \n",
      "0                      3.11.5                                NaN   \n",
      "0                      3.11.5                                NaN   \n",
      "0                      3.11.5                                NaN   \n",
      "0                      3.11.5                                NaN   \n",
      "0                      3.11.5                                NaN   \n",
      "0                      3.11.5                                NaN   \n",
      "0                      3.11.5                                NaN   \n",
      "0                      3.11.5                                NaN   \n",
      "0                      3.11.5                                NaN   \n",
      "0                      3.11.5                                NaN   \n",
      "0                      3.11.5                                NaN   \n",
      "0                      3.11.5                                NaN   \n",
      "0                      3.11.5                                NaN   \n",
      "0                      3.11.5                                NaN   \n",
      "0                      3.11.5                                NaN   \n",
      "0                      3.11.5                                NaN   \n",
      "0                      3.11.5                                NaN   \n",
      "0                      3.11.5                                NaN   \n",
      "0                      3.11.5                                NaN   \n",
      "0                      3.11.5                                NaN   \n",
      "0                      3.11.5                                NaN   \n",
      "\n",
      "  diagnostics_Configuration_EnabledImageTypes  \\\n",
      "0                                         NaN   \n",
      "0                                         NaN   \n",
      "0                                         NaN   \n",
      "0                                         NaN   \n",
      "0                                         NaN   \n",
      "0                                         NaN   \n",
      "0                                         NaN   \n",
      "0                                         NaN   \n",
      "0                                         NaN   \n",
      "0                                         NaN   \n",
      "0                                         NaN   \n",
      "0                                         NaN   \n",
      "0                                         NaN   \n",
      "0                                         NaN   \n",
      "0                                         NaN   \n",
      "0                                         NaN   \n",
      "0                                         NaN   \n",
      "0                                         NaN   \n",
      "0                                         NaN   \n",
      "0                                         NaN   \n",
      "0                                         NaN   \n",
      "0                                         NaN   \n",
      "0                                         NaN   \n",
      "0                                         NaN   \n",
      "0                                         NaN   \n",
      "0                                         NaN   \n",
      "0                                         NaN   \n",
      "0                                         NaN   \n",
      "0                                         NaN   \n",
      "0                                         NaN   \n",
      "0                                         NaN   \n",
      "0                                         NaN   \n",
      "\n",
      "            diagnostics_Image-original_Hash  \\\n",
      "0  90b4917c9c4ef8d97fd62f1bf630ecc89e3233ff   \n",
      "0  53f496ce2bb929242ee4b68251fda7097247e4d4   \n",
      "0  53caf7af3d06d4d1855afb904f265d6a1b27c35d   \n",
      "0  ddeff3f153cbd90fac0b04229e20b46f9d250447   \n",
      "0  f7c3beaeb94ca98bfcbadaac91b882178acee41b   \n",
      "0  fef68cb7c0f32a654a04860d0778adfecb90cdfe   \n",
      "0  a7336b6038eda567e3c68066e9beb98fda899b18   \n",
      "0  eea1fb35421311e93cd9372ac6723b19b6223342   \n",
      "0  9e8df2968972e0b591cf10caad3fc65775a434d3   \n",
      "0  dcc25f784aece272d3bdecbbbfbae200cfee26bb   \n",
      "0  7b18313be1fd933fb79e389c327113ebadba9845   \n",
      "0  ad92adcd2a8a4b56aad47e48f3c9739887887b3b   \n",
      "0  c5e5182b07a61fda22e39f7175824bb002a4bb2e   \n",
      "0  1809a8e655e457697d9b00740036e1db9c24cfa8   \n",
      "0  e5cf72b0751e6db368176d907dc4070c96488c8e   \n",
      "0  5aa6e92ff886985bf4731ccb9e914f619569c425   \n",
      "0  659e0bc54064893445cec6ec71da2f8b22664c30   \n",
      "0  0f6d1baaa587ae108fe1e3e164f21d9bd34f957c   \n",
      "0  7a248bb768834ec03354441cc9556c23e0bd53a2   \n",
      "0  93e1009b11e8aadf483181ba8ae8eed260c8d00e   \n",
      "0  2a2910503c853e6c387c6d9547475456d308e529   \n",
      "0  9975d7c13e6bbc78c61a704cc9d8fa72ab14d125   \n",
      "0  bf308555dc72b0987ebb0126e73e2330ec707a9c   \n",
      "0  b85e34515e89a2d8e4d54bfc9e4e720b01964b05   \n",
      "0  1021bb22febba330759d0c3b5c4cf441d36171e1   \n",
      "0  276dd3d34ee168be7e776d7e9db34454594cce5a   \n",
      "0  955a34877c0be795ae3e9ca086baf0766fedd41f   \n",
      "0  5a938b84ef4d0e2d08fec7ad7fff5b5c836302ee   \n",
      "0  b939d89ff6c6ae96725eda6a80ea3f9e564daf69   \n",
      "0  eb5f9d132c4040ee9e22e9e3396af96828a33ebd   \n",
      "0  886ff19f54e6c345f028550bd634be54ab6da54a   \n",
      "0  2fc4f9bd49da60c85eea21e9101fd751434ce75d   \n",
      "\n",
      "  diagnostics_Image-original_Dimensionality  \\\n",
      "0                                        2D   \n",
      "0                                        2D   \n",
      "0                                        2D   \n",
      "0                                        2D   \n",
      "0                                        2D   \n",
      "0                                        2D   \n",
      "0                                        2D   \n",
      "0                                        2D   \n",
      "0                                        2D   \n",
      "0                                        2D   \n",
      "0                                        2D   \n",
      "0                                        2D   \n",
      "0                                        2D   \n",
      "0                                        2D   \n",
      "0                                        2D   \n",
      "0                                        2D   \n",
      "0                                        2D   \n",
      "0                                        2D   \n",
      "0                                        2D   \n",
      "0                                        2D   \n",
      "0                                        2D   \n",
      "0                                        2D   \n",
      "0                                        2D   \n",
      "0                                        2D   \n",
      "0                                        2D   \n",
      "0                                        2D   \n",
      "0                                        2D   \n",
      "0                                        2D   \n",
      "0                                        2D   \n",
      "0                                        2D   \n",
      "0                                        2D   \n",
      "0                                        2D   \n",
      "\n",
      "  diagnostics_Image-original_Spacing  ... original_glszm_ZoneVariance  \\\n",
      "0                            1.09375  ...          0.7315695600475625   \n",
      "0                            1.09375  ...           0.968836565096953   \n",
      "0                            1.09375  ...          1.7545618294306524   \n",
      "0                            1.09375  ...          1.4527125458889345   \n",
      "0                            1.09375  ...          1.8211702827087444   \n",
      "0                            1.09375  ...          1.6363636363636365   \n",
      "0                            1.09375  ...          2.2469135802469133   \n",
      "0                            1.09375  ...          1.9995169665499337   \n",
      "0                            1.09375  ...           1.988373702422145   \n",
      "0                            1.09375  ...          3.4078443877551017   \n",
      "0                            1.09375  ...          3.6934171597633134   \n",
      "0                            1.09375  ...          2.7612456747404845   \n",
      "0                            1.09375  ...           2.316405047706987   \n",
      "0                            1.09375  ...           1.600237953599048   \n",
      "0                            1.09375  ...                    2.296875   \n",
      "0                            1.09375  ...           2.024234693877551   \n",
      "0                            1.09375  ...           0.778162245290273   \n",
      "0                            1.09375  ...          0.8870373337606153   \n",
      "0                            1.09375  ...          1.7016930932545016   \n",
      "0                            1.09375  ...          0.7777777777777779   \n",
      "0                            1.09375  ...          0.7324509220701962   \n",
      "0                            1.09375  ...          0.9630177514792899   \n",
      "0                            1.09375  ...          0.8970051132213295   \n",
      "0                            1.09375  ...          0.7069807526572823   \n",
      "0                            1.09375  ...           0.613416379092669   \n",
      "0                            1.09375  ...          1.0254501385041552   \n",
      "0                            1.09375  ...           1.350129757785467   \n",
      "0                            1.09375  ...          0.7774653979238755   \n",
      "0                            1.09375  ...           1.149722222222222   \n",
      "0                            1.09375  ...          0.9427083333333333   \n",
      "0                            1.09375  ...            1.23265306122449   \n",
      "0                            1.09375  ...          0.6543253826984692   \n",
      "\n",
      "  original_ngtdm_Busyness original_ngtdm_Coarseness original_ngtdm_Complexity  \\\n",
      "0     0.11377883650952857       0.09807162534435264        29.587471201129752   \n",
      "0     0.15224729938271603       0.08235666772252138        23.272078021815535   \n",
      "0      0.3246080627099664       0.04570935748167314         16.87475782594982   \n",
      "0      1.1188212927756653       0.04531294250920419         5.497988015789018   \n",
      "0      0.9829088471849866       0.04398227071258098         7.547871019544883   \n",
      "0      0.7620837808807734       0.06201550387596899          5.66837728350654   \n",
      "0      0.5123723487824038       0.06554235339210425         7.626395286385728   \n",
      "0      0.7607668067226893       0.06213324128408698        5.5550521995974895   \n",
      "0      0.6017798690671032       0.05337412884582696         9.480557012549335   \n",
      "0      0.3332070707070707       0.09321712769988633          6.64693660699438   \n",
      "0      0.3282480314960631       0.08320839580209895          8.18028811196863   \n",
      "0      0.5143360160965793       0.10268948655256725         6.135265727918442   \n",
      "0     0.31274382314694416       0.10498960498960498          9.37241205258029   \n",
      "0     0.19371727748691098       0.10540540540540541        12.118725564032944   \n",
      "0                     0.2       0.14018691588785046         6.899719789254672   \n",
      "0    0.036374930977360574       0.20113851992409867         30.13846004065059   \n",
      "0     0.08367637745408488        0.1684011352885525        19.617988497505916   \n",
      "0     0.11201456310679614       0.09389671361502346        29.815746122124033   \n",
      "0     0.21096534653465343       0.04974774140560836        28.892917937444263   \n",
      "0      0.6409387853859182       0.04530011325028314        11.962581047495048   \n",
      "0      0.6493632021833067       0.04517993170475441        11.977015701148591   \n",
      "0       0.520021645021645       0.06104751994450225        12.974604968471397   \n",
      "0      0.2779957582184518       0.06522983024985694         24.33419612700219   \n",
      "0      0.4213216957605986       0.05327019828351583        21.634735887133594   \n",
      "0       0.373477157360406       0.05334692490655794        24.391312728980004   \n",
      "0      0.2635484749455338       0.06354947042107982        20.990044199045144   \n",
      "0      0.2988313856427379       0.06201117318435754        19.548476539521044   \n",
      "0      0.3161666666666667       0.11070110701107011         9.403387149193293   \n",
      "0     0.24632003798670468       0.09734939759036144        16.118740483949814   \n",
      "0      0.3042929292929293       0.09247184350918791        14.859371469460479   \n",
      "0      0.3286897590361446       0.13745704467353953        6.7631963111745055   \n",
      "0     0.06505524861878452       0.15711252653927812         42.90623875332029   \n",
      "\n",
      "  original_ngtdm_Contrast original_ngtdm_Strength slice_num classe_name  \\\n",
      "0    0.040981313441520915      5.0235105278066285      41.0         CCK   \n",
      "0     0.03550599302078593      3.4441025641025633      40.0         CCK   \n",
      "0     0.02940228657717445      1.8018867924528303      39.0         CCK   \n",
      "0     0.03598127652391976      0.5034146341463415      38.0         CCK   \n",
      "0      0.0251952417021216      0.7791276177253269      37.0         CCK   \n",
      "0     0.03948276671675432      0.7457002457002457      36.0         CCK   \n",
      "0    0.027110713070765555      1.1328568334416287      35.0         CCK   \n",
      "0     0.03896588934613627      0.7477477477477477      34.0         CCK   \n",
      "0    0.029333898280662445      0.9492500513663447      33.0         CCK   \n",
      "0     0.01961021394865942       1.737127371273713      32.0         CCK   \n",
      "0    0.022686361619889746      1.5596241402693016      31.0         CCK   \n",
      "0     0.04187170571932476      1.1838509316770185      30.0         CCK   \n",
      "0     0.04821891854904538       1.586798679867987      29.0         CCK   \n",
      "0     0.04295630405097861       2.528205128205128      28.0         CCK   \n",
      "0    0.021756172839506167       2.208805031446541      27.0         CCK   \n",
      "0      0.0551426528427677      15.351901766996106      26.0         CCK   \n",
      "0    0.055395627325456845        6.09465440926115      41.0         CCK   \n",
      "0     0.05111766872181074       4.981406323737612      40.0         CCK   \n",
      "0     0.03369780125081901      2.6787083908574933      39.0         CCK   \n",
      "0    0.030808969649057542      0.9863173216885006      38.0         CCK   \n",
      "0     0.03976982110589844      0.9373881932021467      37.0         CCK   \n",
      "0    0.040972755614736504      1.2914004914004915      36.0         CCK   \n",
      "0     0.03564849118922736       2.446522397363968      35.0         CCK   \n",
      "0    0.055262064662399024      1.6200746965452848      34.0         CCK   \n",
      "0    0.055806481241499735      1.6123124026133784      33.0         CCK   \n",
      "0    0.039808505031973446       2.157598499061914      32.0         CCK   \n",
      "0     0.05719927378072009      1.7653315966568977      31.0         CCK   \n",
      "0      0.0829636211249428      1.7649717514124295      30.0         CCK   \n",
      "0     0.07857606660577832      1.9823680998236806      29.0         CCK   \n",
      "0     0.06746714093854134      1.7496229260935143      28.0         CCK   \n",
      "0      0.0409358024691358      1.7491525423728813      27.0         CCK   \n",
      "0      0.1622970669720122      11.937100737100739      26.0         CCK   \n",
      "\n",
      "  temps_inj                 patient_num  \n",
      "0      TARD  C:\\DATA\\RECHERCHE\\Database  \n",
      "0      TARD  C:\\DATA\\RECHERCHE\\Database  \n",
      "0      TARD  C:\\DATA\\RECHERCHE\\Database  \n",
      "0      TARD  C:\\DATA\\RECHERCHE\\Database  \n",
      "0      TARD  C:\\DATA\\RECHERCHE\\Database  \n",
      "0      TARD  C:\\DATA\\RECHERCHE\\Database  \n",
      "0      TARD  C:\\DATA\\RECHERCHE\\Database  \n",
      "0      TARD  C:\\DATA\\RECHERCHE\\Database  \n",
      "0      TARD  C:\\DATA\\RECHERCHE\\Database  \n",
      "0      TARD  C:\\DATA\\RECHERCHE\\Database  \n",
      "0      TARD  C:\\DATA\\RECHERCHE\\Database  \n",
      "0      TARD  C:\\DATA\\RECHERCHE\\Database  \n",
      "0      TARD  C:\\DATA\\RECHERCHE\\Database  \n",
      "0      TARD  C:\\DATA\\RECHERCHE\\Database  \n",
      "0      TARD  C:\\DATA\\RECHERCHE\\Database  \n",
      "0      TARD  C:\\DATA\\RECHERCHE\\Database  \n",
      "0      PORT  C:\\DATA\\RECHERCHE\\Database  \n",
      "0      PORT  C:\\DATA\\RECHERCHE\\Database  \n",
      "0      PORT  C:\\DATA\\RECHERCHE\\Database  \n",
      "0      PORT  C:\\DATA\\RECHERCHE\\Database  \n",
      "0      PORT  C:\\DATA\\RECHERCHE\\Database  \n",
      "0      PORT  C:\\DATA\\RECHERCHE\\Database  \n",
      "0      PORT  C:\\DATA\\RECHERCHE\\Database  \n",
      "0      PORT  C:\\DATA\\RECHERCHE\\Database  \n",
      "0      PORT  C:\\DATA\\RECHERCHE\\Database  \n",
      "0      PORT  C:\\DATA\\RECHERCHE\\Database  \n",
      "0      PORT  C:\\DATA\\RECHERCHE\\Database  \n",
      "0      PORT  C:\\DATA\\RECHERCHE\\Database  \n",
      "0      PORT  C:\\DATA\\RECHERCHE\\Database  \n",
      "0      PORT  C:\\DATA\\RECHERCHE\\Database  \n",
      "0      PORT  C:\\DATA\\RECHERCHE\\Database  \n",
      "0      PORT  C:\\DATA\\RECHERCHE\\Database  \n",
      "\n",
      "[32 rows x 134 columns]\n"
     ]
    }
   ],
   "source": [
    "print(al_dat_slice)"
   ]
  },
  {
   "cell_type": "code",
   "execution_count": 6,
   "id": "29dc4de5",
   "metadata": {},
   "outputs": [
    {
     "name": "stdout",
     "output_type": "stream",
     "text": [
      "    a   b\n",
      "0 NaN NaN\n",
      "1 NaN NaN\n",
      "2 NaN NaN\n"
     ]
    }
   ],
   "source": [
    "pd_df  = pd.DataFrame({\"a\" : [1,2,3], \"b\" : [4,5,6]})\n",
    "pd_df[:] = np.nan\n",
    "print(pd_df)"
   ]
  }
 ],
 "metadata": {
  "kernelspec": {
   "display_name": "Python 3 (ipykernel)",
   "language": "python",
   "name": "python3"
  },
  "language_info": {
   "codemirror_mode": {
    "name": "ipython",
    "version": 3
   },
   "file_extension": ".py",
   "mimetype": "text/x-python",
   "name": "python",
   "nbconvert_exporter": "python",
   "pygments_lexer": "ipython3",
   "version": "3.7.12"
  }
 },
 "nbformat": 4,
 "nbformat_minor": 5
}
